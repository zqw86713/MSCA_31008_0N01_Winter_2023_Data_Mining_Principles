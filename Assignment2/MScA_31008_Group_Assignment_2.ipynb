{
 "cells": [
  {
   "attachments": {},
   "cell_type": "markdown",
   "metadata": {
    "tags": []
   },
   "source": [
    "# MSCA 31008 - Data Mining Assignment 2 (Group 4)\n",
    "<b>Prinu Mathew, Qingwei Zhang, Jake Brewer</b><br>\n",
    "<b>Winter 2023</b>"
   ]
  },
  {
   "cell_type": "markdown",
   "metadata": {
    "tags": []
   },
   "source": [
    "### Import Libraries  "
   ]
  },
  {
   "cell_type": "code",
   "execution_count": 1,
   "metadata": {},
   "outputs": [],
   "source": [
    "import sys, os, json, subprocess\n",
    "\n",
    "## for data\n",
    "import pandas as pd\n",
    "import numpy as np\n",
    "import datetime\n",
    "import random\n",
    "\n",
    "## for machine learning\n",
    "from scipy import stats\n",
    "from scipy.spatial.distance import cdist\n",
    "\n",
    "import warnings\n",
    "warnings.filterwarnings('ignore')"
   ]
  },
  {
   "cell_type": "code",
   "execution_count": 3,
   "metadata": {},
   "outputs": [
    {
     "name": "stdout",
     "output_type": "stream",
     "text": [
      "No module named 'kneed'\n",
      "~~~ Installing required packages for machine learning ~~~~\n"
     ]
    }
   ],
   "source": [
    "## for machine learning\n",
    "try:\n",
    "    from kneed import KneeLocator\n",
    "    from sklearn.model_selection import train_test_split\n",
    "    from sklearn.preprocessing import MinMaxScaler\n",
    "    from sklearn.cluster import KMeans\n",
    "    from sklearn.mixture import GaussianMixture\n",
    "    from sklearn.metrics import silhouette_score\n",
    "    import sklearn.datasets\n",
    "        \n",
    "    print(\"~~~ Already installed required packages for machine learning ~~~~\")\n",
    "except Exception as e:\n",
    "    print(e)\n",
    "    \n",
    "    print(\"~~~ Installing required packages for machine learning ~~~~\")\n",
    "    subprocess.check_call([sys.executable, \"-m\", \"pip\", \"install\", \"--upgrade\", \"kneed\"])\n",
    "    subprocess.check_call([sys.executable, \"-m\", \"pip\", \"install\", \"--upgrade\", \"scikit-learn\"])\n",
    "    from sklearn.model_selection import train_test_split\n",
    "    from sklearn.preprocessing import MinMaxScaler\n",
    "    from sklearn.cluster import KMeans\n",
    "    from sklearn.mixture import GaussianMixture\n",
    "    from sklearn.metrics import silhouette_score\n",
    "    import sklearn.datasets"
   ]
  },
  {
   "cell_type": "code",
   "execution_count": null,
   "metadata": {},
   "outputs": [
    {
     "name": "stdout",
     "output_type": "stream",
     "text": [
      "~~~ Already installed required packages for interactive visualizations ~~~~\n"
     ]
    }
   ],
   "source": [
    "## for interactive visualization\n",
    "try:\n",
    "    import matplotlib.pyplot as plt\n",
    "    import seaborn as sns\n",
    "    \n",
    "    print(\"~~~ Already installed required packages for interactive visualizations ~~~~\")\n",
    "except Exception as e:\n",
    "    print(e)\n",
    "    \n",
    "    print(\"~~~ Installing required packages for interactive visualizations ~~~~\")\n",
    "    subprocess.check_call([sys.executable, \"-m\", \"pip\", \"install\", \"--upgrade\", \"matplotlib\"])\n",
    "    subprocess.check_call([sys.executable, \"-m\", \"pip\", \"install\", \"--upgrade\", \"seaborn\"])\n",
    "    import matplotlib.pyplot as plt\n",
    "    import seaborn as sns\n",
    "    \n",
    "%matplotlib inline"
   ]
  },
  {
   "attachments": {},
   "cell_type": "markdown",
   "metadata": {},
   "source": [
    "## Functions"
   ]
  },
  {
   "cell_type": "code",
   "execution_count": null,
   "metadata": {},
   "outputs": [],
   "source": [
    "# function that returns the data point allocation to specific clusters based on feature weighting technique\n",
    "def get_cluster_feature_weights(n_clusters, centroids, ordered_feature_names):\n",
    "    labels = n_clusters\n",
    "    centroids = np.vectorize(lambda x: np.abs(x))(centroids)\n",
    "    sorted_centroid_features_idx = centroids.argsort(axis=1)[:,::-1]\n",
    "\n",
    "    cluster_feature_weights = {}\n",
    "    for label, centroid in zip(range(labels), sorted_centroid_features_idx):\n",
    "        ordered_cluster_feature_weights = centroids[label][sorted_centroid_features_idx[label]]\n",
    "        ordered_cluster_features = [ordered_feature_names[feature] for feature in centroid]\n",
    "        cluster_feature_weights[label] = list(zip(ordered_cluster_features, \n",
    "                                                  ordered_cluster_feature_weights))\n",
    "    \n",
    "    return cluster_feature_weights\n",
    "\n",
    "# function that returns the count of data points allocated to specific cluster based on cluster label\n",
    "def get_feature_count_by_cluster(n_clusters, df, ordered_feature_names):\n",
    "    cluster_feature_weights = {}\n",
    "    for index, row in df.iterrows():\n",
    "        label = int(row['Cluster'])\n",
    "        if(label in range(0, n_clusters)):\n",
    "            if(label in cluster_feature_weights):\n",
    "                weight_matrix = cluster_feature_weights[label]\n",
    "            else:\n",
    "                weight_matrix = []\n",
    "            for row_col in row.keys():\n",
    "                if(row_col in ordered_feature_names):\n",
    "                    weight_matrix_item_exist = False\n",
    "                    for weight_matrix_item in weight_matrix:                    \n",
    "                        if(row_col in weight_matrix_item):\n",
    "                            weight_matrix_item[row_col] = int(weight_matrix_item[row_col]) + 1\n",
    "                            weight_matrix_item_exist = True\n",
    "                            break\n",
    "                    \n",
    "                    if(weight_matrix_item_exist == False):\n",
    "                        weight_matrix.append({row_col : 1})\n",
    "\n",
    "            cluster_feature_weights[label] = weight_matrix\n",
    "\n",
    "    # convert dict to tuple for immutability\n",
    "    final_cluster_feature_weights = {}\n",
    "    for label in range(0, n_clusters):\n",
    "        final_weight_matrix = []\n",
    "        for item in cluster_feature_weights[label]:\n",
    "            final_weight_matrix.append([(k, v) for k, v in item.items()][0])\n",
    "\n",
    "        final_cluster_feature_weights[label] = final_weight_matrix\n",
    "\n",
    "    return final_cluster_feature_weights"
   ]
  },
  {
   "attachments": {},
   "cell_type": "markdown",
   "metadata": {},
   "source": [
    "## 1. Read dataset\n",
    "Include all variables except for MEDV (Median value of owner-occupied homes in $1000's). Since MEDV typically would be the target variable that we want to predict we should exclude it so that the clusters only consist of predictor (independent) variables.\n",
    "\n",
    "    CRIM - per capita crime rate by town\n",
    "    ZN - proportion of residential land zoned for lots over 25,000 sq.ft.\n",
    "    INDUS - proportion of non-retail business acres per town\n",
    "    CHAS - Charles River dummy variable (1 if tract bounds river; 0 otherwise)\n",
    "    NOX - nitric oxides concentration (parts per 10 million)\n",
    "    RM - average number of rooms per dwelling\n",
    "    AGE - proportion of owner-occupied units built prior to 1940\n",
    "    DIS - weighted distances to five Boston employment centres\n",
    "    RAD - index of accessibility to radial highways\n",
    "    TAX - full-value property-tax rate per $10,000\n",
    "    PTRATIO - pupil-teacher ratio by town\n",
    "    B - 1000(Bk - 0.63)^2 where Bk is the proportion of blacks by town\n",
    "    LSTAT - % lower status of the population\n",
    "    MEDV - Median value of owner-occupied homes in $1000's"
   ]
  },
  {
   "cell_type": "code",
   "execution_count": null,
   "metadata": {},
   "outputs": [
    {
     "data": {
      "text/html": [
       "<div>\n",
       "<style scoped>\n",
       "    .dataframe tbody tr th:only-of-type {\n",
       "        vertical-align: middle;\n",
       "    }\n",
       "\n",
       "    .dataframe tbody tr th {\n",
       "        vertical-align: top;\n",
       "    }\n",
       "\n",
       "    .dataframe thead th {\n",
       "        text-align: right;\n",
       "    }\n",
       "</style>\n",
       "<table border=\"1\" class=\"dataframe\">\n",
       "  <thead>\n",
       "    <tr style=\"text-align: right;\">\n",
       "      <th></th>\n",
       "      <th>CRIM</th>\n",
       "      <th>ZN</th>\n",
       "      <th>INDUS</th>\n",
       "      <th>CHAS</th>\n",
       "      <th>NOX</th>\n",
       "      <th>RM</th>\n",
       "      <th>AGE</th>\n",
       "      <th>DIS</th>\n",
       "      <th>RAD</th>\n",
       "      <th>TAX</th>\n",
       "      <th>PTRATIO</th>\n",
       "      <th>B</th>\n",
       "      <th>LSTAT</th>\n",
       "      <th>MEDV</th>\n",
       "    </tr>\n",
       "  </thead>\n",
       "  <tbody>\n",
       "    <tr>\n",
       "      <th>0</th>\n",
       "      <td>0.00632</td>\n",
       "      <td>18.0</td>\n",
       "      <td>2.31</td>\n",
       "      <td>0</td>\n",
       "      <td>0.538</td>\n",
       "      <td>6.575</td>\n",
       "      <td>65.2</td>\n",
       "      <td>4.0900</td>\n",
       "      <td>1</td>\n",
       "      <td>296.0</td>\n",
       "      <td>15.3</td>\n",
       "      <td>396.90</td>\n",
       "      <td>4.98</td>\n",
       "      <td>24.0</td>\n",
       "    </tr>\n",
       "    <tr>\n",
       "      <th>1</th>\n",
       "      <td>0.02731</td>\n",
       "      <td>0.0</td>\n",
       "      <td>7.07</td>\n",
       "      <td>0</td>\n",
       "      <td>0.469</td>\n",
       "      <td>6.421</td>\n",
       "      <td>78.9</td>\n",
       "      <td>4.9671</td>\n",
       "      <td>2</td>\n",
       "      <td>242.0</td>\n",
       "      <td>17.8</td>\n",
       "      <td>396.90</td>\n",
       "      <td>9.14</td>\n",
       "      <td>21.6</td>\n",
       "    </tr>\n",
       "    <tr>\n",
       "      <th>2</th>\n",
       "      <td>0.02729</td>\n",
       "      <td>0.0</td>\n",
       "      <td>7.07</td>\n",
       "      <td>0</td>\n",
       "      <td>0.469</td>\n",
       "      <td>7.185</td>\n",
       "      <td>61.1</td>\n",
       "      <td>4.9671</td>\n",
       "      <td>2</td>\n",
       "      <td>242.0</td>\n",
       "      <td>17.8</td>\n",
       "      <td>392.83</td>\n",
       "      <td>4.03</td>\n",
       "      <td>34.7</td>\n",
       "    </tr>\n",
       "    <tr>\n",
       "      <th>3</th>\n",
       "      <td>0.03237</td>\n",
       "      <td>0.0</td>\n",
       "      <td>2.18</td>\n",
       "      <td>0</td>\n",
       "      <td>0.458</td>\n",
       "      <td>6.998</td>\n",
       "      <td>45.8</td>\n",
       "      <td>6.0622</td>\n",
       "      <td>3</td>\n",
       "      <td>222.0</td>\n",
       "      <td>18.7</td>\n",
       "      <td>394.63</td>\n",
       "      <td>2.94</td>\n",
       "      <td>33.4</td>\n",
       "    </tr>\n",
       "    <tr>\n",
       "      <th>4</th>\n",
       "      <td>0.06905</td>\n",
       "      <td>0.0</td>\n",
       "      <td>2.18</td>\n",
       "      <td>0</td>\n",
       "      <td>0.458</td>\n",
       "      <td>7.147</td>\n",
       "      <td>54.2</td>\n",
       "      <td>6.0622</td>\n",
       "      <td>3</td>\n",
       "      <td>222.0</td>\n",
       "      <td>18.7</td>\n",
       "      <td>396.90</td>\n",
       "      <td>5.33</td>\n",
       "      <td>36.2</td>\n",
       "    </tr>\n",
       "  </tbody>\n",
       "</table>\n",
       "</div>"
      ],
      "text/plain": [
       "      CRIM    ZN  INDUS  CHAS    NOX     RM   AGE     DIS  RAD    TAX  \\\n",
       "0  0.00632  18.0   2.31     0  0.538  6.575  65.2  4.0900    1  296.0   \n",
       "1  0.02731   0.0   7.07     0  0.469  6.421  78.9  4.9671    2  242.0   \n",
       "2  0.02729   0.0   7.07     0  0.469  7.185  61.1  4.9671    2  242.0   \n",
       "3  0.03237   0.0   2.18     0  0.458  6.998  45.8  6.0622    3  222.0   \n",
       "4  0.06905   0.0   2.18     0  0.458  7.147  54.2  6.0622    3  222.0   \n",
       "\n",
       "   PTRATIO       B  LSTAT  MEDV  \n",
       "0     15.3  396.90   4.98  24.0  \n",
       "1     17.8  396.90   9.14  21.6  \n",
       "2     17.8  392.83   4.03  34.7  \n",
       "3     18.7  394.63   2.94  33.4  \n",
       "4     18.7  396.90   5.33  36.2  "
      ]
     },
     "execution_count": 35,
     "metadata": {},
     "output_type": "execute_result"
    }
   ],
   "source": [
    "# reading the CSV file\n",
    "input_df = pd.read_csv('BostonHousing.csv', quotechar='\"', delimiter = ',')\n",
    "input_df.head(10)\n",
    "X = input_df.drop(columns=['MEDV'])\n",
    "input_df.head()"
   ]
  },
  {
   "attachments": {},
   "cell_type": "markdown",
   "metadata": {},
   "source": [
    "## 2. Scale the Data Using MinMaxScaler"
   ]
  },
  {
   "cell_type": "code",
   "execution_count": null,
   "metadata": {},
   "outputs": [
    {
     "data": {
      "text/html": [
       "<div>\n",
       "<style scoped>\n",
       "    .dataframe tbody tr th:only-of-type {\n",
       "        vertical-align: middle;\n",
       "    }\n",
       "\n",
       "    .dataframe tbody tr th {\n",
       "        vertical-align: top;\n",
       "    }\n",
       "\n",
       "    .dataframe thead th {\n",
       "        text-align: right;\n",
       "    }\n",
       "</style>\n",
       "<table border=\"1\" class=\"dataframe\">\n",
       "  <thead>\n",
       "    <tr style=\"text-align: right;\">\n",
       "      <th></th>\n",
       "      <th>CRIM</th>\n",
       "      <th>ZN</th>\n",
       "      <th>INDUS</th>\n",
       "      <th>CHAS</th>\n",
       "      <th>NOX</th>\n",
       "      <th>RM</th>\n",
       "      <th>AGE</th>\n",
       "      <th>DIS</th>\n",
       "      <th>RAD</th>\n",
       "      <th>TAX</th>\n",
       "      <th>PTRATIO</th>\n",
       "      <th>B</th>\n",
       "      <th>LSTAT</th>\n",
       "    </tr>\n",
       "  </thead>\n",
       "  <tbody>\n",
       "    <tr>\n",
       "      <th>0</th>\n",
       "      <td>0.00632</td>\n",
       "      <td>18.0</td>\n",
       "      <td>2.31</td>\n",
       "      <td>0</td>\n",
       "      <td>0.538</td>\n",
       "      <td>6.575</td>\n",
       "      <td>65.2</td>\n",
       "      <td>4.0900</td>\n",
       "      <td>1</td>\n",
       "      <td>296.0</td>\n",
       "      <td>15.3</td>\n",
       "      <td>396.90</td>\n",
       "      <td>4.98</td>\n",
       "    </tr>\n",
       "    <tr>\n",
       "      <th>1</th>\n",
       "      <td>0.02731</td>\n",
       "      <td>0.0</td>\n",
       "      <td>7.07</td>\n",
       "      <td>0</td>\n",
       "      <td>0.469</td>\n",
       "      <td>6.421</td>\n",
       "      <td>78.9</td>\n",
       "      <td>4.9671</td>\n",
       "      <td>2</td>\n",
       "      <td>242.0</td>\n",
       "      <td>17.8</td>\n",
       "      <td>396.90</td>\n",
       "      <td>9.14</td>\n",
       "    </tr>\n",
       "    <tr>\n",
       "      <th>2</th>\n",
       "      <td>0.02729</td>\n",
       "      <td>0.0</td>\n",
       "      <td>7.07</td>\n",
       "      <td>0</td>\n",
       "      <td>0.469</td>\n",
       "      <td>7.185</td>\n",
       "      <td>61.1</td>\n",
       "      <td>4.9671</td>\n",
       "      <td>2</td>\n",
       "      <td>242.0</td>\n",
       "      <td>17.8</td>\n",
       "      <td>392.83</td>\n",
       "      <td>4.03</td>\n",
       "    </tr>\n",
       "    <tr>\n",
       "      <th>3</th>\n",
       "      <td>0.03237</td>\n",
       "      <td>0.0</td>\n",
       "      <td>2.18</td>\n",
       "      <td>0</td>\n",
       "      <td>0.458</td>\n",
       "      <td>6.998</td>\n",
       "      <td>45.8</td>\n",
       "      <td>6.0622</td>\n",
       "      <td>3</td>\n",
       "      <td>222.0</td>\n",
       "      <td>18.7</td>\n",
       "      <td>394.63</td>\n",
       "      <td>2.94</td>\n",
       "    </tr>\n",
       "    <tr>\n",
       "      <th>4</th>\n",
       "      <td>0.06905</td>\n",
       "      <td>0.0</td>\n",
       "      <td>2.18</td>\n",
       "      <td>0</td>\n",
       "      <td>0.458</td>\n",
       "      <td>7.147</td>\n",
       "      <td>54.2</td>\n",
       "      <td>6.0622</td>\n",
       "      <td>3</td>\n",
       "      <td>222.0</td>\n",
       "      <td>18.7</td>\n",
       "      <td>396.90</td>\n",
       "      <td>5.33</td>\n",
       "    </tr>\n",
       "  </tbody>\n",
       "</table>\n",
       "</div>"
      ],
      "text/plain": [
       "      CRIM    ZN  INDUS  CHAS    NOX     RM   AGE     DIS  RAD    TAX  \\\n",
       "0  0.00632  18.0   2.31     0  0.538  6.575  65.2  4.0900    1  296.0   \n",
       "1  0.02731   0.0   7.07     0  0.469  6.421  78.9  4.9671    2  242.0   \n",
       "2  0.02729   0.0   7.07     0  0.469  7.185  61.1  4.9671    2  242.0   \n",
       "3  0.03237   0.0   2.18     0  0.458  6.998  45.8  6.0622    3  222.0   \n",
       "4  0.06905   0.0   2.18     0  0.458  7.147  54.2  6.0622    3  222.0   \n",
       "\n",
       "   PTRATIO       B  LSTAT  \n",
       "0     15.3  396.90   4.98  \n",
       "1     17.8  396.90   9.14  \n",
       "2     17.8  392.83   4.03  \n",
       "3     18.7  394.63   2.94  \n",
       "4     18.7  396.90   5.33  "
      ]
     },
     "execution_count": 36,
     "metadata": {},
     "output_type": "execute_result"
    }
   ],
   "source": [
    "X.head()"
   ]
  },
  {
   "cell_type": "code",
   "execution_count": null,
   "metadata": {},
   "outputs": [],
   "source": [
    "# split data into training and testing and scale using Min-Max scaling\n",
    "X_train, X_test = train_test_split(X, test_size=.3, random_state=42)\n",
    "\n",
    "scaler  = MinMaxScaler(feature_range=(0, 1))\n",
    "model=scaler.fit(X_train) # fit just to train data\n",
    "X_train = model.transform(X_train) # transform train using fitted train\n",
    "X_test = model.transform(X_test) # transform test using fitted train"
   ]
  },
  {
   "attachments": {},
   "cell_type": "markdown",
   "metadata": {},
   "source": [
    "## 3. Generate K-means Solutions with 2-10 Clusters\n",
    "<b>Distortion</b>: It is calculated as the average of the squared distances from the cluster centers of the respective clusters. Typically, the Euclidean distance metric is used.<br>\n",
    "<b>Inertia</b>: It is the sum of squared distances of samples to their closest cluster center."
   ]
  },
  {
   "cell_type": "code",
   "execution_count": null,
   "metadata": {},
   "outputs": [],
   "source": [
    "min_clusters = 2\n",
    "max_clusters = 11\n",
    "kmean_random_state = 50 #Determines random number generation for centroid initialization\n",
    "kmean_n_init= 100       #The number of initializations to perform. The best results are kept."
   ]
  },
  {
   "cell_type": "code",
   "execution_count": null,
   "metadata": {},
   "outputs": [],
   "source": [
    "# run kmeans with various number of clusters\n",
    "distortions = []\n",
    "wcss = []\n",
    "clus_size = []\n",
    "centroids = []\n",
    "distortions_mapping = {}\n",
    "wcss_mapping = {}\n",
    "\n",
    "kmeans_kwargs = {\n",
    "    \"init\": \"random\",\n",
    "    \"n_init\": kmean_n_init,\n",
    "    \"max_iter\": 300,\n",
    "    \"random_state\": kmean_random_state,\n",
    "}\n",
    "K = range(min_clusters, max_clusters)\n",
    "\n",
    "# inertia or WCSS (Within Cluster Sum of Squares) measures how well a dataset was clustered by K-Means. It is calculated by measuring the distance between each data point and its centroid, \n",
    "# squaring this distance, and summing these squares across one cluster. A good model is one with low inertia AND a low number of clusters ( K )\n",
    "for i in K:\n",
    "    kmeans = KMeans(n_clusters=i, **kmeans_kwargs)\n",
    "    kmeans.fit(X_train)\n",
    "    kmeans.transform(X_train)\n",
    "\n",
    "    # calcuate distortion\n",
    "    distortion = sum(np.min(cdist(X_train, kmeans.cluster_centers_, 'euclidean'), axis=1)) / X_train.shape[0]\n",
    "    distortions.append(distortion)\n",
    "    distortions_mapping[i] = distortion\n",
    "\n",
    "    # get WCSS (Within Cluster Sum of Squares)\n",
    "    wcss.append(kmeans.inertia_)\n",
    "    wcss_mapping[i] = kmeans.inertia_\n",
    "\n",
    "    # get cluster sizes\n",
    "    clust_size_dict = {}\n",
    "    for j in range(0, i):\n",
    "        # percentage of data points allocated in each cluster\n",
    "        clust_size_dict[j] = len(kmeans.predict(X_train)[kmeans.predict(X_train) == j]) / len(X_train)\n",
    "    clus_size.append(clust_size_dict)\n",
    "\n",
    "    centroids.append(kmeans.cluster_centers_)"
   ]
  },
  {
   "attachments": {},
   "cell_type": "markdown",
   "metadata": {},
   "source": [
    "## 4-5. Perform Scree Tests / Show Scree Plot"
   ]
  },
  {
   "attachments": {},
   "cell_type": "markdown",
   "metadata": {},
   "source": [
    "### Using the different values of Distortion:"
   ]
  },
  {
   "cell_type": "code",
   "execution_count": null,
   "metadata": {},
   "outputs": [
    {
     "name": "stdout",
     "output_type": "stream",
     "text": [
      "2 : 0.6212831415815804\n",
      "3 : 0.5452062478547116\n",
      "4 : 0.5029244986424605\n",
      "5 : 0.47740641972605347\n",
      "6 : 0.44248003460395585\n",
      "7 : 0.41839266207783443\n",
      "8 : 0.3985301865434334\n",
      "9 : 0.3796627288482289\n",
      "10 : 0.3637197037648792\n"
     ]
    }
   ],
   "source": [
    "for key, val in distortions_mapping.items():\n",
    "    print(f'{key} : {val}')"
   ]
  },
  {
   "cell_type": "code",
   "execution_count": null,
   "metadata": {},
   "outputs": [
    {
     "data": {
      "image/png": "[encoded data removed]",
      "text/plain": [
       "<Figure size 432x288 with 1 Axes>"
      ]
     },
     "metadata": {
      "needs_background": "light"
     },
     "output_type": "display_data"
    }
   ],
   "source": [
    "# scree plot\n",
    "fig, ax = plt.subplots()\n",
    "\n",
    "ax.plot(K, distortions, 'bx-')\n",
    "plt.xlabel('Number of clusters')\n",
    "plt.ylabel('Distortion')\n",
    "plt.title('The Elbow Method using Distortion')\n",
    "plt.show()"
   ]
  },
  {
   "attachments": {},
   "cell_type": "markdown",
   "metadata": {},
   "source": [
    "### Using the different values of Inertia (WCSS):"
   ]
  },
  {
   "cell_type": "code",
   "execution_count": null,
   "metadata": {},
   "outputs": [
    {
     "name": "stdout",
     "output_type": "stream",
     "text": [
      "2 : 159.43676200652988\n",
      "3 : 123.34830485288819\n",
      "4 : 105.74002956819979\n",
      "5 : 92.02758267951899\n",
      "6 : 81.25565416732908\n",
      "7 : 72.95295871321403\n",
      "8 : 65.21324206546267\n",
      "9 : 59.4893519362142\n",
      "10 : 54.83007242719031\n"
     ]
    }
   ],
   "source": [
    "for key, val in wcss_mapping.items():\n",
    "    print(f'{key} : {val}')"
   ]
  },
  {
   "cell_type": "code",
   "execution_count": null,
   "metadata": {},
   "outputs": [
    {
     "data": {
      "image/png": "[encoded data removed]",
      "text/plain": [
       "<Figure size 432x288 with 1 Axes>"
      ]
     },
     "metadata": {
      "needs_background": "light"
     },
     "output_type": "display_data"
    }
   ],
   "source": [
    "# scree plot\n",
    "fig, ax = plt.subplots()\n",
    "\n",
    "ax.plot(K, wcss, 'bx-')\n",
    "plt.xlabel('Number of clusters')\n",
    "plt.ylabel('WCSS')\n",
    "plt.title('The Elbow Method using WCSS')\n",
    "plt.show()"
   ]
  },
  {
   "attachments": {},
   "cell_type": "markdown",
   "metadata": {},
   "source": [
    "### Identify the elbow point programmatically"
   ]
  },
  {
   "cell_type": "code",
   "execution_count": null,
   "metadata": {},
   "outputs": [
    {
     "data": {
      "text/plain": [
       "5"
      ]
     },
     "execution_count": 44,
     "metadata": {},
     "output_type": "execute_result"
    }
   ],
   "source": [
    "kl = KneeLocator(\n",
    "    range(min_clusters, max_clusters), wcss, curve=\"convex\", direction=\"decreasing\"\n",
    ")\n",
    "kl.elbow"
   ]
  },
  {
   "attachments": {},
   "cell_type": "markdown",
   "metadata": {},
   "source": [
    "Even though programmatically, elbow value is 4 but through human eye, we feel comfortable with elbow value of 3. Must choose K manually and is one the of disadvantages of K-Means"
   ]
  },
  {
   "cell_type": "code",
   "execution_count": null,
   "metadata": {},
   "outputs": [
    {
     "data": {
      "text/plain": [
       "3"
      ]
     },
     "execution_count": 45,
     "metadata": {},
     "output_type": "execute_result"
    }
   ],
   "source": [
    "\n",
    "optimal_clusters = 3\n",
    "optimal_clusters"
   ]
  },
  {
   "attachments": {},
   "cell_type": "markdown",
   "metadata": {},
   "source": [
    "### Interpretation of Scree Plot\n",
    " \n",
    "From above visual interpretation, to determine the optimal number of clusters, we have to select the value of k at the “elbow” ie the point after which the distortion/inertia start decreasing in a linear fashion. In other words, there’s a sweet spot where the SSE (sum of the squared error) curve starts to bend known as the elbow point. The x-value of this point is thought to be a reasonable trade-off between error and number of clusters. In above example, the elbow is located at x=3. Thus for the given data, we conclude that the optimal number of clusters for the data is 3"
   ]
  },
  {
   "attachments": {},
   "cell_type": "markdown",
   "metadata": {},
   "source": [
    "## 6. Run K-means on Test Data and Compare Results to K-means on Train Data"
   ]
  },
  {
   "cell_type": "code",
   "execution_count": null,
   "metadata": {},
   "outputs": [
    {
     "data": {
      "text/plain": [
       "array([[0.00100136, 0.31852803, 0.14335665, 0.04065041, 0.12228245,\n",
       "        0.5506613 , 0.35396415, 0.44435102, 0.13997879, 0.20370198,\n",
       "        0.5256876 , 0.98266869, 0.15832795],\n",
       "       [0.00779688, 0.02402746, 0.39475956, 0.0942029 , 0.40165205,\n",
       "        0.49775697, 0.83054225, 0.16238852, 0.16131065, 0.2777409 ,\n",
       "        0.53630897, 0.93648247, 0.30705122],\n",
       "       [0.13517724, 0.        , 0.64835913, 0.08602151, 0.5914421 ,\n",
       "        0.43955467, 0.88279459, 0.08386254, 0.97194951, 0.91689239,\n",
       "        0.80816747, 0.76013843, 0.45791201]])"
      ]
     },
     "execution_count": 46,
     "metadata": {},
     "output_type": "execute_result"
    }
   ],
   "source": [
    "# find the initial centroids (centers of the clusters) from the train centroids based on the optimal clusters\n",
    "train_centroids = []\n",
    "\n",
    "for j in range(len(centroids)):\n",
    "    if(len(centroids[j]) == optimal_clusters):\n",
    "        train_centroids = centroids[j]\n",
    "\n",
    "if(len(train_centroids) == 0):\n",
    "    raise Exception(f\"Unable to find the centers of the clusters from the train data solution as a starting point from optimal clustes '{optimal_clusters}'\")\n",
    "\n",
    "train_centroids"
   ]
  },
  {
   "cell_type": "code",
   "execution_count": null,
   "metadata": {},
   "outputs": [],
   "source": [
    "# run K-Means on the test data using the train data for fitting\n",
    "# init = if an array is passed, it should be of shape (n_clusters, n_features) and gives the initial centers.\n",
    "test_cluster = KMeans(n_clusters=optimal_clusters, n_init=kmean_n_init, init=train_centroids, random_state=kmean_random_state) \n",
    "test_cluster.fit(X_test)\n",
    "test_centroids = test_cluster.cluster_centers_"
   ]
  },
  {
   "cell_type": "code",
   "execution_count": null,
   "metadata": {},
   "outputs": [],
   "source": [
    "test_clust_size = {}\n",
    "for j in range(0, optimal_clusters):\n",
    "    # percentage of data points allocated in each cluster\n",
    "    test_clust_size[j] = len(test_cluster.predict(X_test)[test_cluster.predict(X_test) == j]) / len(X_test)"
   ]
  },
  {
   "attachments": {},
   "cell_type": "markdown",
   "metadata": {},
   "source": [
    "### Compare Train Results to Test Results"
   ]
  },
  {
   "cell_type": "code",
   "execution_count": null,
   "metadata": {},
   "outputs": [
    {
     "name": "stdout",
     "output_type": "stream",
     "text": [
      "Train Cluster Size : {0: 0.3474576271186441, 1: 0.3898305084745763, 2: 0.2627118644067797}\n",
      "Test Cluster Size : {0: 0.3618421052631579, 1: 0.34868421052631576, 2: 0.2894736842105263}\n"
     ]
    }
   ],
   "source": [
    "# cluster sizes\n",
    "print(f'Train Cluster Size : {clus_size[optimal_clusters-2]}')\n",
    "print(f'Test Cluster Size : {test_clust_size}')"
   ]
  },
  {
   "cell_type": "code",
   "execution_count": null,
   "metadata": {},
   "outputs": [
    {
     "data": {
      "text/html": [
       "<div>\n",
       "<style scoped>\n",
       "    .dataframe tbody tr th:only-of-type {\n",
       "        vertical-align: middle;\n",
       "    }\n",
       "\n",
       "    .dataframe tbody tr th {\n",
       "        vertical-align: top;\n",
       "    }\n",
       "\n",
       "    .dataframe thead th {\n",
       "        text-align: right;\n",
       "    }\n",
       "</style>\n",
       "<table border=\"1\" class=\"dataframe\">\n",
       "  <thead>\n",
       "    <tr style=\"text-align: right;\">\n",
       "      <th></th>\n",
       "      <th>CRIM</th>\n",
       "      <th>ZN</th>\n",
       "      <th>INDUS</th>\n",
       "      <th>CHAS</th>\n",
       "      <th>NOX</th>\n",
       "      <th>RM</th>\n",
       "      <th>AGE</th>\n",
       "      <th>DIS</th>\n",
       "      <th>RAD</th>\n",
       "      <th>TAX</th>\n",
       "      <th>PTRATIO</th>\n",
       "      <th>B</th>\n",
       "      <th>LSTAT</th>\n",
       "    </tr>\n",
       "  </thead>\n",
       "  <tbody>\n",
       "    <tr>\n",
       "      <th>0</th>\n",
       "      <td>0.098149</td>\n",
       "      <td>30.260163</td>\n",
       "      <td>5.013252</td>\n",
       "      <td>0.040650</td>\n",
       "      <td>0.444429</td>\n",
       "      <td>6.570602</td>\n",
       "      <td>37.269919</td>\n",
       "      <td>6.016084</td>\n",
       "      <td>4.219512</td>\n",
       "      <td>293.739837</td>\n",
       "      <td>17.541463</td>\n",
       "      <td>390.026748</td>\n",
       "      <td>7.467805</td>\n",
       "    </tr>\n",
       "    <tr>\n",
       "      <th>1</th>\n",
       "      <td>0.702726</td>\n",
       "      <td>2.282609</td>\n",
       "      <td>11.682971</td>\n",
       "      <td>0.094203</td>\n",
       "      <td>0.580203</td>\n",
       "      <td>6.310471</td>\n",
       "      <td>83.545652</td>\n",
       "      <td>2.915370</td>\n",
       "      <td>4.710145</td>\n",
       "      <td>332.536232</td>\n",
       "      <td>17.641304</td>\n",
       "      <td>371.710217</td>\n",
       "      <td>12.857536</td>\n",
       "    </tr>\n",
       "    <tr>\n",
       "      <th>2</th>\n",
       "      <td>12.035392</td>\n",
       "      <td>0.000000</td>\n",
       "      <td>18.410968</td>\n",
       "      <td>0.086022</td>\n",
       "      <td>0.672441</td>\n",
       "      <td>6.024290</td>\n",
       "      <td>88.619355</td>\n",
       "      <td>2.051828</td>\n",
       "      <td>23.354839</td>\n",
       "      <td>667.451613</td>\n",
       "      <td>20.196774</td>\n",
       "      <td>301.775699</td>\n",
       "      <td>18.324731</td>\n",
       "    </tr>\n",
       "  </tbody>\n",
       "</table>\n",
       "</div>"
      ],
      "text/plain": [
       "        CRIM         ZN      INDUS      CHAS       NOX        RM        AGE  \\\n",
       "0   0.098149  30.260163   5.013252  0.040650  0.444429  6.570602  37.269919   \n",
       "1   0.702726   2.282609  11.682971  0.094203  0.580203  6.310471  83.545652   \n",
       "2  12.035392   0.000000  18.410968  0.086022  0.672441  6.024290  88.619355   \n",
       "\n",
       "        DIS        RAD         TAX    PTRATIO           B      LSTAT  \n",
       "0  6.016084   4.219512  293.739837  17.541463  390.026748   7.467805  \n",
       "1  2.915370   4.710145  332.536232  17.641304  371.710217  12.857536  \n",
       "2  2.051828  23.354839  667.451613  20.196774  301.775699  18.324731  "
      ]
     },
     "execution_count": 50,
     "metadata": {},
     "output_type": "execute_result"
    }
   ],
   "source": [
    "# centroids - with reverse scaling (train)\n",
    "train_centroids_unscale = pd.DataFrame(scaler.inverse_transform(train_centroids))\n",
    "train_centroids_unscale.columns = X.columns\n",
    "train_centroids_unscale"
   ]
  },
  {
   "cell_type": "code",
   "execution_count": null,
   "metadata": {},
   "outputs": [
    {
     "data": {
      "text/html": [
       "<div>\n",
       "<style scoped>\n",
       "    .dataframe tbody tr th:only-of-type {\n",
       "        vertical-align: middle;\n",
       "    }\n",
       "\n",
       "    .dataframe tbody tr th {\n",
       "        vertical-align: top;\n",
       "    }\n",
       "\n",
       "    .dataframe thead th {\n",
       "        text-align: right;\n",
       "    }\n",
       "</style>\n",
       "<table border=\"1\" class=\"dataframe\">\n",
       "  <thead>\n",
       "    <tr style=\"text-align: right;\">\n",
       "      <th></th>\n",
       "      <th>CRIM</th>\n",
       "      <th>ZN</th>\n",
       "      <th>INDUS</th>\n",
       "      <th>CHAS</th>\n",
       "      <th>NOX</th>\n",
       "      <th>RM</th>\n",
       "      <th>AGE</th>\n",
       "      <th>DIS</th>\n",
       "      <th>RAD</th>\n",
       "      <th>TAX</th>\n",
       "      <th>PTRATIO</th>\n",
       "      <th>B</th>\n",
       "      <th>LSTAT</th>\n",
       "    </tr>\n",
       "  </thead>\n",
       "  <tbody>\n",
       "    <tr>\n",
       "      <th>0</th>\n",
       "      <td>0.099476</td>\n",
       "      <td>3.018182e+01</td>\n",
       "      <td>5.339818</td>\n",
       "      <td>1.818182e-02</td>\n",
       "      <td>0.447889</td>\n",
       "      <td>6.44080</td>\n",
       "      <td>34.763636</td>\n",
       "      <td>5.875256</td>\n",
       "      <td>4.290909</td>\n",
       "      <td>286.763636</td>\n",
       "      <td>17.872727</td>\n",
       "      <td>389.869091</td>\n",
       "      <td>7.129636</td>\n",
       "    </tr>\n",
       "    <tr>\n",
       "      <th>1</th>\n",
       "      <td>0.546002</td>\n",
       "      <td>1.000000e+00</td>\n",
       "      <td>11.032830</td>\n",
       "      <td>1.509434e-01</td>\n",
       "      <td>0.556698</td>\n",
       "      <td>6.11134</td>\n",
       "      <td>82.033962</td>\n",
       "      <td>3.271523</td>\n",
       "      <td>4.509434</td>\n",
       "      <td>326.584906</td>\n",
       "      <td>18.801887</td>\n",
       "      <td>375.332264</td>\n",
       "      <td>14.321321</td>\n",
       "    </tr>\n",
       "    <tr>\n",
       "      <th>2</th>\n",
       "      <td>12.856675</td>\n",
       "      <td>3.955170e-15</td>\n",
       "      <td>18.538182</td>\n",
       "      <td>4.857226e-17</td>\n",
       "      <td>0.665159</td>\n",
       "      <td>5.96800</td>\n",
       "      <td>92.818182</td>\n",
       "      <td>2.060055</td>\n",
       "      <td>23.090909</td>\n",
       "      <td>668.045455</td>\n",
       "      <td>20.195455</td>\n",
       "      <td>268.345682</td>\n",
       "      <td>19.413864</td>\n",
       "    </tr>\n",
       "  </tbody>\n",
       "</table>\n",
       "</div>"
      ],
      "text/plain": [
       "        CRIM            ZN      INDUS          CHAS       NOX       RM  \\\n",
       "0   0.099476  3.018182e+01   5.339818  1.818182e-02  0.447889  6.44080   \n",
       "1   0.546002  1.000000e+00  11.032830  1.509434e-01  0.556698  6.11134   \n",
       "2  12.856675  3.955170e-15  18.538182  4.857226e-17  0.665159  5.96800   \n",
       "\n",
       "         AGE       DIS        RAD         TAX    PTRATIO           B  \\\n",
       "0  34.763636  5.875256   4.290909  286.763636  17.872727  389.869091   \n",
       "1  82.033962  3.271523   4.509434  326.584906  18.801887  375.332264   \n",
       "2  92.818182  2.060055  23.090909  668.045455  20.195455  268.345682   \n",
       "\n",
       "       LSTAT  \n",
       "0   7.129636  \n",
       "1  14.321321  \n",
       "2  19.413864  "
      ]
     },
     "execution_count": 51,
     "metadata": {},
     "output_type": "execute_result"
    }
   ],
   "source": [
    "# centroids - with reverse scaling (test)\n",
    "test_centroids_unscale = pd.DataFrame(scaler.inverse_transform(test_centroids))\n",
    "test_centroids_unscale.columns = X.columns\n",
    "test_centroids_unscale"
   ]
  },
  {
   "cell_type": "code",
   "execution_count": null,
   "metadata": {},
   "outputs": [
    {
     "data": {
      "text/html": [
       "<div>\n",
       "<style scoped>\n",
       "    .dataframe tbody tr th:only-of-type {\n",
       "        vertical-align: middle;\n",
       "    }\n",
       "\n",
       "    .dataframe tbody tr th {\n",
       "        vertical-align: top;\n",
       "    }\n",
       "\n",
       "    .dataframe thead th {\n",
       "        text-align: right;\n",
       "    }\n",
       "</style>\n",
       "<table border=\"1\" class=\"dataframe\">\n",
       "  <thead>\n",
       "    <tr style=\"text-align: right;\">\n",
       "      <th></th>\n",
       "      <th>CRIM</th>\n",
       "      <th>ZN</th>\n",
       "      <th>INDUS</th>\n",
       "      <th>CHAS</th>\n",
       "      <th>NOX</th>\n",
       "      <th>RM</th>\n",
       "      <th>AGE</th>\n",
       "      <th>DIS</th>\n",
       "      <th>RAD</th>\n",
       "      <th>TAX</th>\n",
       "      <th>PTRATIO</th>\n",
       "      <th>B</th>\n",
       "      <th>LSTAT</th>\n",
       "    </tr>\n",
       "  </thead>\n",
       "  <tbody>\n",
       "    <tr>\n",
       "      <th>0</th>\n",
       "      <td>0.001327</td>\n",
       "      <td>7.834442e-02</td>\n",
       "      <td>0.326566</td>\n",
       "      <td>0.022469</td>\n",
       "      <td>0.003460</td>\n",
       "      <td>0.129802</td>\n",
       "      <td>2.506282</td>\n",
       "      <td>0.140827</td>\n",
       "      <td>0.071397</td>\n",
       "      <td>6.976201</td>\n",
       "      <td>0.331264</td>\n",
       "      <td>0.157657</td>\n",
       "      <td>0.338169</td>\n",
       "    </tr>\n",
       "    <tr>\n",
       "      <th>1</th>\n",
       "      <td>0.156724</td>\n",
       "      <td>1.282609e+00</td>\n",
       "      <td>0.650141</td>\n",
       "      <td>0.056740</td>\n",
       "      <td>0.023505</td>\n",
       "      <td>0.199131</td>\n",
       "      <td>1.511690</td>\n",
       "      <td>0.356152</td>\n",
       "      <td>0.200711</td>\n",
       "      <td>5.951326</td>\n",
       "      <td>1.160582</td>\n",
       "      <td>3.622047</td>\n",
       "      <td>1.463785</td>\n",
       "    </tr>\n",
       "    <tr>\n",
       "      <th>2</th>\n",
       "      <td>0.821282</td>\n",
       "      <td>3.955170e-15</td>\n",
       "      <td>0.127214</td>\n",
       "      <td>0.086022</td>\n",
       "      <td>0.007282</td>\n",
       "      <td>0.056290</td>\n",
       "      <td>4.198827</td>\n",
       "      <td>0.008227</td>\n",
       "      <td>0.263930</td>\n",
       "      <td>0.593842</td>\n",
       "      <td>0.001320</td>\n",
       "      <td>33.430017</td>\n",
       "      <td>1.089132</td>\n",
       "    </tr>\n",
       "  </tbody>\n",
       "</table>\n",
       "</div>"
      ],
      "text/plain": [
       "       CRIM            ZN     INDUS      CHAS       NOX        RM       AGE  \\\n",
       "0  0.001327  7.834442e-02  0.326566  0.022469  0.003460  0.129802  2.506282   \n",
       "1  0.156724  1.282609e+00  0.650141  0.056740  0.023505  0.199131  1.511690   \n",
       "2  0.821282  3.955170e-15  0.127214  0.086022  0.007282  0.056290  4.198827   \n",
       "\n",
       "        DIS       RAD       TAX   PTRATIO          B     LSTAT  \n",
       "0  0.140827  0.071397  6.976201  0.331264   0.157657  0.338169  \n",
       "1  0.356152  0.200711  5.951326  1.160582   3.622047  1.463785  \n",
       "2  0.008227  0.263930  0.593842  0.001320  33.430017  1.089132  "
      ]
     },
     "execution_count": 52,
     "metadata": {},
     "output_type": "execute_result"
    }
   ],
   "source": [
    "# centroids - with reverse scaling (train - test)\n",
    "abs(train_centroids_unscale - test_centroids_unscale)"
   ]
  },
  {
   "cell_type": "code",
   "execution_count": null,
   "metadata": {},
   "outputs": [
    {
     "data": {
      "image/png": "[encoded data removed]",
      "text/plain": [
       "<Figure size 1224x504 with 2 Axes>"
      ]
     },
     "metadata": {
      "needs_background": "light"
     },
     "output_type": "display_data"
    },
    {
     "data": {
      "image/png": "[encoded data removed]",
      "text/plain": [
       "<Figure size 1224x504 with 2 Axes>"
      ]
     },
     "metadata": {
      "needs_background": "light"
     },
     "output_type": "display_data"
    },
    {
     "data": {
      "image/png": "[encoded data removed]",
      "text/plain": [
       "<Figure size 1224x504 with 2 Axes>"
      ]
     },
     "metadata": {
      "needs_background": "light"
     },
     "output_type": "display_data"
    }
   ],
   "source": [
    "# distribution of features in clusters - train versus test\n",
    "no_of_features = len(X.columns)\n",
    "number_of_colors = no_of_features\n",
    "train_feature_importances = get_cluster_feature_weights(optimal_clusters, train_centroids, X.columns)\n",
    "test_feature_importances = get_cluster_feature_weights(test_cluster.n_clusters, test_cluster.cluster_centers_, X.columns)\n",
    "\n",
    "random.seed(no_of_features)\n",
    "colors = [\"#\"+''.join([random.choice('0123456789ABCDEF') for j in range(6)]) \n",
    "             for i in range(number_of_colors)]\n",
    "\n",
    "for j in range(0, optimal_clusters):\n",
    "    cluster_label = j\n",
    "\n",
    "    train_feature_weights = train_feature_importances[j]\n",
    "    df_feature_weight = pd.DataFrame(train_feature_weights[:no_of_features], columns=[\"Feature\", \"Weight\"])\n",
    "    \n",
    "    fig, (ax0, ax1) = plt.subplots(1, 2, figsize=(17,7))\n",
    "    ax0.tick_params(axis='both', which='major', labelsize=14)\n",
    "    ax0.bar(df_feature_weight[\"Feature\"], df_feature_weight[\"Weight\"], color = colors)\n",
    "    ax0.set_xlabel('Feature', fontsize=16, fontweight='bold')\n",
    "    ax0.set_ylabel('Weight', fontsize=16, fontweight='bold')    \n",
    "    ax0.set_xticklabels(ax0.get_xticklabels(), rotation = -45)\n",
    "    ax0.set_title(f'Highest Weight Features in Cluster {cluster_label} for Train Dataset', fontsize=18, fontweight='bold')\n",
    "\n",
    "    test_feature_weights = test_feature_importances[j]\n",
    "    df_feature_weight = pd.DataFrame(test_feature_weights[:no_of_features], columns=[\"Feature\", \"Weight\"])\n",
    "    \n",
    "    ax1.tick_params(axis='both', which='major', labelsize=14)\n",
    "    ax1.bar(df_feature_weight[\"Feature\"], df_feature_weight[\"Weight\"], color = colors)\n",
    "    ax1.set_xlabel('Feature', fontsize=16, fontweight='bold')\n",
    "    ax1.set_ylabel('Weight', fontsize=16, fontweight='bold')\n",
    "    ax1.set_xticklabels(ax0.get_xticklabels(), rotation = -45)\n",
    "    ax1.set_title(f'Highest Weight Features in Cluster {cluster_label} for Test Dataset', fontsize=18, fontweight='bold')    \n",
    "    \n",
    "    fig.tight_layout()\n",
    "    plt.show()"
   ]
  },
  {
   "attachments": {},
   "cell_type": "markdown",
   "metadata": {},
   "source": [
    "### Interpretation of K-means Train/Test Clustering Results\n",
    "After comparing the results of the k-means clustering on the train and test data with 3 clusters we noticed the following:\n",
    "- The % of data points in each cluster for both training and testing are very similar\n",
    "- The cluster sizes for both training and testing are very similar\n",
    "- The unscaled centroids for the training and testing sets are very similar"
   ]
  },
  {
   "attachments": {},
   "cell_type": "markdown",
   "metadata": {},
   "source": [
    "## 7. Generate Gaussian Mixture Models"
   ]
  },
  {
   "attachments": {},
   "cell_type": "markdown",
   "metadata": {},
   "source": [
    "One way to think about the k-means model is that it places a circle (or, in higher dimensions, a hyper-sphere) at the center of each cluster, with a radius defined by the most distant point in the cluster. This works fine for when your data is circular. In contrast, Gaussian mixture models can handle even very oblong clusters. The second difference between k-means and Gaussian mixture models is that the former performs hard classification whereas the latter performs soft classification. In other words, k-means tells us what data point belong to which cluster but won’t provide us with the probabilities that a given data point belongs to each of the possible clusters."
   ]
  },
  {
   "cell_type": "code",
   "execution_count": null,
   "metadata": {},
   "outputs": [],
   "source": [
    "min_gaussian_components = 3\n",
    "max_gaussian_components = 6\n",
    "gm_random_state = 50 #Determines random number generation for initialization\n",
    "gm_n_init= 100       #The number of initializations to perform. The best results are kept."
   ]
  },
  {
   "cell_type": "code",
   "execution_count": null,
   "metadata": {},
   "outputs": [],
   "source": [
    "aics = []\n",
    "bics = []\n",
    "n_components = range(min_gaussian_components, max_gaussian_components)\n",
    "for i in n_components:\n",
    "    gmm = GaussianMixture(random_state=gm_random_state, n_components=i, n_init=gm_n_init)\n",
    "    gmm.fit(X_train)\n",
    "    aics.append(gmm.aic(X_train))\n",
    "    bics.append(gmm.bic(X_train))"
   ]
  },
  {
   "attachments": {},
   "cell_type": "markdown",
   "metadata": {},
   "source": [
    "## 8. Chosing Best GM Model and Interpret Results"
   ]
  },
  {
   "cell_type": "code",
   "execution_count": null,
   "metadata": {},
   "outputs": [
    {
     "data": {
      "image/png": "[encoded data removed]",
      "text/plain": [
       "<Figure size 432x288 with 1 Axes>"
      ]
     },
     "metadata": {
      "needs_background": "light"
     },
     "output_type": "display_data"
    }
   ],
   "source": [
    "# scree plot\n",
    "plt.plot(n_components, bics, label='BIC')\n",
    "plt.plot(n_components, aics, label='AIC')\n",
    "plt.legend(loc='best')\n",
    "plt.xlabel('Components');\n",
    "plt.show()"
   ]
  },
  {
   "attachments": {},
   "cell_type": "markdown",
   "metadata": {},
   "source": [
    "The optimal number of clusters is the value that minimizes the AIC or BIC. We train our GM model using the optimal number of components (in this case, 4)"
   ]
  },
  {
   "cell_type": "code",
   "execution_count": null,
   "metadata": {},
   "outputs": [
    {
     "data": {
      "text/html": [
       "<div>\n",
       "<style scoped>\n",
       "    .dataframe tbody tr th:only-of-type {\n",
       "        vertical-align: middle;\n",
       "    }\n",
       "\n",
       "    .dataframe tbody tr th {\n",
       "        vertical-align: top;\n",
       "    }\n",
       "\n",
       "    .dataframe thead th {\n",
       "        text-align: right;\n",
       "    }\n",
       "</style>\n",
       "<table border=\"1\" class=\"dataframe\">\n",
       "  <thead>\n",
       "    <tr style=\"text-align: right;\">\n",
       "      <th></th>\n",
       "      <th>CRIM</th>\n",
       "      <th>ZN</th>\n",
       "      <th>INDUS</th>\n",
       "      <th>CHAS</th>\n",
       "      <th>NOX</th>\n",
       "      <th>RM</th>\n",
       "      <th>AGE</th>\n",
       "      <th>DIS</th>\n",
       "      <th>RAD</th>\n",
       "      <th>TAX</th>\n",
       "      <th>PTRATIO</th>\n",
       "      <th>B</th>\n",
       "      <th>LSTAT</th>\n",
       "    </tr>\n",
       "  </thead>\n",
       "  <tbody>\n",
       "    <tr>\n",
       "      <th>0</th>\n",
       "      <td>0.095644</td>\n",
       "      <td>26.048162</td>\n",
       "      <td>5.023571</td>\n",
       "      <td>0.0</td>\n",
       "      <td>0.449595</td>\n",
       "      <td>6.508218</td>\n",
       "      <td>42.824211</td>\n",
       "      <td>5.776910</td>\n",
       "      <td>4.251352</td>\n",
       "      <td>292.446293</td>\n",
       "      <td>17.566697</td>\n",
       "      <td>390.532491</td>\n",
       "      <td>7.871638</td>\n",
       "    </tr>\n",
       "    <tr>\n",
       "      <th>1</th>\n",
       "      <td>13.080668</td>\n",
       "      <td>0.000000</td>\n",
       "      <td>18.100000</td>\n",
       "      <td>0.0</td>\n",
       "      <td>0.670512</td>\n",
       "      <td>5.985829</td>\n",
       "      <td>88.290244</td>\n",
       "      <td>2.075834</td>\n",
       "      <td>24.000000</td>\n",
       "      <td>666.000000</td>\n",
       "      <td>20.200000</td>\n",
       "      <td>292.285000</td>\n",
       "      <td>19.088537</td>\n",
       "    </tr>\n",
       "    <tr>\n",
       "      <th>2</th>\n",
       "      <td>0.770750</td>\n",
       "      <td>2.344237</td>\n",
       "      <td>13.079836</td>\n",
       "      <td>0.0</td>\n",
       "      <td>0.596508</td>\n",
       "      <td>6.268799</td>\n",
       "      <td>84.562732</td>\n",
       "      <td>2.728406</td>\n",
       "      <td>4.653891</td>\n",
       "      <td>354.158593</td>\n",
       "      <td>17.891084</td>\n",
       "      <td>366.571144</td>\n",
       "      <td>13.709807</td>\n",
       "    </tr>\n",
       "    <tr>\n",
       "      <th>3</th>\n",
       "      <td>2.235490</td>\n",
       "      <td>8.846154</td>\n",
       "      <td>12.967308</td>\n",
       "      <td>1.0</td>\n",
       "      <td>0.598765</td>\n",
       "      <td>6.680692</td>\n",
       "      <td>76.957692</td>\n",
       "      <td>2.933454</td>\n",
       "      <td>10.884615</td>\n",
       "      <td>414.153846</td>\n",
       "      <td>17.576923</td>\n",
       "      <td>381.737308</td>\n",
       "      <td>9.800769</td>\n",
       "    </tr>\n",
       "  </tbody>\n",
       "</table>\n",
       "</div>"
      ],
      "text/plain": [
       "        CRIM         ZN      INDUS  CHAS       NOX        RM        AGE  \\\n",
       "0   0.095644  26.048162   5.023571   0.0  0.449595  6.508218  42.824211   \n",
       "1  13.080668   0.000000  18.100000   0.0  0.670512  5.985829  88.290244   \n",
       "2   0.770750   2.344237  13.079836   0.0  0.596508  6.268799  84.562732   \n",
       "3   2.235490   8.846154  12.967308   1.0  0.598765  6.680692  76.957692   \n",
       "\n",
       "        DIS        RAD         TAX    PTRATIO           B      LSTAT  \n",
       "0  5.776910   4.251352  292.446293  17.566697  390.532491   7.871638  \n",
       "1  2.075834  24.000000  666.000000  20.200000  292.285000  19.088537  \n",
       "2  2.728406   4.653891  354.158593  17.891084  366.571144  13.709807  \n",
       "3  2.933454  10.884615  414.153846  17.576923  381.737308   9.800769  "
      ]
     },
     "execution_count": 57,
     "metadata": {},
     "output_type": "execute_result"
    }
   ],
   "source": [
    "# display means of gm clusters with 4 components\n",
    "n_components = 4\n",
    "gmm = GaussianMixture(random_state=gm_random_state, n_components=n_components, n_init=gm_n_init)\n",
    "gmm.fit(X_train)\n",
    "gmm_labels = gmm.predict(X_train)\n",
    "\n",
    "gmm_means_unscale = pd.DataFrame(scaler.inverse_transform(gmm.means_))\n",
    "gmm_means_unscale.columns = X.columns\n",
    "gmm_means_unscale"
   ]
  },
  {
   "cell_type": "code",
   "execution_count": null,
   "metadata": {},
   "outputs": [
    {
     "data": {
      "text/html": [
       "<div>\n",
       "<style scoped>\n",
       "    .dataframe tbody tr th:only-of-type {\n",
       "        vertical-align: middle;\n",
       "    }\n",
       "\n",
       "    .dataframe tbody tr th {\n",
       "        vertical-align: top;\n",
       "    }\n",
       "\n",
       "    .dataframe thead th {\n",
       "        text-align: right;\n",
       "    }\n",
       "</style>\n",
       "<table border=\"1\" class=\"dataframe\">\n",
       "  <thead>\n",
       "    <tr style=\"text-align: right;\">\n",
       "      <th></th>\n",
       "      <th>CRIM</th>\n",
       "      <th>ZN</th>\n",
       "      <th>INDUS</th>\n",
       "      <th>CHAS</th>\n",
       "      <th>NOX</th>\n",
       "      <th>RM</th>\n",
       "      <th>AGE</th>\n",
       "      <th>DIS</th>\n",
       "      <th>RAD</th>\n",
       "      <th>TAX</th>\n",
       "      <th>PTRATIO</th>\n",
       "      <th>B</th>\n",
       "      <th>LSTAT</th>\n",
       "    </tr>\n",
       "  </thead>\n",
       "  <tbody>\n",
       "    <tr>\n",
       "      <th>0</th>\n",
       "      <td>0.098149</td>\n",
       "      <td>30.260163</td>\n",
       "      <td>5.013252</td>\n",
       "      <td>0.040650</td>\n",
       "      <td>0.444429</td>\n",
       "      <td>6.570602</td>\n",
       "      <td>37.269919</td>\n",
       "      <td>6.016084</td>\n",
       "      <td>4.219512</td>\n",
       "      <td>293.739837</td>\n",
       "      <td>17.541463</td>\n",
       "      <td>390.026748</td>\n",
       "      <td>7.467805</td>\n",
       "    </tr>\n",
       "    <tr>\n",
       "      <th>1</th>\n",
       "      <td>0.702726</td>\n",
       "      <td>2.282609</td>\n",
       "      <td>11.682971</td>\n",
       "      <td>0.094203</td>\n",
       "      <td>0.580203</td>\n",
       "      <td>6.310471</td>\n",
       "      <td>83.545652</td>\n",
       "      <td>2.915370</td>\n",
       "      <td>4.710145</td>\n",
       "      <td>332.536232</td>\n",
       "      <td>17.641304</td>\n",
       "      <td>371.710217</td>\n",
       "      <td>12.857536</td>\n",
       "    </tr>\n",
       "    <tr>\n",
       "      <th>2</th>\n",
       "      <td>12.035392</td>\n",
       "      <td>0.000000</td>\n",
       "      <td>18.410968</td>\n",
       "      <td>0.086022</td>\n",
       "      <td>0.672441</td>\n",
       "      <td>6.024290</td>\n",
       "      <td>88.619355</td>\n",
       "      <td>2.051828</td>\n",
       "      <td>23.354839</td>\n",
       "      <td>667.451613</td>\n",
       "      <td>20.196774</td>\n",
       "      <td>301.775699</td>\n",
       "      <td>18.324731</td>\n",
       "    </tr>\n",
       "  </tbody>\n",
       "</table>\n",
       "</div>"
      ],
      "text/plain": [
       "        CRIM         ZN      INDUS      CHAS       NOX        RM        AGE  \\\n",
       "0   0.098149  30.260163   5.013252  0.040650  0.444429  6.570602  37.269919   \n",
       "1   0.702726   2.282609  11.682971  0.094203  0.580203  6.310471  83.545652   \n",
       "2  12.035392   0.000000  18.410968  0.086022  0.672441  6.024290  88.619355   \n",
       "\n",
       "        DIS        RAD         TAX    PTRATIO           B      LSTAT  \n",
       "0  6.016084   4.219512  293.739837  17.541463  390.026748   7.467805  \n",
       "1  2.915370   4.710145  332.536232  17.641304  371.710217  12.857536  \n",
       "2  2.051828  23.354839  667.451613  20.196774  301.775699  18.324731  "
      ]
     },
     "execution_count": 58,
     "metadata": {},
     "output_type": "execute_result"
    }
   ],
   "source": [
    "# display centroids of Kmeans train cluster\n",
    "train_centroids_unscale"
   ]
  },
  {
   "cell_type": "code",
   "execution_count": null,
   "metadata": {},
   "outputs": [
    {
     "data": {
      "text/html": [
       "<div>\n",
       "<style scoped>\n",
       "    .dataframe tbody tr th:only-of-type {\n",
       "        vertical-align: middle;\n",
       "    }\n",
       "\n",
       "    .dataframe tbody tr th {\n",
       "        vertical-align: top;\n",
       "    }\n",
       "\n",
       "    .dataframe thead th {\n",
       "        text-align: right;\n",
       "    }\n",
       "</style>\n",
       "<table border=\"1\" class=\"dataframe\">\n",
       "  <thead>\n",
       "    <tr style=\"text-align: right;\">\n",
       "      <th></th>\n",
       "      <th>Feature</th>\n",
       "      <th>Cluster 0 Weight</th>\n",
       "      <th>Cluster 1 Weight</th>\n",
       "      <th>Cluster 2 Weight</th>\n",
       "      <th>Cluster 3 Weight</th>\n",
       "    </tr>\n",
       "  </thead>\n",
       "  <tbody>\n",
       "    <tr>\n",
       "      <th>0</th>\n",
       "      <td>CRIM</td>\n",
       "      <td>136</td>\n",
       "      <td>82</td>\n",
       "      <td>110</td>\n",
       "      <td>26</td>\n",
       "    </tr>\n",
       "    <tr>\n",
       "      <th>1</th>\n",
       "      <td>ZN</td>\n",
       "      <td>136</td>\n",
       "      <td>82</td>\n",
       "      <td>110</td>\n",
       "      <td>26</td>\n",
       "    </tr>\n",
       "    <tr>\n",
       "      <th>2</th>\n",
       "      <td>INDUS</td>\n",
       "      <td>136</td>\n",
       "      <td>82</td>\n",
       "      <td>110</td>\n",
       "      <td>26</td>\n",
       "    </tr>\n",
       "    <tr>\n",
       "      <th>3</th>\n",
       "      <td>CHAS</td>\n",
       "      <td>136</td>\n",
       "      <td>82</td>\n",
       "      <td>110</td>\n",
       "      <td>26</td>\n",
       "    </tr>\n",
       "    <tr>\n",
       "      <th>4</th>\n",
       "      <td>NOX</td>\n",
       "      <td>136</td>\n",
       "      <td>82</td>\n",
       "      <td>110</td>\n",
       "      <td>26</td>\n",
       "    </tr>\n",
       "    <tr>\n",
       "      <th>5</th>\n",
       "      <td>RM</td>\n",
       "      <td>136</td>\n",
       "      <td>82</td>\n",
       "      <td>110</td>\n",
       "      <td>26</td>\n",
       "    </tr>\n",
       "    <tr>\n",
       "      <th>6</th>\n",
       "      <td>AGE</td>\n",
       "      <td>136</td>\n",
       "      <td>82</td>\n",
       "      <td>110</td>\n",
       "      <td>26</td>\n",
       "    </tr>\n",
       "    <tr>\n",
       "      <th>7</th>\n",
       "      <td>DIS</td>\n",
       "      <td>136</td>\n",
       "      <td>82</td>\n",
       "      <td>110</td>\n",
       "      <td>26</td>\n",
       "    </tr>\n",
       "    <tr>\n",
       "      <th>8</th>\n",
       "      <td>RAD</td>\n",
       "      <td>136</td>\n",
       "      <td>82</td>\n",
       "      <td>110</td>\n",
       "      <td>26</td>\n",
       "    </tr>\n",
       "    <tr>\n",
       "      <th>9</th>\n",
       "      <td>TAX</td>\n",
       "      <td>136</td>\n",
       "      <td>82</td>\n",
       "      <td>110</td>\n",
       "      <td>26</td>\n",
       "    </tr>\n",
       "    <tr>\n",
       "      <th>10</th>\n",
       "      <td>PTRATIO</td>\n",
       "      <td>136</td>\n",
       "      <td>82</td>\n",
       "      <td>110</td>\n",
       "      <td>26</td>\n",
       "    </tr>\n",
       "    <tr>\n",
       "      <th>11</th>\n",
       "      <td>B</td>\n",
       "      <td>136</td>\n",
       "      <td>82</td>\n",
       "      <td>110</td>\n",
       "      <td>26</td>\n",
       "    </tr>\n",
       "    <tr>\n",
       "      <th>12</th>\n",
       "      <td>LSTAT</td>\n",
       "      <td>136</td>\n",
       "      <td>82</td>\n",
       "      <td>110</td>\n",
       "      <td>26</td>\n",
       "    </tr>\n",
       "  </tbody>\n",
       "</table>\n",
       "</div>"
      ],
      "text/plain": [
       "    Feature  Cluster 0 Weight  Cluster 1 Weight  Cluster 2 Weight  \\\n",
       "0      CRIM               136                82               110   \n",
       "1        ZN               136                82               110   \n",
       "2     INDUS               136                82               110   \n",
       "3      CHAS               136                82               110   \n",
       "4       NOX               136                82               110   \n",
       "5        RM               136                82               110   \n",
       "6       AGE               136                82               110   \n",
       "7       DIS               136                82               110   \n",
       "8       RAD               136                82               110   \n",
       "9       TAX               136                82               110   \n",
       "10  PTRATIO               136                82               110   \n",
       "11        B               136                82               110   \n",
       "12    LSTAT               136                82               110   \n",
       "\n",
       "    Cluster 3 Weight  \n",
       "0                 26  \n",
       "1                 26  \n",
       "2                 26  \n",
       "3                 26  \n",
       "4                 26  \n",
       "5                 26  \n",
       "6                 26  \n",
       "7                 26  \n",
       "8                 26  \n",
       "9                 26  \n",
       "10                26  \n",
       "11                26  \n",
       "12                26  "
      ]
     },
     "execution_count": 59,
     "metadata": {},
     "output_type": "execute_result"
    }
   ],
   "source": [
    "# distribution of features in each cluster\n",
    "gmm_X_train = pd.DataFrame(X_train, columns=X.columns)\n",
    "gmm_X_train[\"Cluster\"] = gmm_labels\n",
    "\n",
    "train_gmm_feature_importances = get_feature_count_by_cluster(n_components, gmm_X_train, X.columns)\n",
    "df_feature_weight = pd.DataFrame(X.columns, columns=[\"Feature\"])\n",
    "for label in range(0, n_components):\n",
    "    df_feature_weight[f\"Cluster {label} Weight\"] = [(v) for k, v in train_gmm_feature_importances[label]]\n",
    "df_feature_weight"
   ]
  },
  {
   "attachments": {},
   "cell_type": "markdown",
   "metadata": {},
   "source": [
    "### Compare Train GM Results to Trained K-means Results\n",
    "For K-means, our scree plot indicated that 3 clusters was an optimal number of clusters, where as Gaussian Mixture shows from both the AIC and BIC plot that 4 clusters is more optimal. The above tables compare the centroids of the clusters for GM (top) and K-means (bottom)"
   ]
  },
  {
   "attachments": {},
   "cell_type": "markdown",
   "metadata": {},
   "source": [
    "## 9. Summarize Overall Results with Business Relevant Insights"
   ]
  },
  {
   "attachments": {},
   "cell_type": "markdown",
   "metadata": {},
   "source": [
    "### Interpretation of the Kmeans Clusters\n",
    "The Kmeans analysis suggested that the Boston housing market could be broken down into 3 clusters, that based on common knowledge could be described as something similar to the below:\n",
    "- Cluster 0: Suburban, upper class and upper middle class\n",
    "- Cluster 1: City, middle class, nitric oxides concentration is higher than cluster 0 and but lower than cluster 2\n",
    "- Cluster 2: Inner City, lower class, more people pays taxes but not neccessarily mean they are paying higher taxes, nitric oxides concentration is highest.\n",
    "\n",
    "The rationale for these descriptions is as follows:\n",
    "- Cluster 0: Low LSAT (lower status % of population), newer buildings (AGE), lower pupil-to-teacher ratio (i.e. higher teacher-to-pupil ratio), very low nitric oxides concentration, very low crime rate (CRIM), largest # of average rooms per dwelling across clusters, furthest distance from employment centers which tend to be in more urban areas, etc.\n",
    "- Cluster 1: all of the above stats are weaker for Cluster 1, but not as weak as Cluster 2\n",
    "- Cluster 2: weakest stats described above (i.e. highest LSAT, highest crime rate, highest nitric oxides concentration etc.)\n",
    "\n",
    "### Interpretation of the Gaussian Mixture Clusters\n",
    "The Gaussian Mixtures analysis suggests that the true number of clusters is 4 as oppossed to the 3 found with Kmeans. The 4 clusters could be described as something similar to the below:\n",
    "- Cluster 0: Suburban, upper class and upper middle class\n",
    "- Cluster 1: A nicer part of downtown Boston, middle class\n",
    "- Cluster 2: Inner City, lower class\n",
    "- Cluster 3: City - perhaps an area not as \"developed\" as cluster 1, but nicer than cluster 2, middle class\n",
    "\n",
    "The descriptions to the GM clusters are very similar to those of the Kmeans cluster, but it would seem that the GM clusters further separate the housing area that is along the Charles River (CHAS) - Cluster 1.\n",
    "\n",
    "### Business Insights\n",
    "The analysis of the Boston Housing data clearly provides some insight into certain areas of residential living in Boston. These insights could be valuable for many businesses such as marketing companies who tailor content to certain demographics. It can be used to group similar neighborhoods based on the features of the houses like median value of owner-occupied homes, crime rate, nitric oxides concentration, and other relevant information."
   ]
  },
  {
   "attachments": {},
   "cell_type": "markdown",
   "metadata": {},
   "source": [
    "## 10. Housing Development Scenario\n",
    "For the following scenario we will be using the 3 clusters suggested using the K-Means approach\n",
    "\n",
    "a. What approach will you take to attract people from different classes for selling or buying houses across boston area?\n",
    "- For Cluster 0,\n",
    "    - by reducing pupil-teacher ratio perphaps attract families with children as they will be looking for good public school system\n",
    "\t- increase accessibilities to public transportation systems\n",
    "\t\t\n",
    "- For Cluster 1 and 2,</br>\n",
    "    - by reducing pupil-teacher ratio perphaps attract families with children as they will be looking for affortable and good public school system\n",
    "\t- deploying employment centres in middle and lower class areas attract people for different kind of jobs\n",
    "\t- provide government incentivies, for installing electric stoves or placement of air purifiers with HEPA and carbon filters can decrease indoor nitric oxides concentrations in middle and lower class homes\n",
    "    - steps to reduce crime rates in middle and lower class areas ensures safety for families and perphaps attract families\tto move to those areas\n",
    "\t- government incentivies to build new houses by giving contracts to 3rd parties\n",
    "\n",
    "b. How will real estate identify housing demands in each segment?\n",
    "- Housing demands could likely be identified by attributes that define their segment\n",
    "    - Cluster 0 are less poor which would suggest that they are more educated on average and has higher jobs and more money. More number of employment centers attracts peoples\n",
    "    - Cluster 1 middle class people but can increase housing demand by improving the infrastructure, employment centers, reducing crime rates \n",
    "    - Cluster 2 lower class people but can attract housing demand by improving the infrastructure, employment centers, reducing crime rates \n",
    "\n",
    "Based on these descriptions we likely could identify the segment and make decisions about where to invest in real estate or which neighborhoods to target for housing development."
   ]
  },
  {
   "cell_type": "code",
   "execution_count": null,
   "metadata": {},
   "outputs": [],
   "source": []
  }
 ],
 "metadata": {
  "kernelspec": {
   "display_name": "hmi",
   "language": "python",
   "name": "hmi"
  },
  "language_info": {
   "codemirror_mode": {
    "name": "ipython",
    "version": 3
   },
   "file_extension": ".py",
   "mimetype": "text/x-python",
   "name": "python",
   "nbconvert_exporter": "python",
   "pygments_lexer": "ipython3",
   "version": "3.7.7"
  },
  "vscode": {
   "interpreter": {
    "hash": "d49c3f6d6dd49f9272b571d9fad348ab55b8c6c3f691520d74ed0af1f69c3dd8"
   }
  }
 },
 "nbformat": 4,
 "nbformat_minor": 4
}
