{
 "cells": [
  {
   "attachments": {},
   "cell_type": "markdown",
   "metadata": {
    "tags": []
   },
   "source": [
    "# MSCA 31008 - Data Mining Assignment 2 (Group 4)\n",
    "<b>Prinu Mathew, Qingwei Zhang, Jake Brewer</b><br>\n",
    "<b>Winter 2023</b>"
   ]
  },
  {
   "cell_type": "markdown",
   "metadata": {
    "tags": []
   },
   "source": [
    "### Import Libraries  "
   ]
  },
  {
   "cell_type": "code",
   "execution_count": 30,
   "metadata": {},
   "outputs": [],
   "source": [
    "import sys, os, json, subprocess\n",
    "\n",
    "## for data\n",
    "import pandas as pd\n",
    "import numpy as np\n",
    "import datetime\n",
    "\n",
    "## for machine learning\n",
    "from scipy import stats\n",
    "from scipy.spatial.distance import cdist\n",
    "\n",
    "import warnings\n",
    "warnings.filterwarnings('ignore')"
   ]
  },
  {
   "cell_type": "code",
   "execution_count": 31,
   "metadata": {},
   "outputs": [
    {
     "name": "stdout",
     "output_type": "stream",
     "text": [
      "~~~ Already installed required packages for machine learning ~~~~\n"
     ]
    }
   ],
   "source": [
    "## for machine learning\n",
    "try:\n",
    "    from kneed import KneeLocator\n",
    "    from sklearn.model_selection import train_test_split\n",
    "    from sklearn.preprocessing import MinMaxScaler\n",
    "    from sklearn.cluster import KMeans\n",
    "    from sklearn.mixture import GaussianMixture\n",
    "    from sklearn.metrics import silhouette_score\n",
    "    import sklearn.datasets\n",
    "        \n",
    "    print(\"~~~ Already installed required packages for machine learning ~~~~\")\n",
    "except Exception as e:\n",
    "    print(e)\n",
    "    \n",
    "    print(\"~~~ Installing required packages for machine learning ~~~~\")\n",
    "    subprocess.check_call([sys.executable, \"-m\", \"pip\", \"install\", \"--upgrade\", \"kneed\"])\n",
    "    subprocess.check_call([sys.executable, \"-m\", \"pip\", \"install\", \"--upgrade\", \"scikit-learn\"])\n",
    "    from sklearn.model_selection import train_test_split\n",
    "    from sklearn.preprocessing import MinMaxScaler\n",
    "    from sklearn.cluster import KMeans\n",
    "    from sklearn.mixture import GaussianMixture\n",
    "    from sklearn.metrics import silhouette_score\n",
    "    import sklearn.datasets"
   ]
  },
  {
   "cell_type": "code",
   "execution_count": 32,
   "metadata": {},
   "outputs": [
    {
     "name": "stdout",
     "output_type": "stream",
     "text": [
      "~~~ Already installed required packages for interactive visualizations ~~~~\n"
     ]
    }
   ],
   "source": [
    "## for interactive visualization\n",
    "try:\n",
    "    import matplotlib.pyplot as plt\n",
    "    import seaborn as sns\n",
    "    \n",
    "    print(\"~~~ Already installed required packages for interactive visualizations ~~~~\")\n",
    "except Exception as e:\n",
    "    print(e)\n",
    "    \n",
    "    print(\"~~~ Installing required packages for interactive visualizations ~~~~\")\n",
    "    subprocess.check_call([sys.executable, \"-m\", \"pip\", \"install\", \"--upgrade\", \"matplotlib\"])\n",
    "    subprocess.check_call([sys.executable, \"-m\", \"pip\", \"install\", \"--upgrade\", \"seaborn\"])\n",
    "    import matplotlib.pyplot as plt\n",
    "    import seaborn as sns\n",
    "    \n",
    "%matplotlib inline"
   ]
  },
  {
   "attachments": {},
   "cell_type": "markdown",
   "metadata": {},
   "source": [
    "## 1. Read dataset\n",
    "Include all variables except for MEDV (Median value of owner-occupied homes in $1000's). Since MEDV typically would be the target variable that we want to predict we should exclude it so that the clusters only consist of predictor (independent) variables."
   ]
  },
  {
   "cell_type": "code",
   "execution_count": 33,
   "metadata": {},
   "outputs": [
    {
     "data": {
      "text/html": [
       "<div>\n",
       "<style scoped>\n",
       "    .dataframe tbody tr th:only-of-type {\n",
       "        vertical-align: middle;\n",
       "    }\n",
       "\n",
       "    .dataframe tbody tr th {\n",
       "        vertical-align: top;\n",
       "    }\n",
       "\n",
       "    .dataframe thead th {\n",
       "        text-align: right;\n",
       "    }\n",
       "</style>\n",
       "<table border=\"1\" class=\"dataframe\">\n",
       "  <thead>\n",
       "    <tr style=\"text-align: right;\">\n",
       "      <th></th>\n",
       "      <th>CRIM</th>\n",
       "      <th>ZN</th>\n",
       "      <th>INDUS</th>\n",
       "      <th>CHAS</th>\n",
       "      <th>NOX</th>\n",
       "      <th>RM</th>\n",
       "      <th>AGE</th>\n",
       "      <th>DIS</th>\n",
       "      <th>RAD</th>\n",
       "      <th>TAX</th>\n",
       "      <th>PTRATIO</th>\n",
       "      <th>B</th>\n",
       "      <th>LSTAT</th>\n",
       "      <th>MEDV</th>\n",
       "    </tr>\n",
       "  </thead>\n",
       "  <tbody>\n",
       "    <tr>\n",
       "      <th>0</th>\n",
       "      <td>0.00632</td>\n",
       "      <td>18.0</td>\n",
       "      <td>2.31</td>\n",
       "      <td>0</td>\n",
       "      <td>0.538</td>\n",
       "      <td>6.575</td>\n",
       "      <td>65.2</td>\n",
       "      <td>4.0900</td>\n",
       "      <td>1</td>\n",
       "      <td>296.0</td>\n",
       "      <td>15.3</td>\n",
       "      <td>396.90</td>\n",
       "      <td>4.98</td>\n",
       "      <td>24.0</td>\n",
       "    </tr>\n",
       "    <tr>\n",
       "      <th>1</th>\n",
       "      <td>0.02731</td>\n",
       "      <td>0.0</td>\n",
       "      <td>7.07</td>\n",
       "      <td>0</td>\n",
       "      <td>0.469</td>\n",
       "      <td>6.421</td>\n",
       "      <td>78.9</td>\n",
       "      <td>4.9671</td>\n",
       "      <td>2</td>\n",
       "      <td>242.0</td>\n",
       "      <td>17.8</td>\n",
       "      <td>396.90</td>\n",
       "      <td>9.14</td>\n",
       "      <td>21.6</td>\n",
       "    </tr>\n",
       "    <tr>\n",
       "      <th>2</th>\n",
       "      <td>0.02729</td>\n",
       "      <td>0.0</td>\n",
       "      <td>7.07</td>\n",
       "      <td>0</td>\n",
       "      <td>0.469</td>\n",
       "      <td>7.185</td>\n",
       "      <td>61.1</td>\n",
       "      <td>4.9671</td>\n",
       "      <td>2</td>\n",
       "      <td>242.0</td>\n",
       "      <td>17.8</td>\n",
       "      <td>392.83</td>\n",
       "      <td>4.03</td>\n",
       "      <td>34.7</td>\n",
       "    </tr>\n",
       "    <tr>\n",
       "      <th>3</th>\n",
       "      <td>0.03237</td>\n",
       "      <td>0.0</td>\n",
       "      <td>2.18</td>\n",
       "      <td>0</td>\n",
       "      <td>0.458</td>\n",
       "      <td>6.998</td>\n",
       "      <td>45.8</td>\n",
       "      <td>6.0622</td>\n",
       "      <td>3</td>\n",
       "      <td>222.0</td>\n",
       "      <td>18.7</td>\n",
       "      <td>394.63</td>\n",
       "      <td>2.94</td>\n",
       "      <td>33.4</td>\n",
       "    </tr>\n",
       "    <tr>\n",
       "      <th>4</th>\n",
       "      <td>0.06905</td>\n",
       "      <td>0.0</td>\n",
       "      <td>2.18</td>\n",
       "      <td>0</td>\n",
       "      <td>0.458</td>\n",
       "      <td>7.147</td>\n",
       "      <td>54.2</td>\n",
       "      <td>6.0622</td>\n",
       "      <td>3</td>\n",
       "      <td>222.0</td>\n",
       "      <td>18.7</td>\n",
       "      <td>396.90</td>\n",
       "      <td>5.33</td>\n",
       "      <td>36.2</td>\n",
       "    </tr>\n",
       "  </tbody>\n",
       "</table>\n",
       "</div>"
      ],
      "text/plain": [
       "      CRIM    ZN  INDUS  CHAS    NOX     RM   AGE     DIS  RAD    TAX  \\\n",
       "0  0.00632  18.0   2.31     0  0.538  6.575  65.2  4.0900    1  296.0   \n",
       "1  0.02731   0.0   7.07     0  0.469  6.421  78.9  4.9671    2  242.0   \n",
       "2  0.02729   0.0   7.07     0  0.469  7.185  61.1  4.9671    2  242.0   \n",
       "3  0.03237   0.0   2.18     0  0.458  6.998  45.8  6.0622    3  222.0   \n",
       "4  0.06905   0.0   2.18     0  0.458  7.147  54.2  6.0622    3  222.0   \n",
       "\n",
       "   PTRATIO       B  LSTAT  MEDV  \n",
       "0     15.3  396.90   4.98  24.0  \n",
       "1     17.8  396.90   9.14  21.6  \n",
       "2     17.8  392.83   4.03  34.7  \n",
       "3     18.7  394.63   2.94  33.4  \n",
       "4     18.7  396.90   5.33  36.2  "
      ]
     },
     "execution_count": 33,
     "metadata": {},
     "output_type": "execute_result"
    }
   ],
   "source": [
    "# reading the CSV file\n",
    "input_df = pd.read_csv('BostonHousing.csv', quotechar='\"', delimiter = ',')\n",
    "input_df.head(10)\n",
    "X = input_df.drop(columns=['MEDV'])\n",
    "input_df.head()"
   ]
  },
  {
   "attachments": {},
   "cell_type": "markdown",
   "metadata": {},
   "source": [
    "## 2. Scale the Data Using MinMaxScaler"
   ]
  },
  {
   "cell_type": "code",
   "execution_count": 34,
   "metadata": {},
   "outputs": [
    {
     "data": {
      "text/html": [
       "<div>\n",
       "<style scoped>\n",
       "    .dataframe tbody tr th:only-of-type {\n",
       "        vertical-align: middle;\n",
       "    }\n",
       "\n",
       "    .dataframe tbody tr th {\n",
       "        vertical-align: top;\n",
       "    }\n",
       "\n",
       "    .dataframe thead th {\n",
       "        text-align: right;\n",
       "    }\n",
       "</style>\n",
       "<table border=\"1\" class=\"dataframe\">\n",
       "  <thead>\n",
       "    <tr style=\"text-align: right;\">\n",
       "      <th></th>\n",
       "      <th>CRIM</th>\n",
       "      <th>ZN</th>\n",
       "      <th>INDUS</th>\n",
       "      <th>CHAS</th>\n",
       "      <th>NOX</th>\n",
       "      <th>RM</th>\n",
       "      <th>AGE</th>\n",
       "      <th>DIS</th>\n",
       "      <th>RAD</th>\n",
       "      <th>TAX</th>\n",
       "      <th>PTRATIO</th>\n",
       "      <th>B</th>\n",
       "      <th>LSTAT</th>\n",
       "    </tr>\n",
       "  </thead>\n",
       "  <tbody>\n",
       "    <tr>\n",
       "      <th>0</th>\n",
       "      <td>0.00632</td>\n",
       "      <td>18.0</td>\n",
       "      <td>2.31</td>\n",
       "      <td>0</td>\n",
       "      <td>0.538</td>\n",
       "      <td>6.575</td>\n",
       "      <td>65.2</td>\n",
       "      <td>4.0900</td>\n",
       "      <td>1</td>\n",
       "      <td>296.0</td>\n",
       "      <td>15.3</td>\n",
       "      <td>396.90</td>\n",
       "      <td>4.98</td>\n",
       "    </tr>\n",
       "    <tr>\n",
       "      <th>1</th>\n",
       "      <td>0.02731</td>\n",
       "      <td>0.0</td>\n",
       "      <td>7.07</td>\n",
       "      <td>0</td>\n",
       "      <td>0.469</td>\n",
       "      <td>6.421</td>\n",
       "      <td>78.9</td>\n",
       "      <td>4.9671</td>\n",
       "      <td>2</td>\n",
       "      <td>242.0</td>\n",
       "      <td>17.8</td>\n",
       "      <td>396.90</td>\n",
       "      <td>9.14</td>\n",
       "    </tr>\n",
       "    <tr>\n",
       "      <th>2</th>\n",
       "      <td>0.02729</td>\n",
       "      <td>0.0</td>\n",
       "      <td>7.07</td>\n",
       "      <td>0</td>\n",
       "      <td>0.469</td>\n",
       "      <td>7.185</td>\n",
       "      <td>61.1</td>\n",
       "      <td>4.9671</td>\n",
       "      <td>2</td>\n",
       "      <td>242.0</td>\n",
       "      <td>17.8</td>\n",
       "      <td>392.83</td>\n",
       "      <td>4.03</td>\n",
       "    </tr>\n",
       "    <tr>\n",
       "      <th>3</th>\n",
       "      <td>0.03237</td>\n",
       "      <td>0.0</td>\n",
       "      <td>2.18</td>\n",
       "      <td>0</td>\n",
       "      <td>0.458</td>\n",
       "      <td>6.998</td>\n",
       "      <td>45.8</td>\n",
       "      <td>6.0622</td>\n",
       "      <td>3</td>\n",
       "      <td>222.0</td>\n",
       "      <td>18.7</td>\n",
       "      <td>394.63</td>\n",
       "      <td>2.94</td>\n",
       "    </tr>\n",
       "    <tr>\n",
       "      <th>4</th>\n",
       "      <td>0.06905</td>\n",
       "      <td>0.0</td>\n",
       "      <td>2.18</td>\n",
       "      <td>0</td>\n",
       "      <td>0.458</td>\n",
       "      <td>7.147</td>\n",
       "      <td>54.2</td>\n",
       "      <td>6.0622</td>\n",
       "      <td>3</td>\n",
       "      <td>222.0</td>\n",
       "      <td>18.7</td>\n",
       "      <td>396.90</td>\n",
       "      <td>5.33</td>\n",
       "    </tr>\n",
       "  </tbody>\n",
       "</table>\n",
       "</div>"
      ],
      "text/plain": [
       "      CRIM    ZN  INDUS  CHAS    NOX     RM   AGE     DIS  RAD    TAX  \\\n",
       "0  0.00632  18.0   2.31     0  0.538  6.575  65.2  4.0900    1  296.0   \n",
       "1  0.02731   0.0   7.07     0  0.469  6.421  78.9  4.9671    2  242.0   \n",
       "2  0.02729   0.0   7.07     0  0.469  7.185  61.1  4.9671    2  242.0   \n",
       "3  0.03237   0.0   2.18     0  0.458  6.998  45.8  6.0622    3  222.0   \n",
       "4  0.06905   0.0   2.18     0  0.458  7.147  54.2  6.0622    3  222.0   \n",
       "\n",
       "   PTRATIO       B  LSTAT  \n",
       "0     15.3  396.90   4.98  \n",
       "1     17.8  396.90   9.14  \n",
       "2     17.8  392.83   4.03  \n",
       "3     18.7  394.63   2.94  \n",
       "4     18.7  396.90   5.33  "
      ]
     },
     "execution_count": 34,
     "metadata": {},
     "output_type": "execute_result"
    }
   ],
   "source": [
    "X.head()"
   ]
  },
  {
   "cell_type": "code",
   "execution_count": 67,
   "metadata": {},
   "outputs": [],
   "source": [
    "# split data into training and testing and scale using Min-Max scaling\n",
    "X_train, X_test = train_test_split(X, test_size=.3, random_state=50)\n",
    "\n",
    "scaler  = MinMaxScaler(feature_range=(0, 1))\n",
    "model=scaler.fit(X_train) # fit just to train data\n",
    "X_train = model.transform(X_train) # transform train using fitted train\n",
    "X_test = model.transform(X_test) # transform test using fitted train"
   ]
  },
  {
   "cell_type": "code",
   "execution_count": 68,
   "metadata": {},
   "outputs": [
    {
     "data": {
      "text/plain": [
       "array([[2.33528471e-03, 2.20000000e-01, 1.97947214e-01, ...,\n",
       "        6.91489362e-01, 9.49708344e-01, 5.27659574e-02],\n",
       "       [2.92795719e-04, 0.00000000e+00, 6.30498534e-02, ...,\n",
       "        6.48936170e-01, 9.94242962e-01, 3.43262411e-02],\n",
       "       [6.80252688e-03, 2.00000000e-01, 1.28665689e-01, ...,\n",
       "        4.25531915e-02, 9.81739792e-01, 9.61702128e-02],\n",
       "       ...,\n",
       "       [9.79031331e-02, 0.00000000e+00, 6.46627566e-01, ...,\n",
       "        8.08510638e-01, 9.87522191e-01, 4.36595745e-01],\n",
       "       [6.53894329e-02, 0.00000000e+00, 6.46627566e-01, ...,\n",
       "        8.08510638e-01, 1.00000000e+00, 2.55602837e-01],\n",
       "       [7.18220593e-04, 0.00000000e+00, 1.31598240e-01, ...,\n",
       "        4.25531915e-01, 9.90692366e-01, 2.37730496e-01]])"
      ]
     },
     "execution_count": 68,
     "metadata": {},
     "output_type": "execute_result"
    }
   ],
   "source": [
    "X_train"
   ]
  },
  {
   "attachments": {},
   "cell_type": "markdown",
   "metadata": {},
   "source": [
    "## 3. Generate K-means Solutions with 2-10 Clusters\n",
    "<b>Distortion</b>: It is calculated as the average of the squared distances from the cluster centers of the respective clusters. Typically, the Euclidean distance metric is used.<br>\n",
    "<b>Inertia</b>: It is the sum of squared distances of samples to their closest cluster center."
   ]
  },
  {
   "cell_type": "code",
   "execution_count": 37,
   "metadata": {},
   "outputs": [],
   "source": [
    "min_clusters = 2\n",
    "max_clusters = 11\n",
    "kmean_random_state = 50 #Determines random number generation for centroid initialization\n",
    "kmean_n_init= 100       #The number of initializations to perform. The best results are kept."
   ]
  },
  {
   "cell_type": "code",
   "execution_count": 83,
   "metadata": {},
   "outputs": [],
   "source": [
    "# run kmeans with various number of clusters\n",
    "distortions = []\n",
    "wcss = []\n",
    "clus_size = []\n",
    "centroids = []\n",
    "distortions_mapping = {}\n",
    "wcss_mapping = {}\n",
    "\n",
    "kmeans_kwargs = {\n",
    "    \"init\": \"random\",\n",
    "    \"n_init\": kmean_n_init,\n",
    "    \"max_iter\": 300,\n",
    "    \"random_state\": kmean_random_state,\n",
    "}\n",
    "K = range(min_clusters, max_clusters)\n",
    "\n",
    "# inertia or WCSS (Within Cluster Sum of Squares) measures how well a dataset was clustered by K-Means. It is calculated by measuring the distance between each data point and its centroid, \n",
    "# squaring this distance, and summing these squares across one cluster. A good model is one with low inertia AND a low number of clusters ( K )\n",
    "for i in K:\n",
    "    kmeans = KMeans(n_clusters=i, **kmeans_kwargs)\n",
    "    kmeans.fit(X_train)\n",
    "    kmeans.transform(X_train)\n",
    "\n",
    "    # calcuate distortion\n",
    "    distortion = sum(np.min(cdist(X_train, kmeans.cluster_centers_, 'euclidean'), axis=1)) / X_train.shape[0]\n",
    "    distortions.append(distortion)\n",
    "    distortions_mapping[i] = distortion\n",
    "\n",
    "    # get WCSS (Within Cluster Sum of Squares)\n",
    "    wcss.append(kmeans.inertia_)\n",
    "    wcss_mapping[i] = kmeans.inertia_\n",
    "\n",
    "    # get cluster sizes\n",
    "    clust_size_dict = {}\n",
    "    for j in range(0, i):\n",
    "        # percentage of data points allocated in each cluster\n",
    "        clust_size_dict[j] = len(kmeans.predict(X_train)[kmeans.predict(X_train) == j]) / len(X_train)\n",
    "    clus_size.append(clust_size_dict)\n",
    "\n",
    "    centroids.append(kmeans.cluster_centers_)"
   ]
  },
  {
   "attachments": {},
   "cell_type": "markdown",
   "metadata": {},
   "source": [
    "## 4-5. Perform Scree Tests / Show Scree Plot"
   ]
  },
  {
   "attachments": {},
   "cell_type": "markdown",
   "metadata": {},
   "source": [
    "### Using the different values of Distortion:"
   ]
  },
  {
   "cell_type": "code",
   "execution_count": 85,
   "metadata": {},
   "outputs": [
    {
     "name": "stdout",
     "output_type": "stream",
     "text": [
      "2 : 0.6076211798742059\n",
      "3 : 0.5302640241647033\n",
      "4 : 0.49094083306835573\n",
      "5 : 0.4660346828797432\n",
      "6 : 0.42905597019826613\n",
      "7 : 0.40001296963631017\n",
      "8 : 0.3810839331121636\n",
      "9 : 0.36682328572284206\n",
      "10 : 0.3587799904520838\n"
     ]
    }
   ],
   "source": [
    "for key, val in distortions_mapping.items():\n",
    "    print(f'{key} : {val}')"
   ]
  },
  {
   "cell_type": "code",
   "execution_count": 40,
   "metadata": {},
   "outputs": [
    {
     "data": {
      "image/png": "[encoded data removed]",
      "text/plain": [
       "<Figure size 432x288 with 1 Axes>"
      ]
     },
     "metadata": {
      "needs_background": "light"
     },
     "output_type": "display_data"
    }
   ],
   "source": [
    "# scree plot\n",
    "fig, ax = plt.subplots()\n",
    "\n",
    "ax.plot(K, distortions, 'bx-')\n",
    "plt.xlabel('Number of clusters')\n",
    "plt.ylabel('Distortion')\n",
    "plt.title('The Elbow Method using Distortion')\n",
    "plt.show()"
   ]
  },
  {
   "attachments": {},
   "cell_type": "markdown",
   "metadata": {},
   "source": [
    "### Using the different values of Inertia (WCSS):"
   ]
  },
  {
   "cell_type": "code",
   "execution_count": 86,
   "metadata": {},
   "outputs": [
    {
     "name": "stdout",
     "output_type": "stream",
     "text": [
      "2 : 151.65902250723494\n",
      "3 : 116.52083192252748\n",
      "4 : 99.19104266045733\n",
      "5 : 86.93497865585985\n",
      "6 : 75.27691438928183\n",
      "7 : 65.80929602520955\n",
      "8 : 59.77664401063546\n",
      "9 : 55.29613588960134\n",
      "10 : 51.653554738909605\n"
     ]
    }
   ],
   "source": [
    "for key, val in wcss_mapping.items():\n",
    "    print(f'{key} : {val}')"
   ]
  },
  {
   "cell_type": "code",
   "execution_count": 87,
   "metadata": {},
   "outputs": [
    {
     "data": {
      "image/png": "[encoded data removed]",
      "text/plain": [
       "<Figure size 432x288 with 1 Axes>"
      ]
     },
     "metadata": {
      "needs_background": "light"
     },
     "output_type": "display_data"
    }
   ],
   "source": [
    "# scree plot\n",
    "fig, ax = plt.subplots()\n",
    "\n",
    "ax.plot(K, wcss, 'bx-')\n",
    "plt.xlabel('Number of clusters')\n",
    "plt.ylabel('WCSS')\n",
    "plt.title('The Elbow Method using WCSS')\n",
    "plt.show()"
   ]
  },
  {
   "attachments": {},
   "cell_type": "markdown",
   "metadata": {},
   "source": [
    "### Identify the elbow point programmatically"
   ]
  },
  {
   "cell_type": "code",
   "execution_count": 43,
   "metadata": {},
   "outputs": [
    {
     "data": {
      "text/plain": [
       "4"
      ]
     },
     "execution_count": 43,
     "metadata": {},
     "output_type": "execute_result"
    }
   ],
   "source": [
    "kl = KneeLocator(\n",
    "    range(min_clusters, max_clusters), wcss, curve=\"convex\", direction=\"decreasing\"\n",
    ")\n",
    "kl.elbow"
   ]
  },
  {
   "attachments": {},
   "cell_type": "markdown",
   "metadata": {},
   "source": [
    "Even though programmatically, elbow value is 4 but through human eye, we feel comfortable with elbow value of 3"
   ]
  },
  {
   "cell_type": "code",
   "execution_count": 44,
   "metadata": {},
   "outputs": [
    {
     "data": {
      "text/plain": [
       "3"
      ]
     },
     "execution_count": 44,
     "metadata": {},
     "output_type": "execute_result"
    }
   ],
   "source": [
    "\n",
    "optimal_clusters = 3\n",
    "optimal_clusters"
   ]
  },
  {
   "attachments": {},
   "cell_type": "markdown",
   "metadata": {},
   "source": [
    "### Interpretation of Scree Plot\n",
    " \n",
    "From above visual interpretation, to determine the optimal number of clusters, we have to select the value of k at the “elbow” ie the point after which the distortion/inertia start decreasing in a linear fashion. In other words, there’s a sweet spot where the SSE (sum of the squared error) curve starts to bend known as the elbow point. The x-value of this point is thought to be a reasonable trade-off between error and number of clusters. In above example, the elbow is located at x=3. Thus for the given data, we conclude that the optimal number of clusters for the data is 3"
   ]
  },
  {
   "attachments": {},
   "cell_type": "markdown",
   "metadata": {},
   "source": [
    "## 6. Run K-means on Test Data and Compare Results to K-means on Train Data"
   ]
  },
  {
   "cell_type": "code",
   "execution_count": 88,
   "metadata": {},
   "outputs": [
    {
     "data": {
      "text/plain": [
       "array([[1.40407155e-01, 1.52655666e-16, 6.61991585e-01, 3.26086957e-02,\n",
       "        5.72195384e-01, 4.47919089e-01, 8.83199749e-01, 8.89393985e-02,\n",
       "        9.62192817e-01, 9.17855958e-01, 8.08048104e-01, 7.29840995e-01,\n",
       "        4.78054271e-01],\n",
       "       [9.28986921e-04, 3.26693548e-01, 1.68787248e-01, 1.61290323e-02,\n",
       "        1.18493628e-01, 5.40624461e-01, 3.31567058e-01, 4.51698940e-01,\n",
       "        1.42356241e-01, 2.08861734e-01, 5.36461908e-01, 9.80664796e-01,\n",
       "        1.59695722e-01],\n",
       "       [7.23228720e-03, 2.10507246e-02, 3.86105976e-01, 1.01449275e-01,\n",
       "        3.88531043e-01, 4.96071277e-01, 8.13668861e-01, 1.70376290e-01,\n",
       "        1.57529931e-01, 2.66650072e-01, 5.86262720e-01, 9.47441807e-01,\n",
       "        3.21924144e-01]])"
      ]
     },
     "execution_count": 88,
     "metadata": {},
     "output_type": "execute_result"
    }
   ],
   "source": [
    "# find the initial centroids (centers of the clusters) from the train centroids based on the optimal clusters\n",
    "train_centroids = []\n",
    "\n",
    "for j in range(len(centroids)):\n",
    "    if(len(centroids[j]) == optimal_clusters):\n",
    "        train_centroids = centroids[j]\n",
    "\n",
    "if(len(train_centroids) == 0):\n",
    "    raise Exception(f\"Unable to find the centers of the clusters from the train data solution as a starting point from optimal clustes '{optimal_clusters}'\")\n",
    "\n",
    "train_centroids"
   ]
  },
  {
   "cell_type": "code",
   "execution_count": 91,
   "metadata": {},
   "outputs": [],
   "source": [
    "# run K-Means on the test data using the train data for fitting\n",
    "# init = if an array is passed, it should be of shape (n_clusters, n_features) and gives the initial centers.\n",
    "test_cluster = KMeans(n_clusters=optimal_clusters, n_init=kmean_n_init, init=train_centroids, random_state=kmean_random_state) \n",
    "test_cluster.fit(X_test)\n",
    "test_centroids = test_cluster.cluster_centers_"
   ]
  },
  {
   "cell_type": "code",
   "execution_count": 92,
   "metadata": {},
   "outputs": [],
   "source": [
    "test_clust_size = {}\n",
    "for j in range(0, optimal_clusters):\n",
    "    # percentage of data points allocated in each cluster\n",
    "    test_clust_size[j] = len(test_cluster.predict(X_test)[test_cluster.predict(X_test) == j]) / len(X_test)"
   ]
  },
  {
   "attachments": {},
   "cell_type": "markdown",
   "metadata": {},
   "source": [
    "### Compare Train Results to Test Results"
   ]
  },
  {
   "cell_type": "code",
   "execution_count": 93,
   "metadata": {},
   "outputs": [
    {
     "name": "stdout",
     "output_type": "stream",
     "text": [
      "Train Cluster Size : {0: 0.2598870056497175, 1: 0.3502824858757062, 2: 0.3898305084745763}\n",
      "Test Cluster Size : {0: 0.29605263157894735, 1: 0.34210526315789475, 2: 0.3618421052631579}\n"
     ]
    }
   ],
   "source": [
    "# cluster sizes\n",
    "print(f'Train Cluster Size : {clus_size[optimal_clusters-2]}')\n",
    "print(f'Test Cluster Size : {test_clust_size}')"
   ]
  },
  {
   "cell_type": "code",
   "execution_count": 49,
   "metadata": {},
   "outputs": [
    {
     "data": {
      "text/html": [
       "<div>\n",
       "<style scoped>\n",
       "    .dataframe tbody tr th:only-of-type {\n",
       "        vertical-align: middle;\n",
       "    }\n",
       "\n",
       "    .dataframe tbody tr th {\n",
       "        vertical-align: top;\n",
       "    }\n",
       "\n",
       "    .dataframe thead th {\n",
       "        text-align: right;\n",
       "    }\n",
       "</style>\n",
       "<table border=\"1\" class=\"dataframe\">\n",
       "  <thead>\n",
       "    <tr style=\"text-align: right;\">\n",
       "      <th></th>\n",
       "      <th>CRIM</th>\n",
       "      <th>ZN</th>\n",
       "      <th>INDUS</th>\n",
       "      <th>CHAS</th>\n",
       "      <th>NOX</th>\n",
       "      <th>RM</th>\n",
       "      <th>AGE</th>\n",
       "      <th>DIS</th>\n",
       "      <th>RAD</th>\n",
       "      <th>TAX</th>\n",
       "      <th>PTRATIO</th>\n",
       "      <th>B</th>\n",
       "      <th>LSTAT</th>\n",
       "    </tr>\n",
       "  </thead>\n",
       "  <tbody>\n",
       "    <tr>\n",
       "      <th>0</th>\n",
       "      <td>12.498328</td>\n",
       "      <td>1.526557e-14</td>\n",
       "      <td>18.519130</td>\n",
       "      <td>0.032609</td>\n",
       "      <td>0.663087</td>\n",
       "      <td>6.040783</td>\n",
       "      <td>88.658696</td>\n",
       "      <td>2.143645</td>\n",
       "      <td>23.130435</td>\n",
       "      <td>667.956522</td>\n",
       "      <td>20.195652</td>\n",
       "      <td>290.376304</td>\n",
       "      <td>18.581413</td>\n",
       "    </tr>\n",
       "    <tr>\n",
       "      <th>1</th>\n",
       "      <td>0.088972</td>\n",
       "      <td>3.266935e+01</td>\n",
       "      <td>5.064516</td>\n",
       "      <td>0.016129</td>\n",
       "      <td>0.442588</td>\n",
       "      <td>6.491516</td>\n",
       "      <td>35.095161</td>\n",
       "      <td>6.118546</td>\n",
       "      <td>4.274194</td>\n",
       "      <td>296.443548</td>\n",
       "      <td>17.642742</td>\n",
       "      <td>389.276129</td>\n",
       "      <td>7.359274</td>\n",
       "    </tr>\n",
       "    <tr>\n",
       "      <th>2</th>\n",
       "      <td>0.649776</td>\n",
       "      <td>2.105072e+00</td>\n",
       "      <td>10.992971</td>\n",
       "      <td>0.101449</td>\n",
       "      <td>0.573826</td>\n",
       "      <td>6.274899</td>\n",
       "      <td>81.907246</td>\n",
       "      <td>3.035981</td>\n",
       "      <td>4.623188</td>\n",
       "      <td>326.724638</td>\n",
       "      <td>18.110870</td>\n",
       "      <td>376.176304</td>\n",
       "      <td>13.077826</td>\n",
       "    </tr>\n",
       "  </tbody>\n",
       "</table>\n",
       "</div>"
      ],
      "text/plain": [
       "        CRIM            ZN      INDUS      CHAS       NOX        RM  \\\n",
       "0  12.498328  1.526557e-14  18.519130  0.032609  0.663087  6.040783   \n",
       "1   0.088972  3.266935e+01   5.064516  0.016129  0.442588  6.491516   \n",
       "2   0.649776  2.105072e+00  10.992971  0.101449  0.573826  6.274899   \n",
       "\n",
       "         AGE       DIS        RAD         TAX    PTRATIO           B  \\\n",
       "0  88.658696  2.143645  23.130435  667.956522  20.195652  290.376304   \n",
       "1  35.095161  6.118546   4.274194  296.443548  17.642742  389.276129   \n",
       "2  81.907246  3.035981   4.623188  326.724638  18.110870  376.176304   \n",
       "\n",
       "       LSTAT  \n",
       "0  18.581413  \n",
       "1   7.359274  \n",
       "2  13.077826  "
      ]
     },
     "execution_count": 49,
     "metadata": {},
     "output_type": "execute_result"
    }
   ],
   "source": [
    "# centroids - with reverse scaling (train)\n",
    "train_centroids_unscale = pd.DataFrame(scaler.inverse_transform(train_centroids))\n",
    "train_centroids_unscale.columns = X.columns\n",
    "train_centroids_unscale"
   ]
  },
  {
   "cell_type": "code",
   "execution_count": 50,
   "metadata": {},
   "outputs": [
    {
     "data": {
      "text/html": [
       "<div>\n",
       "<style scoped>\n",
       "    .dataframe tbody tr th:only-of-type {\n",
       "        vertical-align: middle;\n",
       "    }\n",
       "\n",
       "    .dataframe tbody tr th {\n",
       "        vertical-align: top;\n",
       "    }\n",
       "\n",
       "    .dataframe thead th {\n",
       "        text-align: right;\n",
       "    }\n",
       "</style>\n",
       "<table border=\"1\" class=\"dataframe\">\n",
       "  <thead>\n",
       "    <tr style=\"text-align: right;\">\n",
       "      <th></th>\n",
       "      <th>CRIM</th>\n",
       "      <th>ZN</th>\n",
       "      <th>INDUS</th>\n",
       "      <th>CHAS</th>\n",
       "      <th>NOX</th>\n",
       "      <th>RM</th>\n",
       "      <th>AGE</th>\n",
       "      <th>DIS</th>\n",
       "      <th>RAD</th>\n",
       "      <th>TAX</th>\n",
       "      <th>PTRATIO</th>\n",
       "      <th>B</th>\n",
       "      <th>LSTAT</th>\n",
       "    </tr>\n",
       "  </thead>\n",
       "  <tbody>\n",
       "    <tr>\n",
       "      <th>0</th>\n",
       "      <td>11.891978</td>\n",
       "      <td>-5.551115e-15</td>\n",
       "      <td>18.314222</td>\n",
       "      <td>0.111111</td>\n",
       "      <td>0.684444</td>\n",
       "      <td>5.935533</td>\n",
       "      <td>92.644444</td>\n",
       "      <td>1.872158</td>\n",
       "      <td>23.555556</td>\n",
       "      <td>667.000000</td>\n",
       "      <td>20.197778</td>\n",
       "      <td>292.394000</td>\n",
       "      <td>18.864889</td>\n",
       "    </tr>\n",
       "    <tr>\n",
       "      <th>1</th>\n",
       "      <td>0.134139</td>\n",
       "      <td>2.559615e+01</td>\n",
       "      <td>5.348077</td>\n",
       "      <td>0.076923</td>\n",
       "      <td>0.449573</td>\n",
       "      <td>6.658173</td>\n",
       "      <td>38.563462</td>\n",
       "      <td>5.602502</td>\n",
       "      <td>4.153846</td>\n",
       "      <td>286.269231</td>\n",
       "      <td>17.594231</td>\n",
       "      <td>389.175577</td>\n",
       "      <td>7.224423</td>\n",
       "    </tr>\n",
       "    <tr>\n",
       "      <th>2</th>\n",
       "      <td>0.650563</td>\n",
       "      <td>1.409091e+00</td>\n",
       "      <td>12.439636</td>\n",
       "      <td>0.127273</td>\n",
       "      <td>0.571364</td>\n",
       "      <td>6.183000</td>\n",
       "      <td>85.690909</td>\n",
       "      <td>3.087891</td>\n",
       "      <td>4.727273</td>\n",
       "      <td>333.963636</td>\n",
       "      <td>17.630909</td>\n",
       "      <td>367.000182</td>\n",
       "      <td>13.656000</td>\n",
       "    </tr>\n",
       "  </tbody>\n",
       "</table>\n",
       "</div>"
      ],
      "text/plain": [
       "        CRIM            ZN      INDUS      CHAS       NOX        RM  \\\n",
       "0  11.891978 -5.551115e-15  18.314222  0.111111  0.684444  5.935533   \n",
       "1   0.134139  2.559615e+01   5.348077  0.076923  0.449573  6.658173   \n",
       "2   0.650563  1.409091e+00  12.439636  0.127273  0.571364  6.183000   \n",
       "\n",
       "         AGE       DIS        RAD         TAX    PTRATIO           B  \\\n",
       "0  92.644444  1.872158  23.555556  667.000000  20.197778  292.394000   \n",
       "1  38.563462  5.602502   4.153846  286.269231  17.594231  389.175577   \n",
       "2  85.690909  3.087891   4.727273  333.963636  17.630909  367.000182   \n",
       "\n",
       "       LSTAT  \n",
       "0  18.864889  \n",
       "1   7.224423  \n",
       "2  13.656000  "
      ]
     },
     "execution_count": 50,
     "metadata": {},
     "output_type": "execute_result"
    }
   ],
   "source": [
    "# centroids - with reverse scaling (test)\n",
    "test_centroids_unscale = pd.DataFrame(scaler.inverse_transform(test_centroids))\n",
    "test_centroids_unscale.columns = X.columns\n",
    "test_centroids_unscale"
   ]
  },
  {
   "cell_type": "code",
   "execution_count": 51,
   "metadata": {},
   "outputs": [
    {
     "data": {
      "text/html": [
       "<div>\n",
       "<style scoped>\n",
       "    .dataframe tbody tr th:only-of-type {\n",
       "        vertical-align: middle;\n",
       "    }\n",
       "\n",
       "    .dataframe tbody tr th {\n",
       "        vertical-align: top;\n",
       "    }\n",
       "\n",
       "    .dataframe thead th {\n",
       "        text-align: right;\n",
       "    }\n",
       "</style>\n",
       "<table border=\"1\" class=\"dataframe\">\n",
       "  <thead>\n",
       "    <tr style=\"text-align: right;\">\n",
       "      <th></th>\n",
       "      <th>CRIM</th>\n",
       "      <th>ZN</th>\n",
       "      <th>INDUS</th>\n",
       "      <th>CHAS</th>\n",
       "      <th>NOX</th>\n",
       "      <th>RM</th>\n",
       "      <th>AGE</th>\n",
       "      <th>DIS</th>\n",
       "      <th>RAD</th>\n",
       "      <th>TAX</th>\n",
       "      <th>PTRATIO</th>\n",
       "      <th>B</th>\n",
       "      <th>LSTAT</th>\n",
       "    </tr>\n",
       "  </thead>\n",
       "  <tbody>\n",
       "    <tr>\n",
       "      <th>0</th>\n",
       "      <td>0.606350</td>\n",
       "      <td>2.081668e-14</td>\n",
       "      <td>0.204908</td>\n",
       "      <td>0.078502</td>\n",
       "      <td>0.021357</td>\n",
       "      <td>0.105249</td>\n",
       "      <td>3.985749</td>\n",
       "      <td>0.271487</td>\n",
       "      <td>0.425121</td>\n",
       "      <td>0.956522</td>\n",
       "      <td>0.002126</td>\n",
       "      <td>2.017696</td>\n",
       "      <td>0.283476</td>\n",
       "    </tr>\n",
       "    <tr>\n",
       "      <th>1</th>\n",
       "      <td>0.045167</td>\n",
       "      <td>7.073201e+00</td>\n",
       "      <td>0.283561</td>\n",
       "      <td>0.060794</td>\n",
       "      <td>0.006985</td>\n",
       "      <td>0.166657</td>\n",
       "      <td>3.468300</td>\n",
       "      <td>0.516044</td>\n",
       "      <td>0.120347</td>\n",
       "      <td>10.174318</td>\n",
       "      <td>0.048511</td>\n",
       "      <td>0.100552</td>\n",
       "      <td>0.134851</td>\n",
       "    </tr>\n",
       "    <tr>\n",
       "      <th>2</th>\n",
       "      <td>0.000788</td>\n",
       "      <td>6.959816e-01</td>\n",
       "      <td>1.446665</td>\n",
       "      <td>0.025823</td>\n",
       "      <td>0.002462</td>\n",
       "      <td>0.091899</td>\n",
       "      <td>3.783663</td>\n",
       "      <td>0.051910</td>\n",
       "      <td>0.104084</td>\n",
       "      <td>7.238999</td>\n",
       "      <td>0.479960</td>\n",
       "      <td>9.176123</td>\n",
       "      <td>0.578174</td>\n",
       "    </tr>\n",
       "  </tbody>\n",
       "</table>\n",
       "</div>"
      ],
      "text/plain": [
       "       CRIM            ZN     INDUS      CHAS       NOX        RM       AGE  \\\n",
       "0  0.606350  2.081668e-14  0.204908  0.078502  0.021357  0.105249  3.985749   \n",
       "1  0.045167  7.073201e+00  0.283561  0.060794  0.006985  0.166657  3.468300   \n",
       "2  0.000788  6.959816e-01  1.446665  0.025823  0.002462  0.091899  3.783663   \n",
       "\n",
       "        DIS       RAD        TAX   PTRATIO         B     LSTAT  \n",
       "0  0.271487  0.425121   0.956522  0.002126  2.017696  0.283476  \n",
       "1  0.516044  0.120347  10.174318  0.048511  0.100552  0.134851  \n",
       "2  0.051910  0.104084   7.238999  0.479960  9.176123  0.578174  "
      ]
     },
     "execution_count": 51,
     "metadata": {},
     "output_type": "execute_result"
    }
   ],
   "source": [
    "# centroids - with reverse scaling (train - test)\n",
    "abs(train_centroids_unscale - test_centroids_unscale)"
   ]
  },
  {
   "attachments": {},
   "cell_type": "markdown",
   "metadata": {},
   "source": [
    "### Interpretation of K-means Train/Test Clustering Results\n",
    "After comparing the results of the k-means clustering on the train and test data with 3 clusters we noticed the following:\n",
    "- The % of data points in each cluster for both training and testing is very similar\n",
    "- The unscaled centroids for the training and testing sets are very similar"
   ]
  },
  {
   "attachments": {},
   "cell_type": "markdown",
   "metadata": {},
   "source": [
    "## 7. Generate Gaussian Mixture Models"
   ]
  },
  {
   "attachments": {},
   "cell_type": "markdown",
   "metadata": {},
   "source": [
    "One way to think about the k-means model is that it places a circle (or, in higher dimensions, a hyper-sphere) at the center of each cluster, with a radius defined by the most distant point in the cluster. This works fine for when your data is circular. In contrast, Gaussian mixture models can handle even very oblong clusters. The second difference between k-means and Gaussian mixture models is that the former performs hard classification whereas the latter performs soft classification. In other words, k-means tells us what data point belong to which cluster but won’t provide us with the probabilities that a given data point belongs to each of the possible clusters."
   ]
  },
  {
   "cell_type": "code",
   "execution_count": 52,
   "metadata": {},
   "outputs": [],
   "source": [
    "min_gaussian_components = 3\n",
    "max_gaussian_components = 6\n",
    "gm_random_state = 50 #Determines random number generation for initialization\n",
    "gm_n_init= 100       #The number of initializations to perform. The best results are kept."
   ]
  },
  {
   "cell_type": "code",
   "execution_count": 53,
   "metadata": {},
   "outputs": [],
   "source": [
    "aics = []\n",
    "bics = []\n",
    "n_components = range(min_gaussian_components, max_gaussian_components)\n",
    "for i in n_components:\n",
    "    gmm = GaussianMixture(random_state=gm_random_state, n_components=i, n_init=gm_n_init)\n",
    "    gmm.fit(X_train)\n",
    "    aics.append(gmm.aic(X_train))\n",
    "    bics.append(gmm.bic(X_train))"
   ]
  },
  {
   "attachments": {},
   "cell_type": "markdown",
   "metadata": {},
   "source": [
    "## 8. Chosing Best GM Model and Interpret Results"
   ]
  },
  {
   "cell_type": "code",
   "execution_count": 54,
   "metadata": {},
   "outputs": [
    {
     "data": {
      "image/png": "[encoded data removed]",
      "text/plain": [
       "<Figure size 432x288 with 1 Axes>"
      ]
     },
     "metadata": {
      "needs_background": "light"
     },
     "output_type": "display_data"
    }
   ],
   "source": [
    "# scree plot\n",
    "plt.plot(n_components, bics, label='BIC')\n",
    "plt.plot(n_components, aics, label='AIC')\n",
    "plt.legend(loc='best')\n",
    "plt.xlabel('Components');\n",
    "plt.show()"
   ]
  },
  {
   "attachments": {},
   "cell_type": "markdown",
   "metadata": {},
   "source": [
    "We train our GM model using the optimal number of components (in this case, 4)"
   ]
  },
  {
   "cell_type": "code",
   "execution_count": 55,
   "metadata": {},
   "outputs": [
    {
     "data": {
      "text/html": [
       "<div>\n",
       "<style scoped>\n",
       "    .dataframe tbody tr th:only-of-type {\n",
       "        vertical-align: middle;\n",
       "    }\n",
       "\n",
       "    .dataframe tbody tr th {\n",
       "        vertical-align: top;\n",
       "    }\n",
       "\n",
       "    .dataframe thead th {\n",
       "        text-align: right;\n",
       "    }\n",
       "</style>\n",
       "<table border=\"1\" class=\"dataframe\">\n",
       "  <thead>\n",
       "    <tr style=\"text-align: right;\">\n",
       "      <th></th>\n",
       "      <th>CRIM</th>\n",
       "      <th>ZN</th>\n",
       "      <th>INDUS</th>\n",
       "      <th>CHAS</th>\n",
       "      <th>NOX</th>\n",
       "      <th>RM</th>\n",
       "      <th>AGE</th>\n",
       "      <th>DIS</th>\n",
       "      <th>RAD</th>\n",
       "      <th>TAX</th>\n",
       "      <th>PTRATIO</th>\n",
       "      <th>B</th>\n",
       "      <th>LSTAT</th>\n",
       "    </tr>\n",
       "  </thead>\n",
       "  <tbody>\n",
       "    <tr>\n",
       "      <th>0</th>\n",
       "      <td>11.749200</td>\n",
       "      <td>0.00000</td>\n",
       "      <td>18.309293</td>\n",
       "      <td>0.00</td>\n",
       "      <td>0.676717</td>\n",
       "      <td>6.018192</td>\n",
       "      <td>89.155556</td>\n",
       "      <td>2.121378</td>\n",
       "      <td>21.313131</td>\n",
       "      <td>628.808081</td>\n",
       "      <td>19.422222</td>\n",
       "      <td>287.232626</td>\n",
       "      <td>18.302323</td>\n",
       "    </tr>\n",
       "    <tr>\n",
       "      <th>1</th>\n",
       "      <td>0.869763</td>\n",
       "      <td>6.25000</td>\n",
       "      <td>11.758750</td>\n",
       "      <td>1.00</td>\n",
       "      <td>0.593250</td>\n",
       "      <td>6.238125</td>\n",
       "      <td>77.925000</td>\n",
       "      <td>3.114044</td>\n",
       "      <td>5.312500</td>\n",
       "      <td>317.562500</td>\n",
       "      <td>16.818750</td>\n",
       "      <td>364.081250</td>\n",
       "      <td>13.884375</td>\n",
       "    </tr>\n",
       "    <tr>\n",
       "      <th>2</th>\n",
       "      <td>0.206141</td>\n",
       "      <td>19.36758</td>\n",
       "      <td>6.384475</td>\n",
       "      <td>0.00</td>\n",
       "      <td>0.483411</td>\n",
       "      <td>6.442452</td>\n",
       "      <td>53.936073</td>\n",
       "      <td>4.911742</td>\n",
       "      <td>4.388128</td>\n",
       "      <td>298.826484</td>\n",
       "      <td>17.974886</td>\n",
       "      <td>388.330959</td>\n",
       "      <td>9.356712</td>\n",
       "    </tr>\n",
       "    <tr>\n",
       "      <th>3</th>\n",
       "      <td>1.415793</td>\n",
       "      <td>0.00000</td>\n",
       "      <td>22.491500</td>\n",
       "      <td>0.15</td>\n",
       "      <td>0.635950</td>\n",
       "      <td>6.006400</td>\n",
       "      <td>96.320000</td>\n",
       "      <td>1.968395</td>\n",
       "      <td>7.000000</td>\n",
       "      <td>526.150000</td>\n",
       "      <td>20.830000</td>\n",
       "      <td>379.569000</td>\n",
       "      <td>17.179000</td>\n",
       "    </tr>\n",
       "  </tbody>\n",
       "</table>\n",
       "</div>"
      ],
      "text/plain": [
       "        CRIM        ZN      INDUS  CHAS       NOX        RM        AGE  \\\n",
       "0  11.749200   0.00000  18.309293  0.00  0.676717  6.018192  89.155556   \n",
       "1   0.869763   6.25000  11.758750  1.00  0.593250  6.238125  77.925000   \n",
       "2   0.206141  19.36758   6.384475  0.00  0.483411  6.442452  53.936073   \n",
       "3   1.415793   0.00000  22.491500  0.15  0.635950  6.006400  96.320000   \n",
       "\n",
       "        DIS        RAD         TAX    PTRATIO           B      LSTAT  \n",
       "0  2.121378  21.313131  628.808081  19.422222  287.232626  18.302323  \n",
       "1  3.114044   5.312500  317.562500  16.818750  364.081250  13.884375  \n",
       "2  4.911742   4.388128  298.826484  17.974886  388.330959   9.356712  \n",
       "3  1.968395   7.000000  526.150000  20.830000  379.569000  17.179000  "
      ]
     },
     "execution_count": 55,
     "metadata": {},
     "output_type": "execute_result"
    }
   ],
   "source": [
    "# display means of gm clusters with 4 components\n",
    "gmm = GaussianMixture(random_state=gm_random_state, n_components=4, n_init=gm_n_init)\n",
    "gmm.fit(X_train)\n",
    "\n",
    "gmm_means_unscale = pd.DataFrame(scaler.inverse_transform(gmm.means_))\n",
    "gmm_means_unscale.columns = X.columns\n",
    "gmm_means_unscale"
   ]
  },
  {
   "cell_type": "code",
   "execution_count": 56,
   "metadata": {},
   "outputs": [
    {
     "data": {
      "text/html": [
       "<div>\n",
       "<style scoped>\n",
       "    .dataframe tbody tr th:only-of-type {\n",
       "        vertical-align: middle;\n",
       "    }\n",
       "\n",
       "    .dataframe tbody tr th {\n",
       "        vertical-align: top;\n",
       "    }\n",
       "\n",
       "    .dataframe thead th {\n",
       "        text-align: right;\n",
       "    }\n",
       "</style>\n",
       "<table border=\"1\" class=\"dataframe\">\n",
       "  <thead>\n",
       "    <tr style=\"text-align: right;\">\n",
       "      <th></th>\n",
       "      <th>CRIM</th>\n",
       "      <th>ZN</th>\n",
       "      <th>INDUS</th>\n",
       "      <th>CHAS</th>\n",
       "      <th>NOX</th>\n",
       "      <th>RM</th>\n",
       "      <th>AGE</th>\n",
       "      <th>DIS</th>\n",
       "      <th>RAD</th>\n",
       "      <th>TAX</th>\n",
       "      <th>PTRATIO</th>\n",
       "      <th>B</th>\n",
       "      <th>LSTAT</th>\n",
       "    </tr>\n",
       "  </thead>\n",
       "  <tbody>\n",
       "    <tr>\n",
       "      <th>0</th>\n",
       "      <td>12.498328</td>\n",
       "      <td>1.526557e-14</td>\n",
       "      <td>18.519130</td>\n",
       "      <td>0.032609</td>\n",
       "      <td>0.663087</td>\n",
       "      <td>6.040783</td>\n",
       "      <td>88.658696</td>\n",
       "      <td>2.143645</td>\n",
       "      <td>23.130435</td>\n",
       "      <td>667.956522</td>\n",
       "      <td>20.195652</td>\n",
       "      <td>290.376304</td>\n",
       "      <td>18.581413</td>\n",
       "    </tr>\n",
       "    <tr>\n",
       "      <th>1</th>\n",
       "      <td>0.088972</td>\n",
       "      <td>3.266935e+01</td>\n",
       "      <td>5.064516</td>\n",
       "      <td>0.016129</td>\n",
       "      <td>0.442588</td>\n",
       "      <td>6.491516</td>\n",
       "      <td>35.095161</td>\n",
       "      <td>6.118546</td>\n",
       "      <td>4.274194</td>\n",
       "      <td>296.443548</td>\n",
       "      <td>17.642742</td>\n",
       "      <td>389.276129</td>\n",
       "      <td>7.359274</td>\n",
       "    </tr>\n",
       "    <tr>\n",
       "      <th>2</th>\n",
       "      <td>0.649776</td>\n",
       "      <td>2.105072e+00</td>\n",
       "      <td>10.992971</td>\n",
       "      <td>0.101449</td>\n",
       "      <td>0.573826</td>\n",
       "      <td>6.274899</td>\n",
       "      <td>81.907246</td>\n",
       "      <td>3.035981</td>\n",
       "      <td>4.623188</td>\n",
       "      <td>326.724638</td>\n",
       "      <td>18.110870</td>\n",
       "      <td>376.176304</td>\n",
       "      <td>13.077826</td>\n",
       "    </tr>\n",
       "  </tbody>\n",
       "</table>\n",
       "</div>"
      ],
      "text/plain": [
       "        CRIM            ZN      INDUS      CHAS       NOX        RM  \\\n",
       "0  12.498328  1.526557e-14  18.519130  0.032609  0.663087  6.040783   \n",
       "1   0.088972  3.266935e+01   5.064516  0.016129  0.442588  6.491516   \n",
       "2   0.649776  2.105072e+00  10.992971  0.101449  0.573826  6.274899   \n",
       "\n",
       "         AGE       DIS        RAD         TAX    PTRATIO           B  \\\n",
       "0  88.658696  2.143645  23.130435  667.956522  20.195652  290.376304   \n",
       "1  35.095161  6.118546   4.274194  296.443548  17.642742  389.276129   \n",
       "2  81.907246  3.035981   4.623188  326.724638  18.110870  376.176304   \n",
       "\n",
       "       LSTAT  \n",
       "0  18.581413  \n",
       "1   7.359274  \n",
       "2  13.077826  "
      ]
     },
     "execution_count": 56,
     "metadata": {},
     "output_type": "execute_result"
    }
   ],
   "source": [
    "# display centroids of Kmeans train cluster\n",
    "train_centroids_unscale"
   ]
  },
  {
   "attachments": {},
   "cell_type": "markdown",
   "metadata": {},
   "source": [
    "### Compare Train GM Results to Trained K-means Results\n",
    "For K-means, our scree plot indicated that 3 clusters was an optimal number of clusters, where as Gaussian Mixture shows from both the AIC and BIC plot that 4 clusters is more optimal. The above tables compare the centroids of the clusters for GM (top) and K-means (bottom)"
   ]
  },
  {
   "attachments": {},
   "cell_type": "markdown",
   "metadata": {},
   "source": [
    "## 9. Summarize Overall Results with Business Relevant Insights"
   ]
  },
  {
   "cell_type": "code",
   "execution_count": null,
   "metadata": {},
   "outputs": [],
   "source": []
  }
 ],
 "metadata": {
  "kernelspec": {
   "display_name": "Python 3 (ipykernel)",
   "language": "python",
   "name": "python3"
  },
  "language_info": {
   "codemirror_mode": {
    "name": "ipython",
    "version": 3
   },
   "file_extension": ".py",
   "mimetype": "text/x-python",
   "name": "python",
   "nbconvert_exporter": "python",
   "pygments_lexer": "ipython3",
   "version": "3.10.4"
  },
  "vscode": {
   "interpreter": {
    "hash": "369f2c481f4da34e4445cda3fffd2e751bd1c4d706f27375911949ba6bb62e1c"
   }
  }
 },
 "nbformat": 4,
 "nbformat_minor": 4
}
