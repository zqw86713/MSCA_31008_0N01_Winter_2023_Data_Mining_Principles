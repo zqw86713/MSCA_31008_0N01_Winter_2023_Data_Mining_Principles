{
 "cells": [
  {
   "attachments": {},
   "cell_type": "markdown",
   "metadata": {
    "tags": []
   },
   "source": [
    "# MSCA 31008 - Data Mining Final Project (Group 4)\n",
    "<b>Qingwei Zhang, Jake Brewer, Tejumade Oyedele, Prinu Mathew</b><br>\n",
    "<b>Winter 2023</b>"
   ]
  },
  {
   "cell_type": "markdown",
   "metadata": {
    "tags": []
   },
   "source": [
    "### Import Libraries  "
   ]
  },
  {
   "cell_type": "code",
   "execution_count": 55,
   "metadata": {},
   "outputs": [],
   "source": [
    "import sys, os, json, subprocess\n",
    "\n",
    "## for data\n",
    "import pandas as pd\n",
    "import datetime\n",
    "import random\n",
    "\n",
    "import warnings\n",
    "warnings.filterwarnings(\"ignore\")\n",
    "\n",
    "from data import salesforce_picklist_values\n"
   ]
  },
  {
   "cell_type": "code",
   "execution_count": 56,
   "metadata": {},
   "outputs": [
    {
     "name": "stdout",
     "output_type": "stream",
     "text": [
      "~~~ Already installed required packages for machine learning ~~~~\n"
     ]
    }
   ],
   "source": [
    "## for machine learning\n",
    "try:\n",
    "    import numpy as np\n",
    "\n",
    "    print(\"~~~ Already installed required packages for machine learning ~~~~\")\n",
    "except Exception as e:\n",
    "    print(e)\n",
    "\n",
    "    print(\"~~~ Installing required packages for machine learning ~~~~\")\n",
    "    subprocess.check_call([sys.executable, \"-m\", \"pip\", \"install\", \"--upgrade\", \"numpy==1.23.5\"])\n",
    "    import numpy as np"
   ]
  },
  {
   "cell_type": "code",
   "execution_count": 57,
   "metadata": {},
   "outputs": [
    {
     "name": "stdout",
     "output_type": "stream",
     "text": [
      "~~~ Already installed required packages for machine learning ~~~~\n"
     ]
    }
   ],
   "source": [
    "## for machine learning\n",
    "try:\n",
    "    from sentence_transformers import SentenceTransformer\n",
    "    from sklearn.model_selection import train_test_split, GridSearchCV\n",
    "    from sklearn.linear_model import LogisticRegression\n",
    "    from sklearn.metrics import (\n",
    "        confusion_matrix,\n",
    "        classification_report,\n",
    "        f1_score,\n",
    "        roc_auc_score,\n",
    "        roc_curve,\n",
    "        accuracy_score,\n",
    "        balanced_accuracy_score,\n",
    "        top_k_accuracy_score,\n",
    "        precision_score,\n",
    "        recall_score\n",
    "    )\n",
    "    import sklearn.datasets    \n",
    "\n",
    "    print(\"~~~ Already installed required packages for machine learning ~~~~\")\n",
    "except Exception as e:\n",
    "    print(e)\n",
    "\n",
    "    print(\"~~~ Installing required packages for machine learning ~~~~\")\n",
    "    subprocess.check_call([sys.executable, \"-m\", \"pip\", \"install\", \"--upgrade\", \"kneed\"])\n",
    "    subprocess.check_call([sys.executable, \"-m\", \"pip\", \"install\", \"--upgrade\", \"scikit-learn\"])\n",
    "    subprocess.check_call([sys.executable, \"-m\", \"pip\", \"install\", \"--upgrade\", \"nltk==3.8.1\"])\n",
    "    subprocess.check_call([sys.executable, \"-m\", \"pip\", \"install\", \"--upgrade\", \"sentence-transformers==2.2.2\"])\n",
    "    from sentence_transformers import SentenceTransformer\n",
    "    from sklearn.model_selection import train_test_split, GridSearchCV\n",
    "    from sklearn.linear_model import LogisticRegression\n",
    "    from sklearn.metrics import (\n",
    "        confusion_matrix,\n",
    "        classification_report,\n",
    "        f1_score,\n",
    "        roc_auc_score,\n",
    "        roc_curve,\n",
    "        accuracy_score,\n",
    "        balanced_accuracy_score,\n",
    "        top_k_accuracy_score,\n",
    "        precision_score,\n",
    "        recall_score\n",
    "    )\n",
    "    import sklearn.datasets\n"
   ]
  },
  {
   "cell_type": "code",
   "execution_count": 58,
   "metadata": {},
   "outputs": [
    {
     "name": "stdout",
     "output_type": "stream",
     "text": [
      "~~~ Already installed required packages for interactive visualizations ~~~~\n"
     ]
    }
   ],
   "source": [
    "## for interactive visualization\n",
    "try:\n",
    "    import matplotlib.pyplot as plt\n",
    "    import seaborn as sns\n",
    "    \n",
    "    print(\"~~~ Already installed required packages for interactive visualizations ~~~~\")\n",
    "except Exception as e:\n",
    "    print(e)\n",
    "    \n",
    "    print(\"~~~ Installing required packages for interactive visualizations ~~~~\")\n",
    "    subprocess.check_call([sys.executable, \"-m\", \"pip\", \"install\", \"--upgrade\", \"matplotlib\"])\n",
    "    subprocess.check_call([sys.executable, \"-m\", \"pip\", \"install\", \"--upgrade\", \"seaborn\"])\n",
    "    import matplotlib.pyplot as plt\n",
    "    import seaborn as sns\n",
    "    \n",
    "%matplotlib inline"
   ]
  },
  {
   "attachments": {},
   "cell_type": "markdown",
   "metadata": {},
   "source": [
    "## 1.0. Read Pitchbook dataset"
   ]
  },
  {
   "cell_type": "code",
   "execution_count": 59,
   "metadata": {},
   "outputs": [
    {
     "data": {
      "text/html": [
       "<div>\n",
       "<style scoped>\n",
       "    .dataframe tbody tr th:only-of-type {\n",
       "        vertical-align: middle;\n",
       "    }\n",
       "\n",
       "    .dataframe tbody tr th {\n",
       "        vertical-align: top;\n",
       "    }\n",
       "\n",
       "    .dataframe thead th {\n",
       "        text-align: right;\n",
       "    }\n",
       "</style>\n",
       "<table border=\"1\" class=\"dataframe\">\n",
       "  <thead>\n",
       "    <tr style=\"text-align: right;\">\n",
       "      <th></th>\n",
       "      <th>Companyid</th>\n",
       "      <th>Companyname</th>\n",
       "      <th>Description</th>\n",
       "      <th>Keywords</th>\n",
       "      <th>Primaryindustrysector</th>\n",
       "      <th>Primaryindustrygroup</th>\n",
       "      <th>Primaryindustrycode</th>\n",
       "    </tr>\n",
       "  </thead>\n",
       "  <tbody>\n",
       "    <tr>\n",
       "      <th>0</th>\n",
       "      <td>10011-43</td>\n",
       "      <td>Basic Energy Services</td>\n",
       "      <td>Basic Energy Services Inc is a provider of wel...</td>\n",
       "      <td>contract drilling, water logistics, water logi...</td>\n",
       "      <td>Energy</td>\n",
       "      <td>Energy Services</td>\n",
       "      <td>Other Energy Services</td>\n",
       "    </tr>\n",
       "    <tr>\n",
       "      <th>1</th>\n",
       "      <td>55906-30</td>\n",
       "      <td>Orolia</td>\n",
       "      <td>Provider of resilient positioning, navigation ...</td>\n",
       "      <td>distress beacons, navigation device, resilient...</td>\n",
       "      <td>Information Technology</td>\n",
       "      <td>Communications and Networking</td>\n",
       "      <td>Connectivity Products</td>\n",
       "    </tr>\n",
       "    <tr>\n",
       "      <th>2</th>\n",
       "      <td>10012-24</td>\n",
       "      <td>Questex</td>\n",
       "      <td>Provider of integrated business-to-business me...</td>\n",
       "      <td>b2b events, conference, digital media, hosting...</td>\n",
       "      <td>Business Products and Services (B2B)</td>\n",
       "      <td>Commercial Services</td>\n",
       "      <td>Media and Information Services (B2B)</td>\n",
       "    </tr>\n",
       "  </tbody>\n",
       "</table>\n",
       "</div>"
      ],
      "text/plain": [
       "  Companyid            Companyname  \\\n",
       "0  10011-43  Basic Energy Services   \n",
       "1  55906-30                 Orolia   \n",
       "2  10012-24                Questex   \n",
       "\n",
       "                                         Description  \\\n",
       "0  Basic Energy Services Inc is a provider of wel...   \n",
       "1  Provider of resilient positioning, navigation ...   \n",
       "2  Provider of integrated business-to-business me...   \n",
       "\n",
       "                                            Keywords  \\\n",
       "0  contract drilling, water logistics, water logi...   \n",
       "1  distress beacons, navigation device, resilient...   \n",
       "2  b2b events, conference, digital media, hosting...   \n",
       "\n",
       "                  Primaryindustrysector           Primaryindustrygroup  \\\n",
       "0                                Energy                Energy Services   \n",
       "1                Information Technology  Communications and Networking   \n",
       "2  Business Products and Services (B2B)            Commercial Services   \n",
       "\n",
       "                    Primaryindustrycode  \n",
       "0                 Other Energy Services  \n",
       "1                 Connectivity Products  \n",
       "2  Media and Information Services (B2B)  "
      ]
     },
     "execution_count": 59,
     "metadata": {},
     "output_type": "execute_result"
    }
   ],
   "source": [
    "# import data and read csv\n",
    "\n",
    "df_pb_company = pd.read_csv(\".\\data\\pitchbook_companies.csv\")\n",
    "df_pb_company.head(3)\n"
   ]
  },
  {
   "cell_type": "code",
   "execution_count": 60,
   "metadata": {},
   "outputs": [
    {
     "name": "stdout",
     "output_type": "stream",
     "text": [
      "<class 'pandas.core.frame.DataFrame'>\n",
      "RangeIndex: 36965 entries, 0 to 36964\n",
      "Data columns (total 7 columns):\n",
      " #   Column                 Non-Null Count  Dtype \n",
      "---  ------                 --------------  ----- \n",
      " 0   Companyid              36965 non-null  object\n",
      " 1   Companyname            36965 non-null  object\n",
      " 2   Description            36960 non-null  object\n",
      " 3   Keywords               36883 non-null  object\n",
      " 4   Primaryindustrysector  36964 non-null  object\n",
      " 5   Primaryindustrygroup   36964 non-null  object\n",
      " 6   Primaryindustrycode    36964 non-null  object\n",
      "dtypes: object(7)\n",
      "memory usage: 2.0+ MB\n"
     ]
    }
   ],
   "source": [
    "# view data types and number of non-null values in each column\n",
    "df_pb_company.info()\n"
   ]
  },
  {
   "attachments": {},
   "cell_type": "markdown",
   "metadata": {},
   "source": [
    "## 1.1. Read Salesforce dataset"
   ]
  },
  {
   "cell_type": "code",
   "execution_count": 61,
   "metadata": {},
   "outputs": [
    {
     "data": {
      "text/html": [
       "<div>\n",
       "<style scoped>\n",
       "    .dataframe tbody tr th:only-of-type {\n",
       "        vertical-align: middle;\n",
       "    }\n",
       "\n",
       "    .dataframe tbody tr th {\n",
       "        vertical-align: top;\n",
       "    }\n",
       "\n",
       "    .dataframe thead th {\n",
       "        text-align: right;\n",
       "    }\n",
       "</style>\n",
       "<table border=\"1\" class=\"dataframe\">\n",
       "  <thead>\n",
       "    <tr style=\"text-align: right;\">\n",
       "      <th></th>\n",
       "      <th>Id</th>\n",
       "      <th>PitchBook_ID__c</th>\n",
       "      <th>Industry</th>\n",
       "    </tr>\n",
       "  </thead>\n",
       "  <tbody>\n",
       "    <tr>\n",
       "      <th>0</th>\n",
       "      <td>0010d00001IB6tHAAT</td>\n",
       "      <td>181357-03</td>\n",
       "      <td>Healthcare</td>\n",
       "    </tr>\n",
       "    <tr>\n",
       "      <th>1</th>\n",
       "      <td>0010d00001IB7EFAA1</td>\n",
       "      <td>180568-99</td>\n",
       "      <td>Consumer &amp; Retail</td>\n",
       "    </tr>\n",
       "    <tr>\n",
       "      <th>2</th>\n",
       "      <td>0010d00001IdzOlAAJ</td>\n",
       "      <td>227448-46</td>\n",
       "      <td>NaN</td>\n",
       "    </tr>\n",
       "    <tr>\n",
       "      <th>3</th>\n",
       "      <td>0010d00001IeAu0AAF</td>\n",
       "      <td>64153-63</td>\n",
       "      <td>NaN</td>\n",
       "    </tr>\n",
       "    <tr>\n",
       "      <th>4</th>\n",
       "      <td>0010d00001JLK8rAAH</td>\n",
       "      <td>94453-75</td>\n",
       "      <td>Consumer &amp; Retail</td>\n",
       "    </tr>\n",
       "  </tbody>\n",
       "</table>\n",
       "</div>"
      ],
      "text/plain": [
       "                   Id PitchBook_ID__c           Industry\n",
       "0  0010d00001IB6tHAAT       181357-03         Healthcare\n",
       "1  0010d00001IB7EFAA1       180568-99  Consumer & Retail\n",
       "2  0010d00001IdzOlAAJ       227448-46                NaN\n",
       "3  0010d00001IeAu0AAF        64153-63                NaN\n",
       "4  0010d00001JLK8rAAH        94453-75  Consumer & Retail"
      ]
     },
     "execution_count": 61,
     "metadata": {},
     "output_type": "execute_result"
    }
   ],
   "source": [
    "# import data and read csv\n",
    "\n",
    "df_sf_account = pd.read_csv(\".\\data\\salesforce_account.csv\")\n",
    "df_sf_account.head()\n"
   ]
  },
  {
   "cell_type": "code",
   "execution_count": 62,
   "metadata": {},
   "outputs": [
    {
     "name": "stdout",
     "output_type": "stream",
     "text": [
      "<class 'pandas.core.frame.DataFrame'>\n",
      "RangeIndex: 36965 entries, 0 to 36964\n",
      "Data columns (total 3 columns):\n",
      " #   Column           Non-Null Count  Dtype \n",
      "---  ------           --------------  ----- \n",
      " 0   Id               36965 non-null  object\n",
      " 1   PitchBook_ID__c  36965 non-null  object\n",
      " 2   Industry         32096 non-null  object\n",
      "dtypes: object(3)\n",
      "memory usage: 866.5+ KB\n"
     ]
    }
   ],
   "source": [
    "# view data types and number of non-null values in each column\n",
    "df_sf_account.info()\n"
   ]
  },
  {
   "attachments": {},
   "cell_type": "markdown",
   "metadata": {},
   "source": [
    "## 2. Data Preprocessing"
   ]
  },
  {
   "cell_type": "code",
   "execution_count": 63,
   "metadata": {},
   "outputs": [
    {
     "name": "stdout",
     "output_type": "stream",
     "text": [
      "SF-PB company pairs: 36,965\n"
     ]
    }
   ],
   "source": [
    "# pitchbook descriptions will be features, salesforce industries will be labels \n",
    "paired_companies = df_pb_company.merge(\n",
    "    right=df_sf_account, left_on=\"Companyid\", right_on=\"PitchBook_ID__c\", how=\"inner\"\n",
    ")\n",
    "print(f\"SF-PB company pairs: {paired_companies.shape[0]:,}\")"
   ]
  },
  {
   "cell_type": "code",
   "execution_count": 64,
   "metadata": {},
   "outputs": [
    {
     "data": {
      "text/plain": [
       "0        True\n",
       "1        True\n",
       "2        True\n",
       "3        True\n",
       "4        True\n",
       "         ... \n",
       "36960    True\n",
       "36961    True\n",
       "36962    True\n",
       "36963    True\n",
       "36964    True\n",
       "Name: Description, Length: 36965, dtype: bool"
      ]
     },
     "execution_count": 64,
     "metadata": {},
     "output_type": "execute_result"
    }
   ],
   "source": [
    "has_pb_description_cond = paired_companies[\"Description\"].notna()\n",
    "has_pb_description_cond"
   ]
  },
  {
   "cell_type": "code",
   "execution_count": 65,
   "metadata": {},
   "outputs": [
    {
     "data": {
      "text/plain": [
       "0         True\n",
       "1         True\n",
       "2         True\n",
       "3         True\n",
       "4         True\n",
       "         ...  \n",
       "36960     True\n",
       "36961     True\n",
       "36962     True\n",
       "36963     True\n",
       "36964    False\n",
       "Name: Industry, Length: 36965, dtype: bool"
      ]
     },
     "execution_count": 65,
     "metadata": {},
     "output_type": "execute_result"
    }
   ],
   "source": [
    "has_target_industry_cond = (\n",
    "    paired_companies[\"Industry\"].isin(salesforce_picklist_values.industries)\n",
    ")\n",
    "has_target_industry_cond"
   ]
  },
  {
   "cell_type": "code",
   "execution_count": 66,
   "metadata": {},
   "outputs": [
    {
     "data": {
      "text/plain": [
       "Index([], dtype='object', name='PitchBook_ID__c')"
      ]
     },
     "execution_count": 66,
     "metadata": {},
     "output_type": "execute_result"
    }
   ],
   "source": [
    "# ids of pitchbook companies mapped to more than 1 salesforce company\n",
    "reused_pb_companies = (\n",
    "    paired_companies\n",
    "    .groupby(\"PitchBook_ID__c\")\n",
    "    .agg(n_sf_companies=(\"Id\", \"count\"))\n",
    "    .query(\"n_sf_companies > 1\")\n",
    "    .index\n",
    ")\n",
    "reused_pb_companies"
   ]
  },
  {
   "cell_type": "code",
   "execution_count": 67,
   "metadata": {},
   "outputs": [
    {
     "name": "stdout",
     "output_type": "stream",
     "text": [
      "SF-PB company pairs (filtered): 29,093\n"
     ]
    }
   ],
   "source": [
    "# dropping records that would make training impossible or biased\n",
    "paired_companies = paired_companies.loc[\n",
    "    has_pb_description_cond\n",
    "    & has_target_industry_cond\n",
    "    & ~paired_companies[\"PitchBook_ID__c\"].isin(reused_pb_companies)\n",
    "]\n",
    "print(f\"SF-PB company pairs (filtered): {paired_companies.shape[0]:,}\")"
   ]
  },
  {
   "attachments": {},
   "cell_type": "markdown",
   "metadata": {},
   "source": [
    "## 3. Feature Engineering"
   ]
  },
  {
   "cell_type": "code",
   "execution_count": 68,
   "metadata": {},
   "outputs": [],
   "source": [
    "keyword_columns = [\n",
    "    \"Keywords\",\n",
    "    \"Primaryindustrysector\",\n",
    "    \"Primaryindustrygroup\",\n",
    "    \"Primaryindustrycode\",\n",
    "]"
   ]
  },
  {
   "cell_type": "code",
   "execution_count": 69,
   "metadata": {},
   "outputs": [],
   "source": [
    "# keyword columns are pre-processed before submitted \n",
    "for col in keyword_columns:\n",
    "    paired_companies[col] = paired_companies[col].fillna(\"\").str.lower()"
   ]
  },
  {
   "cell_type": "code",
   "execution_count": 70,
   "metadata": {},
   "outputs": [
    {
     "data": {
      "text/html": [
       "<div>\n",
       "<style scoped>\n",
       "    .dataframe tbody tr th:only-of-type {\n",
       "        vertical-align: middle;\n",
       "    }\n",
       "\n",
       "    .dataframe tbody tr th {\n",
       "        vertical-align: top;\n",
       "    }\n",
       "\n",
       "    .dataframe thead th {\n",
       "        text-align: right;\n",
       "    }\n",
       "</style>\n",
       "<table border=\"1\" class=\"dataframe\">\n",
       "  <thead>\n",
       "    <tr style=\"text-align: right;\">\n",
       "      <th></th>\n",
       "      <th>Companyid</th>\n",
       "      <th>Companyname</th>\n",
       "      <th>Description</th>\n",
       "      <th>Keywords</th>\n",
       "      <th>Primaryindustrysector</th>\n",
       "      <th>Primaryindustrygroup</th>\n",
       "      <th>Primaryindustrycode</th>\n",
       "      <th>Id</th>\n",
       "      <th>PitchBook_ID__c</th>\n",
       "      <th>Industry</th>\n",
       "      <th>CompleteDescription</th>\n",
       "    </tr>\n",
       "  </thead>\n",
       "  <tbody>\n",
       "    <tr>\n",
       "      <th>0</th>\n",
       "      <td>10011-43</td>\n",
       "      <td>Basic Energy Services</td>\n",
       "      <td>Basic Energy Services Inc is a provider of wel...</td>\n",
       "      <td>contract drilling, water logistics, water logi...</td>\n",
       "      <td>energy</td>\n",
       "      <td>energy services</td>\n",
       "      <td>other energy services</td>\n",
       "      <td>0016000000UdeABAAZ</td>\n",
       "      <td>10011-43</td>\n",
       "      <td>SCCS</td>\n",
       "      <td>Basic Energy Services Inc is a provider of wel...</td>\n",
       "    </tr>\n",
       "    <tr>\n",
       "      <th>1</th>\n",
       "      <td>55906-30</td>\n",
       "      <td>Orolia</td>\n",
       "      <td>Provider of resilient positioning, navigation ...</td>\n",
       "      <td>distress beacons, navigation device, resilient...</td>\n",
       "      <td>information technology</td>\n",
       "      <td>communications and networking</td>\n",
       "      <td>connectivity products</td>\n",
       "      <td>00132000019YCjfAAG</td>\n",
       "      <td>55906-30</td>\n",
       "      <td>IGP</td>\n",
       "      <td>Provider of resilient positioning, navigation ...</td>\n",
       "    </tr>\n",
       "    <tr>\n",
       "      <th>2</th>\n",
       "      <td>10012-24</td>\n",
       "      <td>Questex</td>\n",
       "      <td>Provider of integrated business-to-business me...</td>\n",
       "      <td>b2b events, conference, digital media, hosting...</td>\n",
       "      <td>business products and services (b2b)</td>\n",
       "      <td>commercial services</td>\n",
       "      <td>media and information services (b2b)</td>\n",
       "      <td>0016000000UdHCRAA3</td>\n",
       "      <td>10012-24</td>\n",
       "      <td>TES</td>\n",
       "      <td>Provider of integrated business-to-business me...</td>\n",
       "    </tr>\n",
       "  </tbody>\n",
       "</table>\n",
       "</div>"
      ],
      "text/plain": [
       "  Companyid            Companyname  \\\n",
       "0  10011-43  Basic Energy Services   \n",
       "1  55906-30                 Orolia   \n",
       "2  10012-24                Questex   \n",
       "\n",
       "                                         Description  \\\n",
       "0  Basic Energy Services Inc is a provider of wel...   \n",
       "1  Provider of resilient positioning, navigation ...   \n",
       "2  Provider of integrated business-to-business me...   \n",
       "\n",
       "                                            Keywords  \\\n",
       "0  contract drilling, water logistics, water logi...   \n",
       "1  distress beacons, navigation device, resilient...   \n",
       "2  b2b events, conference, digital media, hosting...   \n",
       "\n",
       "                  Primaryindustrysector           Primaryindustrygroup  \\\n",
       "0                                energy                energy services   \n",
       "1                information technology  communications and networking   \n",
       "2  business products and services (b2b)            commercial services   \n",
       "\n",
       "                    Primaryindustrycode                  Id PitchBook_ID__c  \\\n",
       "0                 other energy services  0016000000UdeABAAZ        10011-43   \n",
       "1                 connectivity products  00132000019YCjfAAG        55906-30   \n",
       "2  media and information services (b2b)  0016000000UdHCRAA3        10012-24   \n",
       "\n",
       "  Industry                                CompleteDescription  \n",
       "0     SCCS  Basic Energy Services Inc is a provider of wel...  \n",
       "1      IGP  Provider of resilient positioning, navigation ...  \n",
       "2      TES  Provider of integrated business-to-business me...  "
      ]
     },
     "execution_count": 70,
     "metadata": {},
     "output_type": "execute_result"
    }
   ],
   "source": [
    "# concatenating text columns into single description column\n",
    "all_text_columns = [\"Description\"] + keyword_columns\n",
    "paired_companies[\"CompleteDescription\"] = paired_companies[all_text_columns].agg(\", \".join, axis=1)\n",
    "paired_companies.head(3)"
   ]
  },
  {
   "cell_type": "code",
   "execution_count": 71,
   "metadata": {},
   "outputs": [],
   "source": [
    "# saving filtered dataset for later retrieval as the sentence transformer takes couple of hrs to finish the process locally.\n",
    "# to mitigate the performance issue, we are running the embedding process in cloud and the result of embeddings is saved in ./outputs directory\n",
    "paired_companies.loc[:, [\"Companyid\",\"Companyname\",\"Id\", \"CompleteDescription\"]].to_csv(f\"outputs/pb_sf_companies_filtered.csv\", index=False)"
   ]
  },
  {
   "attachments": {},
   "cell_type": "markdown",
   "metadata": {},
   "source": [
    "The SentenceTransformer is a natural language processing (NLP) tool that is used to generate dense, high-quality vector representations of sentences or paragraphs. The purpose of SentenceTransformer is to provide a way to encode textual data in a format that can be easily processed and compared using machine learning algorithms.\n",
    "\n",
    "The main benefit of using SentenceTransformer is that it allows you to represent text data in a way that is both more computationally efficient and more semantically meaningful than traditional approaches such as bag-of-words or TF-IDF. By generating dense vector embeddings of sentences, the SentenceTransformer is able to capture more of the semantic relationships between words and phrases, allowing for more accurate and meaningful comparisons between text data.\n",
    "\n",
    "SentenceTransformer has a variety of applications in natural language processing, including text classification, sentiment analysis, text similarity and clustering, and question answering. It has been used in a wide range of research and industry applications, from chatbots and virtual assistants to academic research in NLP and information retrieval."
   ]
  },
  {
   "cell_type": "code",
   "execution_count": 72,
   "metadata": {},
   "outputs": [],
   "source": [
    "#TODO: Remove groupby and sampling after completing the project (sentence transformer takes couple of hrs to finish the embedding process)\n",
    "#paired_companies = paired_companies.groupby('Industry').sample(1).reset_index(drop=True)\n",
    "#len(paired_companies)\n",
    "\n",
    "# creating embeddings\n",
    "#model = SentenceTransformer(\"all-mpnet-base-v2\")\n",
    "#df_embeddings = pd.DataFrame(\n",
    "#    data=model.encode(paired_companies[\"CompleteDescription\"].tolist())\n",
    "#)\n",
    "\n",
    "# saving embeddings for later retrieval as the sentence transformer takes couple of hrs to finish the embedding process\n",
    "#df_embeddings.to_csv(f\"outputs/embeddings_completedescription_.csv\", index=False)"
   ]
  },
  {
   "cell_type": "code",
   "execution_count": 73,
   "metadata": {},
   "outputs": [
    {
     "data": {
      "text/html": [
       "<div>\n",
       "<style scoped>\n",
       "    .dataframe tbody tr th:only-of-type {\n",
       "        vertical-align: middle;\n",
       "    }\n",
       "\n",
       "    .dataframe tbody tr th {\n",
       "        vertical-align: top;\n",
       "    }\n",
       "\n",
       "    .dataframe thead th {\n",
       "        text-align: right;\n",
       "    }\n",
       "</style>\n",
       "<table border=\"1\" class=\"dataframe\">\n",
       "  <thead>\n",
       "    <tr style=\"text-align: right;\">\n",
       "      <th></th>\n",
       "      <th>Id</th>\n",
       "      <th>0</th>\n",
       "      <th>1</th>\n",
       "      <th>2</th>\n",
       "      <th>3</th>\n",
       "      <th>4</th>\n",
       "      <th>5</th>\n",
       "      <th>6</th>\n",
       "      <th>7</th>\n",
       "      <th>8</th>\n",
       "      <th>...</th>\n",
       "      <th>758</th>\n",
       "      <th>759</th>\n",
       "      <th>760</th>\n",
       "      <th>761</th>\n",
       "      <th>762</th>\n",
       "      <th>763</th>\n",
       "      <th>764</th>\n",
       "      <th>765</th>\n",
       "      <th>766</th>\n",
       "      <th>767</th>\n",
       "    </tr>\n",
       "  </thead>\n",
       "  <tbody>\n",
       "    <tr>\n",
       "      <th>0</th>\n",
       "      <td>0016000000UdeABAAZ</td>\n",
       "      <td>-0.011293</td>\n",
       "      <td>-0.071542</td>\n",
       "      <td>-0.002707</td>\n",
       "      <td>-0.031627</td>\n",
       "      <td>0.023893</td>\n",
       "      <td>0.042039</td>\n",
       "      <td>-0.008800</td>\n",
       "      <td>0.024039</td>\n",
       "      <td>-0.004800</td>\n",
       "      <td>...</td>\n",
       "      <td>-0.063318</td>\n",
       "      <td>0.029066</td>\n",
       "      <td>0.050592</td>\n",
       "      <td>-0.015177</td>\n",
       "      <td>0.012180</td>\n",
       "      <td>-0.081011</td>\n",
       "      <td>-0.004165</td>\n",
       "      <td>-0.004951</td>\n",
       "      <td>-0.035287</td>\n",
       "      <td>-0.009260</td>\n",
       "    </tr>\n",
       "    <tr>\n",
       "      <th>1</th>\n",
       "      <td>00132000019YCjfAAG</td>\n",
       "      <td>0.027083</td>\n",
       "      <td>-0.095547</td>\n",
       "      <td>-0.028545</td>\n",
       "      <td>-0.032800</td>\n",
       "      <td>0.004527</td>\n",
       "      <td>0.024387</td>\n",
       "      <td>-0.002985</td>\n",
       "      <td>-0.018444</td>\n",
       "      <td>-0.048125</td>\n",
       "      <td>...</td>\n",
       "      <td>-0.050687</td>\n",
       "      <td>-0.004698</td>\n",
       "      <td>-0.012220</td>\n",
       "      <td>0.027749</td>\n",
       "      <td>-0.018532</td>\n",
       "      <td>-0.037822</td>\n",
       "      <td>-0.011566</td>\n",
       "      <td>0.007869</td>\n",
       "      <td>-0.033121</td>\n",
       "      <td>-0.047704</td>\n",
       "    </tr>\n",
       "    <tr>\n",
       "      <th>2</th>\n",
       "      <td>0016000000UdHCRAA3</td>\n",
       "      <td>0.046954</td>\n",
       "      <td>-0.039141</td>\n",
       "      <td>-0.020285</td>\n",
       "      <td>-0.001312</td>\n",
       "      <td>-0.016454</td>\n",
       "      <td>0.006782</td>\n",
       "      <td>0.037098</td>\n",
       "      <td>0.038497</td>\n",
       "      <td>-0.009401</td>\n",
       "      <td>...</td>\n",
       "      <td>-0.032818</td>\n",
       "      <td>0.016566</td>\n",
       "      <td>0.025915</td>\n",
       "      <td>0.009463</td>\n",
       "      <td>-0.039607</td>\n",
       "      <td>-0.017653</td>\n",
       "      <td>-0.012100</td>\n",
       "      <td>0.001727</td>\n",
       "      <td>-0.063569</td>\n",
       "      <td>-0.011091</td>\n",
       "    </tr>\n",
       "  </tbody>\n",
       "</table>\n",
       "<p>3 rows × 769 columns</p>\n",
       "</div>"
      ],
      "text/plain": [
       "                   Id         0         1         2         3         4  \\\n",
       "0  0016000000UdeABAAZ -0.011293 -0.071542 -0.002707 -0.031627  0.023893   \n",
       "1  00132000019YCjfAAG  0.027083 -0.095547 -0.028545 -0.032800  0.004527   \n",
       "2  0016000000UdHCRAA3  0.046954 -0.039141 -0.020285 -0.001312 -0.016454   \n",
       "\n",
       "          5         6         7         8  ...       758       759       760  \\\n",
       "0  0.042039 -0.008800  0.024039 -0.004800  ... -0.063318  0.029066  0.050592   \n",
       "1  0.024387 -0.002985 -0.018444 -0.048125  ... -0.050687 -0.004698 -0.012220   \n",
       "2  0.006782  0.037098  0.038497 -0.009401  ... -0.032818  0.016566  0.025915   \n",
       "\n",
       "        761       762       763       764       765       766       767  \n",
       "0 -0.015177  0.012180 -0.081011 -0.004165 -0.004951 -0.035287 -0.009260  \n",
       "1  0.027749 -0.018532 -0.037822 -0.011566  0.007869 -0.033121 -0.047704  \n",
       "2  0.009463 -0.039607 -0.017653 -0.012100  0.001727 -0.063569 -0.011091  \n",
       "\n",
       "[3 rows x 769 columns]"
      ]
     },
     "execution_count": 73,
     "metadata": {},
     "output_type": "execute_result"
    }
   ],
   "source": [
    "# read saved embeddings\n",
    "df_embeddings = pd.read_csv(\".\\outputs\\embeddings_completedescription_.csv\", index_col=False)\n",
    "df_embeddings.head(3)"
   ]
  },
  {
   "cell_type": "code",
   "execution_count": 74,
   "metadata": {},
   "outputs": [
    {
     "name": "stdout",
     "output_type": "stream",
     "text": [
      "Shape of data (post-engineering): (29093, 772)\n"
     ]
    }
   ],
   "source": [
    "# reset index before combining data\n",
    "paired_companies = paired_companies.reset_index(drop=True)\n",
    "\n",
    "# combining data\n",
    "paired_companies = paired_companies[[\"Id\", \"PitchBook_ID__c\", \"CompleteDescription\", \"Industry\"]]\n",
    "#df_combined = pd.concat([paired_companies, df_embeddings], axis=1)\n",
    "\n",
    "df_combined = paired_companies.merge(df_embeddings, on='Id')\n",
    "\n",
    "print(f\"Shape of data (post-engineering): {df_combined.shape}\")"
   ]
  },
  {
   "attachments": {},
   "cell_type": "markdown",
   "metadata": {},
   "source": [
    "## 4. Split Data into Training (80%) and Testing (20%)"
   ]
  },
  {
   "cell_type": "code",
   "execution_count": 75,
   "metadata": {},
   "outputs": [],
   "source": [
    "df_train, df_test = train_test_split(\n",
    "    df_combined, train_size=0.80, random_state=0\n",
    ")"
   ]
  },
  {
   "attachments": {},
   "cell_type": "markdown",
   "metadata": {},
   "source": [
    "## 5. Train Model on all embeddings variables to find most important"
   ]
  },
  {
   "attachments": {},
   "cell_type": "markdown",
   "metadata": {},
   "source": [
    "-   Use sklearn.linear_model.LogisticRegression\n",
    "-   Use cross validation, parameter tuning (solver, c) using GridSearchCV\n",
    "-   Select best variables by looking at coefficients of variables and fit model with best variables and best parameters"
   ]
  },
  {
   "cell_type": "code",
   "execution_count": 76,
   "metadata": {},
   "outputs": [],
   "source": [
    "# names of the embeddings columns\n",
    "predictors = [\n",
    "    col\n",
    "    for col in df_train.columns\n",
    "    if col not in [\"Id\", \"PitchBook_ID__c\", \"CompleteDescription\", \"Industry\"]\n",
    "]\n",
    "X_train = df_train[predictors].to_numpy()\n",
    "y_train = df_train[\"Industry\"].to_numpy()\n",
    "\n",
    "X_test = df_test[predictors].to_numpy()\n",
    "y_test = df_test[\"Industry\"].to_numpy()"
   ]
  },
  {
   "cell_type": "code",
   "execution_count": 77,
   "metadata": {},
   "outputs": [],
   "source": [
    "# defining estimator for grid search\n",
    "lr_clf = LogisticRegression(random_state=0, max_iter=1_000)"
   ]
  },
  {
   "cell_type": "code",
   "execution_count": 78,
   "metadata": {},
   "outputs": [
    {
     "name": "stdout",
     "output_type": "stream",
     "text": [
      "Fitting 5 folds for each of 12 candidates, totalling 60 fits\n"
     ]
    },
    {
     "data": {
      "text/html": [
       "<style>#sk-container-id-3 {color: black;background-color: white;}#sk-container-id-3 pre{padding: 0;}#sk-container-id-3 div.sk-toggleable {background-color: white;}#sk-container-id-3 label.sk-toggleable__label {cursor: pointer;display: block;width: 100%;margin-bottom: 0;padding: 0.3em;box-sizing: border-box;text-align: center;}#sk-container-id-3 label.sk-toggleable__label-arrow:before {content: \"▸\";float: left;margin-right: 0.25em;color: #696969;}#sk-container-id-3 label.sk-toggleable__label-arrow:hover:before {color: black;}#sk-container-id-3 div.sk-estimator:hover label.sk-toggleable__label-arrow:before {color: black;}#sk-container-id-3 div.sk-toggleable__content {max-height: 0;max-width: 0;overflow: hidden;text-align: left;background-color: #f0f8ff;}#sk-container-id-3 div.sk-toggleable__content pre {margin: 0.2em;color: black;border-radius: 0.25em;background-color: #f0f8ff;}#sk-container-id-3 input.sk-toggleable__control:checked~div.sk-toggleable__content {max-height: 200px;max-width: 100%;overflow: auto;}#sk-container-id-3 input.sk-toggleable__control:checked~label.sk-toggleable__label-arrow:before {content: \"▾\";}#sk-container-id-3 div.sk-estimator input.sk-toggleable__control:checked~label.sk-toggleable__label {background-color: #d4ebff;}#sk-container-id-3 div.sk-label input.sk-toggleable__control:checked~label.sk-toggleable__label {background-color: #d4ebff;}#sk-container-id-3 input.sk-hidden--visually {border: 0;clip: rect(1px 1px 1px 1px);clip: rect(1px, 1px, 1px, 1px);height: 1px;margin: -1px;overflow: hidden;padding: 0;position: absolute;width: 1px;}#sk-container-id-3 div.sk-estimator {font-family: monospace;background-color: #f0f8ff;border: 1px dotted black;border-radius: 0.25em;box-sizing: border-box;margin-bottom: 0.5em;}#sk-container-id-3 div.sk-estimator:hover {background-color: #d4ebff;}#sk-container-id-3 div.sk-parallel-item::after {content: \"\";width: 100%;border-bottom: 1px solid gray;flex-grow: 1;}#sk-container-id-3 div.sk-label:hover label.sk-toggleable__label {background-color: #d4ebff;}#sk-container-id-3 div.sk-serial::before {content: \"\";position: absolute;border-left: 1px solid gray;box-sizing: border-box;top: 0;bottom: 0;left: 50%;z-index: 0;}#sk-container-id-3 div.sk-serial {display: flex;flex-direction: column;align-items: center;background-color: white;padding-right: 0.2em;padding-left: 0.2em;position: relative;}#sk-container-id-3 div.sk-item {position: relative;z-index: 1;}#sk-container-id-3 div.sk-parallel {display: flex;align-items: stretch;justify-content: center;background-color: white;position: relative;}#sk-container-id-3 div.sk-item::before, #sk-container-id-3 div.sk-parallel-item::before {content: \"\";position: absolute;border-left: 1px solid gray;box-sizing: border-box;top: 0;bottom: 0;left: 50%;z-index: -1;}#sk-container-id-3 div.sk-parallel-item {display: flex;flex-direction: column;z-index: 1;position: relative;background-color: white;}#sk-container-id-3 div.sk-parallel-item:first-child::after {align-self: flex-end;width: 50%;}#sk-container-id-3 div.sk-parallel-item:last-child::after {align-self: flex-start;width: 50%;}#sk-container-id-3 div.sk-parallel-item:only-child::after {width: 0;}#sk-container-id-3 div.sk-dashed-wrapped {border: 1px dashed gray;margin: 0 0.4em 0.5em 0.4em;box-sizing: border-box;padding-bottom: 0.4em;background-color: white;}#sk-container-id-3 div.sk-label label {font-family: monospace;font-weight: bold;display: inline-block;line-height: 1.2em;}#sk-container-id-3 div.sk-label-container {text-align: center;}#sk-container-id-3 div.sk-container {/* jupyter's `normalize.less` sets `[hidden] { display: none; }` but bootstrap.min.css set `[hidden] { display: none !important; }` so we also need the `!important` here to be able to override the default hidden behavior on the sphinx rendered scikit-learn.org. See: https://github.com/scikit-learn/scikit-learn/issues/21755 */display: inline-block !important;position: relative;}#sk-container-id-3 div.sk-text-repr-fallback {display: none;}</style><div id=\"sk-container-id-3\" class=\"sk-top-container\"><div class=\"sk-text-repr-fallback\"><pre>GridSearchCV(cv=5, estimator=LogisticRegression(max_iter=1000, random_state=0),\n",
       "             n_jobs=-1,\n",
       "             param_grid={&#x27;C&#x27;: [10, 1, 0.75, 0.5, 0.25, 0.01],\n",
       "                         &#x27;solver&#x27;: [&#x27;lbfgs&#x27;, &#x27;liblinear&#x27;]},\n",
       "             verbose=1)</pre><b>In a Jupyter environment, please rerun this cell to show the HTML representation or trust the notebook. <br />On GitHub, the HTML representation is unable to render, please try loading this page with nbviewer.org.</b></div><div class=\"sk-container\" hidden><div class=\"sk-item sk-dashed-wrapped\"><div class=\"sk-label-container\"><div class=\"sk-label sk-toggleable\"><input class=\"sk-toggleable__control sk-hidden--visually\" id=\"sk-estimator-id-5\" type=\"checkbox\" ><label for=\"sk-estimator-id-5\" class=\"sk-toggleable__label sk-toggleable__label-arrow\">GridSearchCV</label><div class=\"sk-toggleable__content\"><pre>GridSearchCV(cv=5, estimator=LogisticRegression(max_iter=1000, random_state=0),\n",
       "             n_jobs=-1,\n",
       "             param_grid={&#x27;C&#x27;: [10, 1, 0.75, 0.5, 0.25, 0.01],\n",
       "                         &#x27;solver&#x27;: [&#x27;lbfgs&#x27;, &#x27;liblinear&#x27;]},\n",
       "             verbose=1)</pre></div></div></div><div class=\"sk-parallel\"><div class=\"sk-parallel-item\"><div class=\"sk-item\"><div class=\"sk-label-container\"><div class=\"sk-label sk-toggleable\"><input class=\"sk-toggleable__control sk-hidden--visually\" id=\"sk-estimator-id-6\" type=\"checkbox\" ><label for=\"sk-estimator-id-6\" class=\"sk-toggleable__label sk-toggleable__label-arrow\">estimator: LogisticRegression</label><div class=\"sk-toggleable__content\"><pre>LogisticRegression(max_iter=1000, random_state=0)</pre></div></div></div><div class=\"sk-serial\"><div class=\"sk-item\"><div class=\"sk-estimator sk-toggleable\"><input class=\"sk-toggleable__control sk-hidden--visually\" id=\"sk-estimator-id-7\" type=\"checkbox\" ><label for=\"sk-estimator-id-7\" class=\"sk-toggleable__label sk-toggleable__label-arrow\">LogisticRegression</label><div class=\"sk-toggleable__content\"><pre>LogisticRegression(max_iter=1000, random_state=0)</pre></div></div></div></div></div></div></div></div></div></div>"
      ],
      "text/plain": [
       "GridSearchCV(cv=5, estimator=LogisticRegression(max_iter=1000, random_state=0),\n",
       "             n_jobs=-1,\n",
       "             param_grid={'C': [10, 1, 0.75, 0.5, 0.25, 0.01],\n",
       "                         'solver': ['lbfgs', 'liblinear']},\n",
       "             verbose=1)"
      ]
     },
     "execution_count": 78,
     "metadata": {},
     "output_type": "execute_result"
    }
   ],
   "source": [
    "n_splits = 5 \n",
    "\n",
    "# parameter space to search over\n",
    "param_grid = {\n",
    "    \"C\": [10, 1, 0.75, 0.50, 0.25, 0.01],\n",
    "    \"solver\": [\"lbfgs\", \"liblinear\"],\n",
    "}\n",
    "\n",
    "grid_search = GridSearchCV(\n",
    "    estimator=lr_clf,\n",
    "    param_grid=param_grid,\n",
    "    cv=n_splits, \n",
    "    verbose=1,\n",
    "    n_jobs=-1,\n",
    "    \n",
    ")\n",
    "grid_search.fit(X_train, y_train)"
   ]
  },
  {
   "cell_type": "code",
   "execution_count": 79,
   "metadata": {},
   "outputs": [
    {
     "data": {
      "text/html": [
       "<div>\n",
       "<style scoped>\n",
       "    .dataframe tbody tr th:only-of-type {\n",
       "        vertical-align: middle;\n",
       "    }\n",
       "\n",
       "    .dataframe tbody tr th {\n",
       "        vertical-align: top;\n",
       "    }\n",
       "\n",
       "    .dataframe thead th {\n",
       "        text-align: right;\n",
       "    }\n",
       "</style>\n",
       "<table border=\"1\" class=\"dataframe\">\n",
       "  <thead>\n",
       "    <tr style=\"text-align: right;\">\n",
       "      <th></th>\n",
       "      <th>rank_test_score</th>\n",
       "      <th>param_solver</th>\n",
       "      <th>param_C</th>\n",
       "      <th>mean_test_score</th>\n",
       "      <th>std_test_score</th>\n",
       "    </tr>\n",
       "  </thead>\n",
       "  <tbody>\n",
       "    <tr>\n",
       "      <th>1</th>\n",
       "      <td>1</td>\n",
       "      <td>liblinear</td>\n",
       "      <td>10</td>\n",
       "      <td>0.804890</td>\n",
       "      <td>0.003738</td>\n",
       "    </tr>\n",
       "    <tr>\n",
       "      <th>2</th>\n",
       "      <td>2</td>\n",
       "      <td>lbfgs</td>\n",
       "      <td>1</td>\n",
       "      <td>0.803343</td>\n",
       "      <td>0.003964</td>\n",
       "    </tr>\n",
       "    <tr>\n",
       "      <th>3</th>\n",
       "      <td>3</td>\n",
       "      <td>liblinear</td>\n",
       "      <td>1</td>\n",
       "      <td>0.802698</td>\n",
       "      <td>0.003971</td>\n",
       "    </tr>\n",
       "    <tr>\n",
       "      <th>0</th>\n",
       "      <td>4</td>\n",
       "      <td>lbfgs</td>\n",
       "      <td>10</td>\n",
       "      <td>0.802269</td>\n",
       "      <td>0.004363</td>\n",
       "    </tr>\n",
       "    <tr>\n",
       "      <th>4</th>\n",
       "      <td>5</td>\n",
       "      <td>lbfgs</td>\n",
       "      <td>0.75</td>\n",
       "      <td>0.802226</td>\n",
       "      <td>0.004089</td>\n",
       "    </tr>\n",
       "    <tr>\n",
       "      <th>5</th>\n",
       "      <td>6</td>\n",
       "      <td>liblinear</td>\n",
       "      <td>0.75</td>\n",
       "      <td>0.801366</td>\n",
       "      <td>0.004283</td>\n",
       "    </tr>\n",
       "    <tr>\n",
       "      <th>6</th>\n",
       "      <td>7</td>\n",
       "      <td>lbfgs</td>\n",
       "      <td>0.5</td>\n",
       "      <td>0.800378</td>\n",
       "      <td>0.003884</td>\n",
       "    </tr>\n",
       "    <tr>\n",
       "      <th>7</th>\n",
       "      <td>8</td>\n",
       "      <td>liblinear</td>\n",
       "      <td>0.5</td>\n",
       "      <td>0.799347</td>\n",
       "      <td>0.004148</td>\n",
       "    </tr>\n",
       "    <tr>\n",
       "      <th>8</th>\n",
       "      <td>9</td>\n",
       "      <td>lbfgs</td>\n",
       "      <td>0.25</td>\n",
       "      <td>0.797113</td>\n",
       "      <td>0.003905</td>\n",
       "    </tr>\n",
       "    <tr>\n",
       "      <th>9</th>\n",
       "      <td>10</td>\n",
       "      <td>liblinear</td>\n",
       "      <td>0.25</td>\n",
       "      <td>0.794406</td>\n",
       "      <td>0.003392</td>\n",
       "    </tr>\n",
       "    <tr>\n",
       "      <th>10</th>\n",
       "      <td>11</td>\n",
       "      <td>lbfgs</td>\n",
       "      <td>0.01</td>\n",
       "      <td>0.745897</td>\n",
       "      <td>0.001792</td>\n",
       "    </tr>\n",
       "    <tr>\n",
       "      <th>11</th>\n",
       "      <td>12</td>\n",
       "      <td>liblinear</td>\n",
       "      <td>0.01</td>\n",
       "      <td>0.730902</td>\n",
       "      <td>0.001840</td>\n",
       "    </tr>\n",
       "  </tbody>\n",
       "</table>\n",
       "</div>"
      ],
      "text/plain": [
       "    rank_test_score param_solver param_C  mean_test_score  std_test_score\n",
       "1                 1    liblinear      10         0.804890        0.003738\n",
       "2                 2        lbfgs       1         0.803343        0.003964\n",
       "3                 3    liblinear       1         0.802698        0.003971\n",
       "0                 4        lbfgs      10         0.802269        0.004363\n",
       "4                 5        lbfgs    0.75         0.802226        0.004089\n",
       "5                 6    liblinear    0.75         0.801366        0.004283\n",
       "6                 7        lbfgs     0.5         0.800378        0.003884\n",
       "7                 8    liblinear     0.5         0.799347        0.004148\n",
       "8                 9        lbfgs    0.25         0.797113        0.003905\n",
       "9                10    liblinear    0.25         0.794406        0.003392\n",
       "10               11        lbfgs    0.01         0.745897        0.001792\n",
       "11               12    liblinear    0.01         0.730902        0.001840"
      ]
     },
     "execution_count": 79,
     "metadata": {},
     "output_type": "execute_result"
    }
   ],
   "source": [
    "pd.DataFrame(\n",
    "    grid_search.cv_results_,\n",
    "    columns=[\n",
    "        \"rank_test_score\",\n",
    "        'param_solver',\n",
    "        \"param_C\",\n",
    "        \"mean_test_score\",\n",
    "        \"std_test_score\",\n",
    "    ],\n",
    ").sort_values(by=\"rank_test_score\", ascending=True)"
   ]
  },
  {
   "cell_type": "code",
   "execution_count": 80,
   "metadata": {},
   "outputs": [
    {
     "data": {
      "text/plain": [
       "{'C': 10, 'solver': 'liblinear'}"
      ]
     },
     "execution_count": 80,
     "metadata": {},
     "output_type": "execute_result"
    }
   ],
   "source": [
    "# identify best hyper-parameters\n",
    "best_model = grid_search.best_estimator_\n",
    "best_solver = grid_search.best_params_[\"solver\"]\n",
    "best_c = grid_search.best_params_[\"C\"]\n",
    "grid_search.best_params_"
   ]
  },
  {
   "cell_type": "code",
   "execution_count": 81,
   "metadata": {},
   "outputs": [
    {
     "data": {
      "text/html": [
       "<style>#sk-container-id-4 {color: black;background-color: white;}#sk-container-id-4 pre{padding: 0;}#sk-container-id-4 div.sk-toggleable {background-color: white;}#sk-container-id-4 label.sk-toggleable__label {cursor: pointer;display: block;width: 100%;margin-bottom: 0;padding: 0.3em;box-sizing: border-box;text-align: center;}#sk-container-id-4 label.sk-toggleable__label-arrow:before {content: \"▸\";float: left;margin-right: 0.25em;color: #696969;}#sk-container-id-4 label.sk-toggleable__label-arrow:hover:before {color: black;}#sk-container-id-4 div.sk-estimator:hover label.sk-toggleable__label-arrow:before {color: black;}#sk-container-id-4 div.sk-toggleable__content {max-height: 0;max-width: 0;overflow: hidden;text-align: left;background-color: #f0f8ff;}#sk-container-id-4 div.sk-toggleable__content pre {margin: 0.2em;color: black;border-radius: 0.25em;background-color: #f0f8ff;}#sk-container-id-4 input.sk-toggleable__control:checked~div.sk-toggleable__content {max-height: 200px;max-width: 100%;overflow: auto;}#sk-container-id-4 input.sk-toggleable__control:checked~label.sk-toggleable__label-arrow:before {content: \"▾\";}#sk-container-id-4 div.sk-estimator input.sk-toggleable__control:checked~label.sk-toggleable__label {background-color: #d4ebff;}#sk-container-id-4 div.sk-label input.sk-toggleable__control:checked~label.sk-toggleable__label {background-color: #d4ebff;}#sk-container-id-4 input.sk-hidden--visually {border: 0;clip: rect(1px 1px 1px 1px);clip: rect(1px, 1px, 1px, 1px);height: 1px;margin: -1px;overflow: hidden;padding: 0;position: absolute;width: 1px;}#sk-container-id-4 div.sk-estimator {font-family: monospace;background-color: #f0f8ff;border: 1px dotted black;border-radius: 0.25em;box-sizing: border-box;margin-bottom: 0.5em;}#sk-container-id-4 div.sk-estimator:hover {background-color: #d4ebff;}#sk-container-id-4 div.sk-parallel-item::after {content: \"\";width: 100%;border-bottom: 1px solid gray;flex-grow: 1;}#sk-container-id-4 div.sk-label:hover label.sk-toggleable__label {background-color: #d4ebff;}#sk-container-id-4 div.sk-serial::before {content: \"\";position: absolute;border-left: 1px solid gray;box-sizing: border-box;top: 0;bottom: 0;left: 50%;z-index: 0;}#sk-container-id-4 div.sk-serial {display: flex;flex-direction: column;align-items: center;background-color: white;padding-right: 0.2em;padding-left: 0.2em;position: relative;}#sk-container-id-4 div.sk-item {position: relative;z-index: 1;}#sk-container-id-4 div.sk-parallel {display: flex;align-items: stretch;justify-content: center;background-color: white;position: relative;}#sk-container-id-4 div.sk-item::before, #sk-container-id-4 div.sk-parallel-item::before {content: \"\";position: absolute;border-left: 1px solid gray;box-sizing: border-box;top: 0;bottom: 0;left: 50%;z-index: -1;}#sk-container-id-4 div.sk-parallel-item {display: flex;flex-direction: column;z-index: 1;position: relative;background-color: white;}#sk-container-id-4 div.sk-parallel-item:first-child::after {align-self: flex-end;width: 50%;}#sk-container-id-4 div.sk-parallel-item:last-child::after {align-self: flex-start;width: 50%;}#sk-container-id-4 div.sk-parallel-item:only-child::after {width: 0;}#sk-container-id-4 div.sk-dashed-wrapped {border: 1px dashed gray;margin: 0 0.4em 0.5em 0.4em;box-sizing: border-box;padding-bottom: 0.4em;background-color: white;}#sk-container-id-4 div.sk-label label {font-family: monospace;font-weight: bold;display: inline-block;line-height: 1.2em;}#sk-container-id-4 div.sk-label-container {text-align: center;}#sk-container-id-4 div.sk-container {/* jupyter's `normalize.less` sets `[hidden] { display: none; }` but bootstrap.min.css set `[hidden] { display: none !important; }` so we also need the `!important` here to be able to override the default hidden behavior on the sphinx rendered scikit-learn.org. See: https://github.com/scikit-learn/scikit-learn/issues/21755 */display: inline-block !important;position: relative;}#sk-container-id-4 div.sk-text-repr-fallback {display: none;}</style><div id=\"sk-container-id-4\" class=\"sk-top-container\"><div class=\"sk-text-repr-fallback\"><pre>LogisticRegression(C=10, max_iter=1000, random_state=0, solver=&#x27;liblinear&#x27;)</pre><b>In a Jupyter environment, please rerun this cell to show the HTML representation or trust the notebook. <br />On GitHub, the HTML representation is unable to render, please try loading this page with nbviewer.org.</b></div><div class=\"sk-container\" hidden><div class=\"sk-item\"><div class=\"sk-estimator sk-toggleable\"><input class=\"sk-toggleable__control sk-hidden--visually\" id=\"sk-estimator-id-8\" type=\"checkbox\" checked><label for=\"sk-estimator-id-8\" class=\"sk-toggleable__label sk-toggleable__label-arrow\">LogisticRegression</label><div class=\"sk-toggleable__content\"><pre>LogisticRegression(C=10, max_iter=1000, random_state=0, solver=&#x27;liblinear&#x27;)</pre></div></div></div></div></div>"
      ],
      "text/plain": [
       "LogisticRegression(C=10, max_iter=1000, random_state=0, solver='liblinear')"
      ]
     },
     "execution_count": 81,
     "metadata": {},
     "output_type": "execute_result"
    }
   ],
   "source": [
    "lr_clf = LogisticRegression(\n",
    "    C=best_c, solver=best_solver, max_iter=1_000, random_state=0\n",
    ")\n",
    "lr_clf.fit(X_train, y_train)"
   ]
  },
  {
   "attachments": {},
   "cell_type": "markdown",
   "metadata": {},
   "source": [
    "## 6. Run Test Data using Best Model from Cross Validation "
   ]
  },
  {
   "cell_type": "code",
   "execution_count": 82,
   "metadata": {},
   "outputs": [
    {
     "name": "stdout",
     "output_type": "stream",
     "text": [
      "Actual Accuracy: 0.8068396631723664\n"
     ]
    }
   ],
   "source": [
    "# predict on the test set\n",
    "y_pred = lr_clf.predict(X_test)\n",
    "y_pred_prob = lr_clf.predict_proba(X_test)\n",
    "\n",
    "# evaluate the accuracy of the model\n",
    "accuracy = accuracy_score(y_test, y_pred)\n",
    "print(\"Actual Accuracy:\", accuracy)"
   ]
  },
  {
   "attachments": {},
   "cell_type": "markdown",
   "metadata": {},
   "source": [
    "## 7. Analyze Model Performance on Test Data"
   ]
  },
  {
   "cell_type": "code",
   "execution_count": 83,
   "metadata": {},
   "outputs": [],
   "source": [
    "classification_str = classification_report(y_test, y_pred, output_dict=True)\n",
    "pd.DataFrame(classification_str).transpose()\n",
    "classification_df = pd.DataFrame(classification_str).transpose()"
   ]
  },
  {
   "cell_type": "code",
   "execution_count": 84,
   "metadata": {},
   "outputs": [],
   "source": [
    "classification_classes_df = classification_df.iloc[:7,:]\n",
    "classification_metric_df = classification_df.iloc[7:,:]"
   ]
  },
  {
   "cell_type": "code",
   "execution_count": 85,
   "metadata": {},
   "outputs": [
    {
     "data": {
      "text/html": [
       "<div>\n",
       "<style scoped>\n",
       "    .dataframe tbody tr th:only-of-type {\n",
       "        vertical-align: middle;\n",
       "    }\n",
       "\n",
       "    .dataframe tbody tr th {\n",
       "        vertical-align: top;\n",
       "    }\n",
       "\n",
       "    .dataframe thead th {\n",
       "        text-align: right;\n",
       "    }\n",
       "</style>\n",
       "<table border=\"1\" class=\"dataframe\">\n",
       "  <thead>\n",
       "    <tr style=\"text-align: right;\">\n",
       "      <th></th>\n",
       "      <th>precision</th>\n",
       "      <th>recall</th>\n",
       "      <th>f1-score</th>\n",
       "      <th>support</th>\n",
       "    </tr>\n",
       "  </thead>\n",
       "  <tbody>\n",
       "    <tr>\n",
       "      <th>ADGS</th>\n",
       "      <td>0.561404</td>\n",
       "      <td>0.463768</td>\n",
       "      <td>0.507937</td>\n",
       "      <td>69.0</td>\n",
       "    </tr>\n",
       "    <tr>\n",
       "      <th>Consumer &amp; Retail</th>\n",
       "      <td>0.798309</td>\n",
       "      <td>0.783175</td>\n",
       "      <td>0.790670</td>\n",
       "      <td>844.0</td>\n",
       "    </tr>\n",
       "    <tr>\n",
       "      <th>Healthcare</th>\n",
       "      <td>0.912026</td>\n",
       "      <td>0.953586</td>\n",
       "      <td>0.932343</td>\n",
       "      <td>1185.0</td>\n",
       "    </tr>\n",
       "    <tr>\n",
       "      <th>IGP</th>\n",
       "      <td>0.742785</td>\n",
       "      <td>0.737235</td>\n",
       "      <td>0.740000</td>\n",
       "      <td>803.0</td>\n",
       "    </tr>\n",
       "    <tr>\n",
       "      <th>SCCS</th>\n",
       "      <td>0.721198</td>\n",
       "      <td>0.523411</td>\n",
       "      <td>0.606589</td>\n",
       "      <td>598.0</td>\n",
       "    </tr>\n",
       "    <tr>\n",
       "      <th>TES</th>\n",
       "      <td>0.608059</td>\n",
       "      <td>0.515528</td>\n",
       "      <td>0.557983</td>\n",
       "      <td>322.0</td>\n",
       "    </tr>\n",
       "    <tr>\n",
       "      <th>Technology</th>\n",
       "      <td>0.821999</td>\n",
       "      <td>0.901401</td>\n",
       "      <td>0.859871</td>\n",
       "      <td>1998.0</td>\n",
       "    </tr>\n",
       "  </tbody>\n",
       "</table>\n",
       "</div>"
      ],
      "text/plain": [
       "                   precision    recall  f1-score  support\n",
       "ADGS                0.561404  0.463768  0.507937     69.0\n",
       "Consumer & Retail   0.798309  0.783175  0.790670    844.0\n",
       "Healthcare          0.912026  0.953586  0.932343   1185.0\n",
       "IGP                 0.742785  0.737235  0.740000    803.0\n",
       "SCCS                0.721198  0.523411  0.606589    598.0\n",
       "TES                 0.608059  0.515528  0.557983    322.0\n",
       "Technology          0.821999  0.901401  0.859871   1998.0"
      ]
     },
     "execution_count": 85,
     "metadata": {},
     "output_type": "execute_result"
    }
   ],
   "source": [
    "classification_classes_df"
   ]
  },
  {
   "cell_type": "code",
   "execution_count": 86,
   "metadata": {},
   "outputs": [
    {
     "data": {
      "text/html": [
       "<div>\n",
       "<style scoped>\n",
       "    .dataframe tbody tr th:only-of-type {\n",
       "        vertical-align: middle;\n",
       "    }\n",
       "\n",
       "    .dataframe tbody tr th {\n",
       "        vertical-align: top;\n",
       "    }\n",
       "\n",
       "    .dataframe thead th {\n",
       "        text-align: right;\n",
       "    }\n",
       "</style>\n",
       "<table border=\"1\" class=\"dataframe\">\n",
       "  <thead>\n",
       "    <tr style=\"text-align: right;\">\n",
       "      <th></th>\n",
       "      <th>precision</th>\n",
       "      <th>recall</th>\n",
       "      <th>f1-score</th>\n",
       "      <th>support</th>\n",
       "    </tr>\n",
       "  </thead>\n",
       "  <tbody>\n",
       "    <tr>\n",
       "      <th>accuracy</th>\n",
       "      <td>0.806840</td>\n",
       "      <td>0.806840</td>\n",
       "      <td>0.806840</td>\n",
       "      <td>0.80684</td>\n",
       "    </tr>\n",
       "    <tr>\n",
       "      <th>macro avg</th>\n",
       "      <td>0.737969</td>\n",
       "      <td>0.696872</td>\n",
       "      <td>0.713628</td>\n",
       "      <td>5819.00000</td>\n",
       "    </tr>\n",
       "    <tr>\n",
       "      <th>weighted avg</th>\n",
       "      <td>0.800678</td>\n",
       "      <td>0.806840</td>\n",
       "      <td>0.801143</td>\n",
       "      <td>5819.00000</td>\n",
       "    </tr>\n",
       "  </tbody>\n",
       "</table>\n",
       "</div>"
      ],
      "text/plain": [
       "              precision    recall  f1-score     support\n",
       "accuracy       0.806840  0.806840  0.806840     0.80684\n",
       "macro avg      0.737969  0.696872  0.713628  5819.00000\n",
       "weighted avg   0.800678  0.806840  0.801143  5819.00000"
      ]
     },
     "execution_count": 86,
     "metadata": {},
     "output_type": "execute_result"
    }
   ],
   "source": [
    "classification_metric_df"
   ]
  },
  {
   "cell_type": "code",
   "execution_count": 87,
   "metadata": {},
   "outputs": [
    {
     "data": {
      "text/html": [
       "<div>\n",
       "<style scoped>\n",
       "    .dataframe tbody tr th:only-of-type {\n",
       "        vertical-align: middle;\n",
       "    }\n",
       "\n",
       "    .dataframe tbody tr th {\n",
       "        vertical-align: top;\n",
       "    }\n",
       "\n",
       "    .dataframe thead th {\n",
       "        text-align: right;\n",
       "    }\n",
       "</style>\n",
       "<table border=\"1\" class=\"dataframe\">\n",
       "  <thead>\n",
       "    <tr style=\"text-align: right;\">\n",
       "      <th></th>\n",
       "      <th>acc</th>\n",
       "      <th>balanced_acc</th>\n",
       "      <th>top_2_acc</th>\n",
       "      <th>precision_macro</th>\n",
       "      <th>precision_weighted</th>\n",
       "      <th>recall_macro</th>\n",
       "      <th>recall_weighted</th>\n",
       "    </tr>\n",
       "  </thead>\n",
       "  <tbody>\n",
       "    <tr>\n",
       "      <th>0</th>\n",
       "      <td>0.8068</td>\n",
       "      <td>0.6969</td>\n",
       "      <td>0.9242</td>\n",
       "      <td>0.738</td>\n",
       "      <td>0.8007</td>\n",
       "      <td>0.6969</td>\n",
       "      <td>0.8068</td>\n",
       "    </tr>\n",
       "  </tbody>\n",
       "</table>\n",
       "</div>"
      ],
      "text/plain": [
       "      acc  balanced_acc  top_2_acc  precision_macro  precision_weighted  \\\n",
       "0  0.8068        0.6969     0.9242            0.738              0.8007   \n",
       "\n",
       "   recall_macro  recall_weighted  \n",
       "0        0.6969           0.8068  "
      ]
     },
     "execution_count": 87,
     "metadata": {},
     "output_type": "execute_result"
    }
   ],
   "source": [
    "# logging various metrics\n",
    "test_metrics = {\n",
    "    \"acc\": round(accuracy_score(y_test, y_pred), 4),\n",
    "    \"balanced_acc\": round(balanced_accuracy_score(y_test, y_pred), 4),\n",
    "    \"top_2_acc\": round(top_k_accuracy_score(y_test, y_pred_prob), 4),\n",
    "    \"precision_macro\": round(precision_score(y_test, y_pred, average=\"macro\"), 4),\n",
    "    \"precision_weighted\": round(precision_score(y_test, y_pred, average=\"weighted\"), 4),\n",
    "    \"recall_macro\": round(recall_score(y_test, y_pred, average=\"macro\"), 4),\n",
    "    \"recall_weighted\": round(recall_score(y_test, y_pred, average=\"weighted\"), 4)\n",
    "}\n",
    "pd.json_normalize(test_metrics)"
   ]
  },
  {
   "cell_type": "code",
   "execution_count": 88,
   "metadata": {},
   "outputs": [
    {
     "data": {
      "image/png": "[encoded data removed]",
      "text/plain": [
       "<Figure size 1000x1000 with 1 Axes>"
      ]
     },
     "metadata": {},
     "output_type": "display_data"
    }
   ],
   "source": [
    "# logging confusion matrix\n",
    "conf_mtx_fig = plt.figure(figsize=(10, 10))\n",
    "conf_mtx_ax = sns.heatmap(\n",
    "    confusion_matrix(y_test, y_pred),\n",
    "    annot=True,\n",
    "    cbar=False,\n",
    "    xticklabels=lr_clf.classes_,\n",
    "    yticklabels=lr_clf.classes_,\n",
    "    cmap=plt.cm.Blues,\n",
    "    linewidths=1\n",
    ")"
   ]
  },
  {
   "attachments": {},
   "cell_type": "markdown",
   "metadata": {},
   "source": [
    "## 8. Inferencing Pitchbook Industry Classification on Test Data"
   ]
  },
  {
   "cell_type": "code",
   "execution_count": 89,
   "metadata": {},
   "outputs": [],
   "source": [
    "def predicted_class(\n",
    "    pred_proba: np.ndarray,\n",
    "    classes: dict,\n",
    "    threshold: None | float = None\n",
    "):\n",
    "    \"\"\"\n",
    "    Returns the predicted class given prediction probability array.\n",
    "    If threshold is None, then the predicted class is just the class\n",
    "    with the highest probability. Otherwise, the predicted class is the\n",
    "    class with the highest probability after adjusting the highest\n",
    "    predicted class to the threshold value.\n",
    "\n",
    "    Parameters:\n",
    "    -----------\n",
    "        pred_prob (np.ndarray): array containing prediction probabilities\n",
    "            of shape (n_obs, n_classes)\n",
    "        classes (dict): mapping of column index in pred_proba to class\n",
    "            label\n",
    "        threshold (None | float): the probability to which the primary\n",
    "            class will be adjusted down to\n",
    "\n",
    "    Returns:\n",
    "        pred_cls (np.ndarray): predicted classes of observations\n",
    "    \"\"\"\n",
    "    \n",
    "    n_obs = pred_proba.shape[0]\n",
    "    pred_prob_cp = np.copy(pred_proba)\n",
    "\n",
    "    # index of the predicted class\n",
    "    pred_cls_indices = pred_proba.argmax(axis=1)\n",
    "\n",
    "    if threshold is None:\n",
    "        pred_cls = np.array(\n",
    "            [classes[cls_idx] for cls_idx in pred_cls_indices]\n",
    "        )\n",
    "    else:\n",
    "        # lowering probability of predicted class to threshold value\n",
    "        row_indices = np.array(range(n_obs))\n",
    "        pred_prob_cp[row_indices, pred_cls_indices] = threshold\n",
    "\n",
    "        # finding (potentially) new predicted class\n",
    "        pred_cls_indices_new = pred_prob_cp.argmax(axis=1)\n",
    "        pred_cls = np.array(\n",
    "            [classes[cls_idx] for cls_idx in pred_cls_indices_new]\n",
    "        )\n",
    "\n",
    "    return pred_cls"
   ]
  },
  {
   "cell_type": "code",
   "execution_count": 90,
   "metadata": {},
   "outputs": [],
   "source": [
    "df_test.rename(columns = {'PitchBook_ID__c':'Companyid'}, inplace = True)\n",
    "df_pitchbook_test = df_test.merge(df_pb_company, on=[\"Companyid\"])\n",
    "df_pitchbook_test.rename(columns = {'Industry':'Orginal_Industry_From_SF'}, inplace = True)\n",
    "df_pitchbook_test_filtered = df_pitchbook_test[[\"Companyid\", \"Companyname\", \"Description\", \"Orginal_Industry_From_SF\"]]"
   ]
  },
  {
   "cell_type": "code",
   "execution_count": 91,
   "metadata": {},
   "outputs": [
    {
     "data": {
      "text/html": [
       "<div>\n",
       "<style scoped>\n",
       "    .dataframe tbody tr th:only-of-type {\n",
       "        vertical-align: middle;\n",
       "    }\n",
       "\n",
       "    .dataframe tbody tr th {\n",
       "        vertical-align: top;\n",
       "    }\n",
       "\n",
       "    .dataframe thead th {\n",
       "        text-align: right;\n",
       "    }\n",
       "</style>\n",
       "<table border=\"1\" class=\"dataframe\">\n",
       "  <thead>\n",
       "    <tr style=\"text-align: right;\">\n",
       "      <th></th>\n",
       "      <th>Companyid</th>\n",
       "      <th>Companyname</th>\n",
       "      <th>Description</th>\n",
       "      <th>Orginal_Industry_From_SF</th>\n",
       "      <th>Primary_Industry</th>\n",
       "    </tr>\n",
       "  </thead>\n",
       "  <tbody>\n",
       "    <tr>\n",
       "      <th>0</th>\n",
       "      <td>124057-72</td>\n",
       "      <td>Horizon Solar Power</td>\n",
       "      <td>Designer and provider of residential and comme...</td>\n",
       "      <td>IGP</td>\n",
       "      <td>SCCS</td>\n",
       "    </tr>\n",
       "    <tr>\n",
       "      <th>1</th>\n",
       "      <td>61631-20</td>\n",
       "      <td>MySugr</td>\n",
       "      <td>Developer of a diabetes management platform de...</td>\n",
       "      <td>Healthcare</td>\n",
       "      <td>Healthcare</td>\n",
       "    </tr>\n",
       "    <tr>\n",
       "      <th>2</th>\n",
       "      <td>290965-42</td>\n",
       "      <td>Etro</td>\n",
       "      <td>Manufacturer of luxury clothing and accessorie...</td>\n",
       "      <td>Consumer &amp; Retail</td>\n",
       "      <td>Consumer &amp; Retail</td>\n",
       "    </tr>\n",
       "    <tr>\n",
       "      <th>3</th>\n",
       "      <td>164360-35</td>\n",
       "      <td>Accuity Delivery Systems</td>\n",
       "      <td>Provider of revenue cycle management services ...</td>\n",
       "      <td>Healthcare</td>\n",
       "      <td>Healthcare</td>\n",
       "    </tr>\n",
       "    <tr>\n",
       "      <th>4</th>\n",
       "      <td>12904-57</td>\n",
       "      <td>OQ Chemicals</td>\n",
       "      <td>Manufacturer and seller of oxo intermediates a...</td>\n",
       "      <td>IGP</td>\n",
       "      <td>IGP</td>\n",
       "    </tr>\n",
       "    <tr>\n",
       "      <th>...</th>\n",
       "      <td>...</td>\n",
       "      <td>...</td>\n",
       "      <td>...</td>\n",
       "      <td>...</td>\n",
       "      <td>...</td>\n",
       "    </tr>\n",
       "    <tr>\n",
       "      <th>5814</th>\n",
       "      <td>52333-57</td>\n",
       "      <td>Semprius</td>\n",
       "      <td>Developer of concentrator photovoltaic modules...</td>\n",
       "      <td>IGP</td>\n",
       "      <td>Technology</td>\n",
       "    </tr>\n",
       "    <tr>\n",
       "      <th>5815</th>\n",
       "      <td>54629-83</td>\n",
       "      <td>Novast</td>\n",
       "      <td>Developer of pharmaceuticals for regulated for...</td>\n",
       "      <td>Healthcare</td>\n",
       "      <td>Healthcare</td>\n",
       "    </tr>\n",
       "    <tr>\n",
       "      <th>5816</th>\n",
       "      <td>52366-42</td>\n",
       "      <td>Fing'rs</td>\n",
       "      <td>Manufacturer of artificial nails. The company ...</td>\n",
       "      <td>Consumer &amp; Retail</td>\n",
       "      <td>Consumer &amp; Retail</td>\n",
       "    </tr>\n",
       "    <tr>\n",
       "      <th>5817</th>\n",
       "      <td>228015-19</td>\n",
       "      <td>INNIO</td>\n",
       "      <td>Manufacturer of distributed power systems and ...</td>\n",
       "      <td>IGP</td>\n",
       "      <td>IGP</td>\n",
       "    </tr>\n",
       "    <tr>\n",
       "      <th>5818</th>\n",
       "      <td>95921-56</td>\n",
       "      <td>CrunchTime! Information Systems</td>\n",
       "      <td>Operator of an enterprise management platform ...</td>\n",
       "      <td>Technology</td>\n",
       "      <td>Technology</td>\n",
       "    </tr>\n",
       "  </tbody>\n",
       "</table>\n",
       "<p>5819 rows × 5 columns</p>\n",
       "</div>"
      ],
      "text/plain": [
       "      Companyid                      Companyname  \\\n",
       "0     124057-72              Horizon Solar Power   \n",
       "1      61631-20                           MySugr   \n",
       "2     290965-42                             Etro   \n",
       "3     164360-35         Accuity Delivery Systems   \n",
       "4      12904-57                     OQ Chemicals   \n",
       "...         ...                              ...   \n",
       "5814   52333-57                         Semprius   \n",
       "5815   54629-83                           Novast   \n",
       "5816   52366-42                          Fing'rs   \n",
       "5817  228015-19                            INNIO   \n",
       "5818   95921-56  CrunchTime! Information Systems   \n",
       "\n",
       "                                            Description  \\\n",
       "0     Designer and provider of residential and comme...   \n",
       "1     Developer of a diabetes management platform de...   \n",
       "2     Manufacturer of luxury clothing and accessorie...   \n",
       "3     Provider of revenue cycle management services ...   \n",
       "4     Manufacturer and seller of oxo intermediates a...   \n",
       "...                                                 ...   \n",
       "5814  Developer of concentrator photovoltaic modules...   \n",
       "5815  Developer of pharmaceuticals for regulated for...   \n",
       "5816  Manufacturer of artificial nails. The company ...   \n",
       "5817  Manufacturer of distributed power systems and ...   \n",
       "5818  Operator of an enterprise management platform ...   \n",
       "\n",
       "     Orginal_Industry_From_SF   Primary_Industry  \n",
       "0                         IGP               SCCS  \n",
       "1                  Healthcare         Healthcare  \n",
       "2           Consumer & Retail  Consumer & Retail  \n",
       "3                  Healthcare         Healthcare  \n",
       "4                         IGP                IGP  \n",
       "...                       ...                ...  \n",
       "5814                      IGP         Technology  \n",
       "5815               Healthcare         Healthcare  \n",
       "5816        Consumer & Retail  Consumer & Retail  \n",
       "5817                      IGP                IGP  \n",
       "5818               Technology         Technology  \n",
       "\n",
       "[5819 rows x 5 columns]"
      ]
     },
     "execution_count": 91,
     "metadata": {},
     "output_type": "execute_result"
    }
   ],
   "source": [
    "# getting primary predicted industry\n",
    "df_pitchbook_test_filtered['Primary_Industry'] = predicted_class(pred_proba=y_pred_prob, classes=lr_clf.classes_)\n",
    "df_pitchbook_test_filtered"
   ]
  },
  {
   "cell_type": "code",
   "execution_count": 92,
   "metadata": {},
   "outputs": [
    {
     "data": {
      "text/plain": [
       "'Fri, 03 March 2023 13:34:34'"
      ]
     },
     "execution_count": 92,
     "metadata": {},
     "output_type": "execute_result"
    }
   ],
   "source": [
    "import datetime\n",
    "import pytz\n",
    "\n",
    "datetime.datetime.now(pytz.timezone(\"US/Central\")).strftime(\"%a, %d %B %Y %H:%M:%S\")"
   ]
  },
  {
   "cell_type": "code",
   "execution_count": null,
   "metadata": {},
   "outputs": [],
   "source": []
  }
 ],
 "metadata": {
  "kernelspec": {
   "display_name": "data-mining-final-project",
   "language": "python",
   "name": "python3"
  },
  "language_info": {
   "codemirror_mode": {
    "name": "ipython",
    "version": 3
   },
   "file_extension": ".py",
   "mimetype": "text/x-python",
   "name": "python",
   "nbconvert_exporter": "python",
   "pygments_lexer": "ipython3",
   "version": "3.10.8"
  },
  "vscode": {
   "interpreter": {
    "hash": "35b6517ec5554a2fff5d36f2b1e412943468b3468fde313f052f09f13e7b2122"
   }
  }
 },
 "nbformat": 4,
 "nbformat_minor": 4
}
