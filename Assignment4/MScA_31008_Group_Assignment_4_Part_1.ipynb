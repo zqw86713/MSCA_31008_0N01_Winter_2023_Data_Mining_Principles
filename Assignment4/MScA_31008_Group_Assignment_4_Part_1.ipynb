{
 "cells": [
  {
   "attachments": {},
   "cell_type": "markdown",
   "metadata": {
    "tags": []
   },
   "source": [
    "# MSCA 31008 - Data Mining Assignment 4 Part 1 (Group 4)\n",
    "<b>Qingwei Zhang, Jake Brewer, Prinu Mathew</b><br>\n",
    "<b>Winter 2023</b>"
   ]
  },
  {
   "cell_type": "markdown",
   "metadata": {
    "tags": []
   },
   "source": [
    "### Import Libraries  "
   ]
  },
  {
   "cell_type": "code",
   "execution_count": 1,
   "metadata": {},
   "outputs": [],
   "source": [
    "import sys, os, json, subprocess\n",
    "\n",
    "## for data\n",
    "import pandas as pd\n",
    "import numpy as np\n",
    "import datetime\n",
    "import random\n",
    "\n",
    "## for machine learning\n",
    "from scipy import stats\n",
    "\n",
    "import warnings\n",
    "warnings.filterwarnings('ignore')"
   ]
  },
  {
   "cell_type": "code",
   "execution_count": 2,
   "metadata": {},
   "outputs": [
    {
     "name": "stdout",
     "output_type": "stream",
     "text": [
      "~~~ Already installed required packages for machine learning ~~~~\n"
     ]
    }
   ],
   "source": [
    "## for machine learning\n",
    "try:\n",
    "    from sklearn.model_selection import train_test_split, GridSearchCV\n",
    "    from sklearn.linear_model import LogisticRegression\n",
    "    from sklearn.metrics import confusion_matrix, classification_report, f1_score, roc_auc_score, roc_curve, accuracy_score\n",
    "    import sklearn.datasets\n",
    "        \n",
    "    print(\"~~~ Already installed required packages for machine learning ~~~~\")\n",
    "except Exception as e:\n",
    "    print(e)\n",
    "    \n",
    "    print(\"~~~ Installing required packages for machine learning ~~~~\")\n",
    "    subprocess.check_call([sys.executable, \"-m\", \"pip\", \"install\", \"--upgrade\", \"kneed\"])\n",
    "    subprocess.check_call([sys.executable, \"-m\", \"pip\", \"install\", \"--upgrade\", \"scikit-learn\"])\n",
    "    from sklearn.model_selection import train_test_split, GridSearchCV\n",
    "    from sklearn.linear_model import LogisticRegression\n",
    "    from sklearn.metrics import confusion_matrix, classification_report, f1_score, roc_auc_score, roc_curve, accuracy_score\n",
    "    import sklearn.datasets"
   ]
  },
  {
   "cell_type": "code",
   "execution_count": 3,
   "metadata": {},
   "outputs": [
    {
     "name": "stdout",
     "output_type": "stream",
     "text": [
      "~~~ Already installed required packages for interactive visualizations ~~~~\n"
     ]
    }
   ],
   "source": [
    "## for interactive visualization\n",
    "try:\n",
    "    import matplotlib.pyplot as plt\n",
    "    import seaborn as sns\n",
    "    \n",
    "    print(\"~~~ Already installed required packages for interactive visualizations ~~~~\")\n",
    "except Exception as e:\n",
    "    print(e)\n",
    "    \n",
    "    print(\"~~~ Installing required packages for interactive visualizations ~~~~\")\n",
    "    subprocess.check_call([sys.executable, \"-m\", \"pip\", \"install\", \"--upgrade\", \"matplotlib\"])\n",
    "    subprocess.check_call([sys.executable, \"-m\", \"pip\", \"install\", \"--upgrade\", \"seaborn\"])\n",
    "    import matplotlib.pyplot as plt\n",
    "    import seaborn as sns\n",
    "    \n",
    "%matplotlib inline"
   ]
  },
  {
   "attachments": {},
   "cell_type": "markdown",
   "metadata": {},
   "source": [
    "## 1. Read dataset"
   ]
  },
  {
   "cell_type": "code",
   "execution_count": 4,
   "metadata": {},
   "outputs": [
    {
     "data": {
      "text/html": [
       "<div>\n",
       "<style scoped>\n",
       "    .dataframe tbody tr th:only-of-type {\n",
       "        vertical-align: middle;\n",
       "    }\n",
       "\n",
       "    .dataframe tbody tr th {\n",
       "        vertical-align: top;\n",
       "    }\n",
       "\n",
       "    .dataframe thead th {\n",
       "        text-align: right;\n",
       "    }\n",
       "</style>\n",
       "<table border=\"1\" class=\"dataframe\">\n",
       "  <thead>\n",
       "    <tr style=\"text-align: right;\">\n",
       "      <th></th>\n",
       "      <th>encounter_id</th>\n",
       "      <th>patient_nbr</th>\n",
       "      <th>race</th>\n",
       "      <th>gender</th>\n",
       "      <th>age</th>\n",
       "      <th>admission_type_id</th>\n",
       "      <th>discharge_disposition_id</th>\n",
       "      <th>admission_source_id</th>\n",
       "      <th>time_in_hospital</th>\n",
       "      <th>num_lab_procedures</th>\n",
       "      <th>...</th>\n",
       "      <th>troglitazone</th>\n",
       "      <th>tolazamide</th>\n",
       "      <th>insulin</th>\n",
       "      <th>glyburide-metformin</th>\n",
       "      <th>glipizide-metformin</th>\n",
       "      <th>glimepiride-pioglitazone</th>\n",
       "      <th>metformin-pioglitazone</th>\n",
       "      <th>change</th>\n",
       "      <th>diabetesMed</th>\n",
       "      <th>readmitted</th>\n",
       "    </tr>\n",
       "  </thead>\n",
       "  <tbody>\n",
       "    <tr>\n",
       "      <th>0</th>\n",
       "      <td>149190</td>\n",
       "      <td>55629189</td>\n",
       "      <td>Caucasian</td>\n",
       "      <td>Female</td>\n",
       "      <td>[10-20)</td>\n",
       "      <td>1</td>\n",
       "      <td>1</td>\n",
       "      <td>7</td>\n",
       "      <td>3</td>\n",
       "      <td>59</td>\n",
       "      <td>...</td>\n",
       "      <td>No</td>\n",
       "      <td>No</td>\n",
       "      <td>Up</td>\n",
       "      <td>No</td>\n",
       "      <td>No</td>\n",
       "      <td>No</td>\n",
       "      <td>No</td>\n",
       "      <td>Ch</td>\n",
       "      <td>Yes</td>\n",
       "      <td>&gt;30</td>\n",
       "    </tr>\n",
       "    <tr>\n",
       "      <th>1</th>\n",
       "      <td>64410</td>\n",
       "      <td>86047875</td>\n",
       "      <td>AfricanAmerican</td>\n",
       "      <td>Female</td>\n",
       "      <td>[20-30)</td>\n",
       "      <td>1</td>\n",
       "      <td>1</td>\n",
       "      <td>7</td>\n",
       "      <td>2</td>\n",
       "      <td>11</td>\n",
       "      <td>...</td>\n",
       "      <td>No</td>\n",
       "      <td>No</td>\n",
       "      <td>No</td>\n",
       "      <td>No</td>\n",
       "      <td>No</td>\n",
       "      <td>No</td>\n",
       "      <td>No</td>\n",
       "      <td>No</td>\n",
       "      <td>Yes</td>\n",
       "      <td>NO</td>\n",
       "    </tr>\n",
       "    <tr>\n",
       "      <th>2</th>\n",
       "      <td>500364</td>\n",
       "      <td>82442376</td>\n",
       "      <td>Caucasian</td>\n",
       "      <td>Male</td>\n",
       "      <td>[30-40)</td>\n",
       "      <td>1</td>\n",
       "      <td>1</td>\n",
       "      <td>7</td>\n",
       "      <td>2</td>\n",
       "      <td>44</td>\n",
       "      <td>...</td>\n",
       "      <td>No</td>\n",
       "      <td>No</td>\n",
       "      <td>Up</td>\n",
       "      <td>No</td>\n",
       "      <td>No</td>\n",
       "      <td>No</td>\n",
       "      <td>No</td>\n",
       "      <td>Ch</td>\n",
       "      <td>Yes</td>\n",
       "      <td>NO</td>\n",
       "    </tr>\n",
       "    <tr>\n",
       "      <th>3</th>\n",
       "      <td>16680</td>\n",
       "      <td>42519267</td>\n",
       "      <td>Caucasian</td>\n",
       "      <td>Male</td>\n",
       "      <td>[40-50)</td>\n",
       "      <td>1</td>\n",
       "      <td>1</td>\n",
       "      <td>7</td>\n",
       "      <td>1</td>\n",
       "      <td>51</td>\n",
       "      <td>...</td>\n",
       "      <td>No</td>\n",
       "      <td>No</td>\n",
       "      <td>Steady</td>\n",
       "      <td>No</td>\n",
       "      <td>No</td>\n",
       "      <td>No</td>\n",
       "      <td>No</td>\n",
       "      <td>Ch</td>\n",
       "      <td>Yes</td>\n",
       "      <td>NO</td>\n",
       "    </tr>\n",
       "    <tr>\n",
       "      <th>4</th>\n",
       "      <td>35754</td>\n",
       "      <td>82637451</td>\n",
       "      <td>Caucasian</td>\n",
       "      <td>Male</td>\n",
       "      <td>[50-60)</td>\n",
       "      <td>2</td>\n",
       "      <td>1</td>\n",
       "      <td>2</td>\n",
       "      <td>3</td>\n",
       "      <td>31</td>\n",
       "      <td>...</td>\n",
       "      <td>No</td>\n",
       "      <td>No</td>\n",
       "      <td>Steady</td>\n",
       "      <td>No</td>\n",
       "      <td>No</td>\n",
       "      <td>No</td>\n",
       "      <td>No</td>\n",
       "      <td>No</td>\n",
       "      <td>Yes</td>\n",
       "      <td>&gt;30</td>\n",
       "    </tr>\n",
       "  </tbody>\n",
       "</table>\n",
       "<p>5 rows × 44 columns</p>\n",
       "</div>"
      ],
      "text/plain": [
       "   encounter_id  patient_nbr             race  gender      age  \\\n",
       "0        149190     55629189        Caucasian  Female  [10-20)   \n",
       "1         64410     86047875  AfricanAmerican  Female  [20-30)   \n",
       "2        500364     82442376        Caucasian    Male  [30-40)   \n",
       "3         16680     42519267        Caucasian    Male  [40-50)   \n",
       "4         35754     82637451        Caucasian    Male  [50-60)   \n",
       "\n",
       "   admission_type_id  discharge_disposition_id  admission_source_id  \\\n",
       "0                  1                         1                    7   \n",
       "1                  1                         1                    7   \n",
       "2                  1                         1                    7   \n",
       "3                  1                         1                    7   \n",
       "4                  2                         1                    2   \n",
       "\n",
       "   time_in_hospital  num_lab_procedures  ...  troglitazone  tolazamide  \\\n",
       "0                 3                  59  ...            No          No   \n",
       "1                 2                  11  ...            No          No   \n",
       "2                 2                  44  ...            No          No   \n",
       "3                 1                  51  ...            No          No   \n",
       "4                 3                  31  ...            No          No   \n",
       "\n",
       "   insulin  glyburide-metformin  glipizide-metformin glimepiride-pioglitazone  \\\n",
       "0       Up                   No                   No                       No   \n",
       "1       No                   No                   No                       No   \n",
       "2       Up                   No                   No                       No   \n",
       "3   Steady                   No                   No                       No   \n",
       "4   Steady                   No                   No                       No   \n",
       "\n",
       "  metformin-pioglitazone change  diabetesMed readmitted  \n",
       "0                     No     Ch          Yes        >30  \n",
       "1                     No     No          Yes         NO  \n",
       "2                     No     Ch          Yes         NO  \n",
       "3                     No     Ch          Yes         NO  \n",
       "4                     No     No          Yes        >30  \n",
       "\n",
       "[5 rows x 44 columns]"
      ]
     },
     "execution_count": 4,
     "metadata": {},
     "output_type": "execute_result"
    }
   ],
   "source": [
    "# import data and read csv\n",
    "\n",
    "input_df = pd.read_csv('diabetes_data.csv')\n",
    "input_df.head()"
   ]
  },
  {
   "cell_type": "code",
   "execution_count": 5,
   "metadata": {},
   "outputs": [
    {
     "name": "stdout",
     "output_type": "stream",
     "text": [
      "<class 'pandas.core.frame.DataFrame'>\n",
      "RangeIndex: 98053 entries, 0 to 98052\n",
      "Data columns (total 44 columns):\n",
      " #   Column                    Non-Null Count  Dtype \n",
      "---  ------                    --------------  ----- \n",
      " 0   encounter_id              98053 non-null  int64 \n",
      " 1   patient_nbr               98053 non-null  int64 \n",
      " 2   race                      98053 non-null  object\n",
      " 3   gender                    98053 non-null  object\n",
      " 4   age                       98053 non-null  object\n",
      " 5   admission_type_id         98053 non-null  int64 \n",
      " 6   discharge_disposition_id  98053 non-null  int64 \n",
      " 7   admission_source_id       98053 non-null  int64 \n",
      " 8   time_in_hospital          98053 non-null  int64 \n",
      " 9   num_lab_procedures        98053 non-null  int64 \n",
      " 10  num_procedures            98053 non-null  int64 \n",
      " 11  num_medications           98053 non-null  int64 \n",
      " 12  number_outpatient         98053 non-null  int64 \n",
      " 13  number_emergency          98053 non-null  int64 \n",
      " 14  number_inpatient          98053 non-null  int64 \n",
      " 15  diag_1                    98053 non-null  object\n",
      " 16  diag_2                    98053 non-null  object\n",
      " 17  diag_3                    98053 non-null  object\n",
      " 18  number_diagnoses          98053 non-null  int64 \n",
      " 19  max_glu_serum             98053 non-null  object\n",
      " 20  A1Cresult                 98053 non-null  object\n",
      " 21  metformin                 98053 non-null  object\n",
      " 22  repaglinide               98053 non-null  object\n",
      " 23  nateglinide               98053 non-null  object\n",
      " 24  chlorpropamide            98053 non-null  object\n",
      " 25  glimepiride               98053 non-null  object\n",
      " 26  acetohexamide             98053 non-null  object\n",
      " 27  glipizide                 98053 non-null  object\n",
      " 28  glyburide                 98053 non-null  object\n",
      " 29  tolbutamide               98053 non-null  object\n",
      " 30  pioglitazone              98053 non-null  object\n",
      " 31  rosiglitazone             98053 non-null  object\n",
      " 32  acarbose                  98053 non-null  object\n",
      " 33  miglitol                  98053 non-null  object\n",
      " 34  troglitazone              98053 non-null  object\n",
      " 35  tolazamide                98053 non-null  object\n",
      " 36  insulin                   98053 non-null  object\n",
      " 37  glyburide-metformin       98053 non-null  object\n",
      " 38  glipizide-metformin       98053 non-null  object\n",
      " 39  glimepiride-pioglitazone  98053 non-null  object\n",
      " 40  metformin-pioglitazone    98053 non-null  object\n",
      " 41  change                    98053 non-null  object\n",
      " 42  diabetesMed               98053 non-null  object\n",
      " 43  readmitted                98053 non-null  object\n",
      "dtypes: int64(13), object(31)\n",
      "memory usage: 32.9+ MB\n"
     ]
    }
   ],
   "source": [
    "# view data types and number of non-null values in each column\n",
    "input_df.info()"
   ]
  },
  {
   "attachments": {},
   "cell_type": "markdown",
   "metadata": {},
   "source": [
    "## 2. Prepare Data for Input into Logistic Regression Model"
   ]
  },
  {
   "cell_type": "code",
   "execution_count": 6,
   "metadata": {},
   "outputs": [
    {
     "data": {
      "text/plain": [
       "0    52338\n",
       "1    45715\n",
       "Name: readmitted, dtype: int64"
      ]
     },
     "execution_count": 6,
     "metadata": {},
     "output_type": "execute_result"
    }
   ],
   "source": [
    "# convert 2 value categories into binary variables\n",
    "input_df['readmitted'] = input_df['readmitted'].replace('>30', 'YES')\n",
    "input_df['readmitted'] = input_df['readmitted'].replace('<30', 'YES')\n",
    "input_df['readmitted'] = input_df['readmitted'].replace('YES', 1)\n",
    "input_df['readmitted'] = input_df['readmitted'].replace('NO', 0)\n",
    "input_df['readmitted'] = input_df['readmitted'].astype(int)\n",
    "input_df['readmitted'].value_counts()"
   ]
  },
  {
   "attachments": {},
   "cell_type": "markdown",
   "metadata": {},
   "source": [
    "#### diag_1, diag_2, diag_3 variables : \n",
    "\n",
    "The dataset contained upto three diagnoses for a given patient (primary (diag_1), secondary(diag_2) and additional(diag_3)). However, each of these had 700–900 unique ICD codes  \n",
    "We can collapsed these diagnosis codes into 9 disease categories . These 9 categories include Circulatory, Respiratory, Digestive, Diabetes, Injury, Musculoskeletal, Genitourinary, Neoplasms, and Others. \n",
    "\n",
    "* You can convert all 3 into 9 categories each. however primary diagnosis is enough for this study.\n",
    "\n",
    "ICD9 code conversion online reference (https://en.wikipedia.org/wiki/List_of_ICD-9_codes)"
   ]
  },
  {
   "cell_type": "code",
   "execution_count": 7,
   "metadata": {},
   "outputs": [
    {
     "data": {
      "text/plain": [
       "Circulatory        29630\n",
       "Other              25315\n",
       "Respiratory        13993\n",
       "Digestive           9187\n",
       "Injury              6703\n",
       "Genitourinary       4983\n",
       "Musculoskeletal     4739\n",
       "Neoplasms           3312\n",
       "Diabetes             191\n",
       "Name: diag_1, dtype: int64"
      ]
     },
     "execution_count": 7,
     "metadata": {},
     "output_type": "execute_result"
    }
   ],
   "source": [
    "# recategorize diagnoses into 9 categories - only consider primary diagnosis\n",
    "def convert_diag_codes(code):\n",
    "    if (pd.isnull(code)):\n",
    "        return 'Other'\n",
    "    elif ('V' in code) or ('E' in code):\n",
    "        return 'Other'\n",
    "    else:\n",
    "        code = float(code)\n",
    "        if (code >= 390) and (code < 460) or (np.floor(code)==785):\n",
    "            return 'Circulatory'\n",
    "        elif (code >= 460) and (code < 520) or (np.floor(code)==786):\n",
    "            return 'Respiratory'\n",
    "        elif (code >= 520) and (code < 580) or (np.floor(code)==787):\n",
    "            return 'Digestive'\n",
    "        elif (code == 250):\n",
    "            return 'Diabetes'\n",
    "        elif (code >= 800) and (code < 1000):\n",
    "            return 'Injury'\n",
    "        elif (code >= 710) and (code < 740):\n",
    "            return 'Musculoskeletal'\n",
    "        elif (code >= 580) and (code < 630) or (np.floor(code)==788):\n",
    "            return 'Genitourinary'\n",
    "        elif (code >= 140) and (code < 240):\n",
    "            return 'Neoplasms'\n",
    "        else:\n",
    "            return 'Other'\n",
    "        \n",
    "input_df['diag_1'] = input_df['diag_1'].apply(lambda x:convert_diag_codes(x))\n",
    "input_df['diag_1'].value_counts()"
   ]
  },
  {
   "cell_type": "code",
   "execution_count": 8,
   "metadata": {},
   "outputs": [],
   "source": [
    "# convert age to numeric\n",
    "age_dict = {\"[0-10)\":5, \"[10-20)\":15, \"[20-30)\":25, \"[30-40)\":35, \"[40-50)\":45, \"[50-60)\":55, \n",
    "            \"[60-70)\":65, \"[70-80)\":75, \"[80-90)\":85, \"[90-100)\":95}\n",
    "\n",
    "input_df['age'] = input_df['age'].map(age_dict)\n",
    "input_df['age'] = input_df['age'].astype('int64')"
   ]
  },
  {
   "cell_type": "code",
   "execution_count": 9,
   "metadata": {},
   "outputs": [],
   "source": [
    "# convert 2 value categories into binary variables\n",
    "input_df['change'] = input_df['change'].replace('Ch', 1)\n",
    "input_df['change'] = input_df['change'].replace('No', 0)\n",
    "input_df['gender'] = input_df['gender'].replace('Male', 1)\n",
    "input_df['gender'] = input_df['gender'].replace('Female', 0)\n",
    "input_df['diabetesMed'] = input_df['diabetesMed'].replace('Yes', 1)\n",
    "input_df['diabetesMed'] = input_df['diabetesMed'].replace('No', 0)"
   ]
  },
  {
   "cell_type": "code",
   "execution_count": 10,
   "metadata": {},
   "outputs": [],
   "source": [
    "# merge categories to 1 - 2 levels using domain knowledge\n",
    "input_df['A1Cresult'] = input_df['A1Cresult'].replace('>7', 'Abnormal')\n",
    "input_df['A1Cresult'] = input_df['A1Cresult'].replace('>8', 'Abnormal')\n",
    "input_df['A1Cresult'] = input_df['A1Cresult'].replace('Norm', 'Normal')\n",
    "input_df['A1Cresult'] = input_df['A1Cresult'].replace('None', 'Not tested')\n",
    "input_df['max_glu_serum'] = input_df['max_glu_serum'].replace('>200', 'Abnormal')\n",
    "input_df['max_glu_serum'] = input_df['max_glu_serum'].replace('>300', 'Abnormal')\n",
    "input_df['max_glu_serum'] = input_df['max_glu_serum'].replace('Norm', 'Normal')\n",
    "input_df['max_glu_serum'] = input_df['max_glu_serum'].replace('None', 'Not tested')"
   ]
  },
  {
   "cell_type": "code",
   "execution_count": 11,
   "metadata": {},
   "outputs": [],
   "source": [
    "# merge some categories together\n",
    "input_df['admission_type_id'] = input_df['admission_type_id'].replace(2, 1)\n",
    "input_df['admission_type_id'] = input_df['admission_type_id'].replace(7, 1)\n",
    "input_df['admission_type_id'] = input_df['admission_type_id'].replace(6, 5)\n",
    "input_df['admission_type_id'] = input_df['admission_type_id'].replace(8, 5)"
   ]
  },
  {
   "cell_type": "code",
   "execution_count": 12,
   "metadata": {},
   "outputs": [],
   "source": [
    "# convert numerical look-a-likes to string\n",
    "input_df['admission_type_id'] = input_df['admission_type_id'].map(str)\n",
    "input_df['discharge_disposition_id'] = input_df['discharge_disposition_id'].map(str)"
   ]
  },
  {
   "cell_type": "code",
   "execution_count": 13,
   "metadata": {},
   "outputs": [],
   "source": [
    "# remove duplicate patients\n",
    "input_df = input_df.drop_duplicates(subset=['patient_nbr'], keep='first')"
   ]
  },
  {
   "cell_type": "code",
   "execution_count": 14,
   "metadata": {},
   "outputs": [],
   "source": [
    "# drop/remove unnecessary variables\n",
    "input_df.drop(['patient_nbr', 'diag_2', 'diag_3', 'encounter_id', 'admission_source_id'], axis=1, inplace=True)"
   ]
  },
  {
   "cell_type": "code",
   "execution_count": 15,
   "metadata": {},
   "outputs": [],
   "source": [
    "# fill missing value for race\n",
    "input_df['race'].replace(np.nan, 'Missing', inplace=True)"
   ]
  },
  {
   "attachments": {},
   "cell_type": "markdown",
   "metadata": {},
   "source": [
    "## 3. Apply one-hot encoding"
   ]
  },
  {
   "cell_type": "code",
   "execution_count": 16,
   "metadata": {},
   "outputs": [
    {
     "name": "stdout",
     "output_type": "stream",
     "text": [
      "<class 'pandas.core.frame.DataFrame'>\n",
      "Int64Index: 68630 entries, 0 to 98052\n",
      "Columns: 102 entries, age to metformin-pioglitazone_Steady\n",
      "dtypes: int32(1), int64(11), uint8(90)\n",
      "memory usage: 12.4 MB\n"
     ]
    }
   ],
   "source": [
    "# apply one-hot encoding\n",
    "one_hot_list = [col for col in input_df.columns if input_df[col].dtype == 'object']\n",
    "data_preprocess = pd.get_dummies(input_df, columns=one_hot_list, drop_first=True)\n",
    "data_preprocess.info()"
   ]
  },
  {
   "cell_type": "code",
   "execution_count": 17,
   "metadata": {},
   "outputs": [],
   "source": [
    "# save dataframe to csv for future use in part 2\n",
    "data_preprocess.to_csv('diabetes_data_preprocess.csv', index=False)"
   ]
  },
  {
   "attachments": {},
   "cell_type": "markdown",
   "metadata": {},
   "source": [
    "After pre-processing the data we are left with 102 columns (original dataset had 44) and data on 68,630 unique patients (removed duplicate patient data, keeping first entry)."
   ]
  },
  {
   "attachments": {},
   "cell_type": "markdown",
   "metadata": {},
   "source": [
    "## 4. Split Data into Training (70%) and Testing (30%)"
   ]
  },
  {
   "cell_type": "code",
   "execution_count": 18,
   "metadata": {},
   "outputs": [
    {
     "data": {
      "text/plain": [
       "0    28603\n",
       "1    19438\n",
       "Name: readmitted, dtype: int64"
      ]
     },
     "execution_count": 18,
     "metadata": {},
     "output_type": "execute_result"
    }
   ],
   "source": [
    "# split the data into features and target and using random state so that results are reproducible in part 2\n",
    "\n",
    "X = data_preprocess.drop(columns=['readmitted'])\n",
    "y = data_preprocess['readmitted']\n",
    "X_train, X_test, y_train, y_test = train_test_split(X, y, test_size=.3, random_state=42)\n",
    "y_train.value_counts()"
   ]
  },
  {
   "attachments": {},
   "cell_type": "markdown",
   "metadata": {},
   "source": [
    "## 5. Train Model on All Variables to Find Most Important"
   ]
  },
  {
   "attachments": {},
   "cell_type": "markdown",
   "metadata": {},
   "source": [
    "-   Use sklearn.linear_model.LogisticRegression OR discrete.discrete_model\n",
    "-   Use cross validation, parameter tuning (penalty, c) using GridSearchCV\n",
    "-   Select best variables by looking at coefficients of variables and fit model with best variables and best parameters"
   ]
  },
  {
   "cell_type": "code",
   "execution_count": 19,
   "metadata": {},
   "outputs": [
    {
     "name": "stdout",
     "output_type": "stream",
     "text": [
      "Actual Accuracy: 0.5958035844382923\n"
     ]
    }
   ],
   "source": [
    "# specify class_weight='balanced' to account for imbalance in re-admitted and non re-admitted patients\n",
    "clf = LogisticRegression(class_weight='balanced', random_state=42, max_iter=100)\n",
    "clf.fit(X_train, y_train)\n",
    "\n",
    "# predict on the test set\n",
    "y_pred = clf.predict(X_test)\n",
    "\n",
    "# evaluate the accuracy of the model\n",
    "accuracy = accuracy_score(y_test, y_pred)\n",
    "print(\"Actual Accuracy:\", accuracy)"
   ]
  },
  {
   "cell_type": "code",
   "execution_count": 20,
   "metadata": {},
   "outputs": [
    {
     "name": "stdout",
     "output_type": "stream",
     "text": [
      "Fitting 5 folds for each of 14 candidates, totalling 70 fits\n"
     ]
    },
    {
     "data": {
      "text/html": [
       "<style>#sk-container-id-1 {color: black;background-color: white;}#sk-container-id-1 pre{padding: 0;}#sk-container-id-1 div.sk-toggleable {background-color: white;}#sk-container-id-1 label.sk-toggleable__label {cursor: pointer;display: block;width: 100%;margin-bottom: 0;padding: 0.3em;box-sizing: border-box;text-align: center;}#sk-container-id-1 label.sk-toggleable__label-arrow:before {content: \"▸\";float: left;margin-right: 0.25em;color: #696969;}#sk-container-id-1 label.sk-toggleable__label-arrow:hover:before {color: black;}#sk-container-id-1 div.sk-estimator:hover label.sk-toggleable__label-arrow:before {color: black;}#sk-container-id-1 div.sk-toggleable__content {max-height: 0;max-width: 0;overflow: hidden;text-align: left;background-color: #f0f8ff;}#sk-container-id-1 div.sk-toggleable__content pre {margin: 0.2em;color: black;border-radius: 0.25em;background-color: #f0f8ff;}#sk-container-id-1 input.sk-toggleable__control:checked~div.sk-toggleable__content {max-height: 200px;max-width: 100%;overflow: auto;}#sk-container-id-1 input.sk-toggleable__control:checked~label.sk-toggleable__label-arrow:before {content: \"▾\";}#sk-container-id-1 div.sk-estimator input.sk-toggleable__control:checked~label.sk-toggleable__label {background-color: #d4ebff;}#sk-container-id-1 div.sk-label input.sk-toggleable__control:checked~label.sk-toggleable__label {background-color: #d4ebff;}#sk-container-id-1 input.sk-hidden--visually {border: 0;clip: rect(1px 1px 1px 1px);clip: rect(1px, 1px, 1px, 1px);height: 1px;margin: -1px;overflow: hidden;padding: 0;position: absolute;width: 1px;}#sk-container-id-1 div.sk-estimator {font-family: monospace;background-color: #f0f8ff;border: 1px dotted black;border-radius: 0.25em;box-sizing: border-box;margin-bottom: 0.5em;}#sk-container-id-1 div.sk-estimator:hover {background-color: #d4ebff;}#sk-container-id-1 div.sk-parallel-item::after {content: \"\";width: 100%;border-bottom: 1px solid gray;flex-grow: 1;}#sk-container-id-1 div.sk-label:hover label.sk-toggleable__label {background-color: #d4ebff;}#sk-container-id-1 div.sk-serial::before {content: \"\";position: absolute;border-left: 1px solid gray;box-sizing: border-box;top: 0;bottom: 0;left: 50%;z-index: 0;}#sk-container-id-1 div.sk-serial {display: flex;flex-direction: column;align-items: center;background-color: white;padding-right: 0.2em;padding-left: 0.2em;position: relative;}#sk-container-id-1 div.sk-item {position: relative;z-index: 1;}#sk-container-id-1 div.sk-parallel {display: flex;align-items: stretch;justify-content: center;background-color: white;position: relative;}#sk-container-id-1 div.sk-item::before, #sk-container-id-1 div.sk-parallel-item::before {content: \"\";position: absolute;border-left: 1px solid gray;box-sizing: border-box;top: 0;bottom: 0;left: 50%;z-index: -1;}#sk-container-id-1 div.sk-parallel-item {display: flex;flex-direction: column;z-index: 1;position: relative;background-color: white;}#sk-container-id-1 div.sk-parallel-item:first-child::after {align-self: flex-end;width: 50%;}#sk-container-id-1 div.sk-parallel-item:last-child::after {align-self: flex-start;width: 50%;}#sk-container-id-1 div.sk-parallel-item:only-child::after {width: 0;}#sk-container-id-1 div.sk-dashed-wrapped {border: 1px dashed gray;margin: 0 0.4em 0.5em 0.4em;box-sizing: border-box;padding-bottom: 0.4em;background-color: white;}#sk-container-id-1 div.sk-label label {font-family: monospace;font-weight: bold;display: inline-block;line-height: 1.2em;}#sk-container-id-1 div.sk-label-container {text-align: center;}#sk-container-id-1 div.sk-container {/* jupyter's `normalize.less` sets `[hidden] { display: none; }` but bootstrap.min.css set `[hidden] { display: none !important; }` so we also need the `!important` here to be able to override the default hidden behavior on the sphinx rendered scikit-learn.org. See: https://github.com/scikit-learn/scikit-learn/issues/21755 */display: inline-block !important;position: relative;}#sk-container-id-1 div.sk-text-repr-fallback {display: none;}</style><div id=\"sk-container-id-1\" class=\"sk-top-container\"><div class=\"sk-text-repr-fallback\"><pre>GridSearchCV(cv=5,\n",
       "             estimator=LogisticRegression(class_weight=&#x27;balanced&#x27;,\n",
       "                                          random_state=42),\n",
       "             param_grid={&#x27;C&#x27;: [0.001, 0.01, 0.1, 1, 10, 100, 1000],\n",
       "                         &#x27;penalty&#x27;: [&#x27;l1&#x27;, &#x27;l2&#x27;]},\n",
       "             verbose=1)</pre><b>In a Jupyter environment, please rerun this cell to show the HTML representation or trust the notebook. <br />On GitHub, the HTML representation is unable to render, please try loading this page with nbviewer.org.</b></div><div class=\"sk-container\" hidden><div class=\"sk-item sk-dashed-wrapped\"><div class=\"sk-label-container\"><div class=\"sk-label sk-toggleable\"><input class=\"sk-toggleable__control sk-hidden--visually\" id=\"sk-estimator-id-1\" type=\"checkbox\" ><label for=\"sk-estimator-id-1\" class=\"sk-toggleable__label sk-toggleable__label-arrow\">GridSearchCV</label><div class=\"sk-toggleable__content\"><pre>GridSearchCV(cv=5,\n",
       "             estimator=LogisticRegression(class_weight=&#x27;balanced&#x27;,\n",
       "                                          random_state=42),\n",
       "             param_grid={&#x27;C&#x27;: [0.001, 0.01, 0.1, 1, 10, 100, 1000],\n",
       "                         &#x27;penalty&#x27;: [&#x27;l1&#x27;, &#x27;l2&#x27;]},\n",
       "             verbose=1)</pre></div></div></div><div class=\"sk-parallel\"><div class=\"sk-parallel-item\"><div class=\"sk-item\"><div class=\"sk-label-container\"><div class=\"sk-label sk-toggleable\"><input class=\"sk-toggleable__control sk-hidden--visually\" id=\"sk-estimator-id-2\" type=\"checkbox\" ><label for=\"sk-estimator-id-2\" class=\"sk-toggleable__label sk-toggleable__label-arrow\">estimator: LogisticRegression</label><div class=\"sk-toggleable__content\"><pre>LogisticRegression(class_weight=&#x27;balanced&#x27;, random_state=42)</pre></div></div></div><div class=\"sk-serial\"><div class=\"sk-item\"><div class=\"sk-estimator sk-toggleable\"><input class=\"sk-toggleable__control sk-hidden--visually\" id=\"sk-estimator-id-3\" type=\"checkbox\" ><label for=\"sk-estimator-id-3\" class=\"sk-toggleable__label sk-toggleable__label-arrow\">LogisticRegression</label><div class=\"sk-toggleable__content\"><pre>LogisticRegression(class_weight=&#x27;balanced&#x27;, random_state=42)</pre></div></div></div></div></div></div></div></div></div></div>"
      ],
      "text/plain": [
       "GridSearchCV(cv=5,\n",
       "             estimator=LogisticRegression(class_weight='balanced',\n",
       "                                          random_state=42),\n",
       "             param_grid={'C': [0.001, 0.01, 0.1, 1, 10, 100, 1000],\n",
       "                         'penalty': ['l1', 'l2']},\n",
       "             verbose=1)"
      ]
     },
     "execution_count": 20,
     "metadata": {},
     "output_type": "execute_result"
    }
   ],
   "source": [
    "# run grid search cross validation to find best regularization hyper-parameters\n",
    "param_map = {\n",
    "             'penalty': ['l1', 'l2'],\n",
    "             'C':[0.001, 0.01, 0.1, 1, 10, 100, 1000]\n",
    "            }\n",
    "\n",
    "clf_gs = GridSearchCV(clf, param_grid=param_map, cv=5, verbose=1)\n",
    "clf_gs.fit(X_train, y_train)"
   ]
  },
  {
   "cell_type": "code",
   "execution_count": 21,
   "metadata": {},
   "outputs": [
    {
     "data": {
      "text/html": [
       "<div>\n",
       "<style scoped>\n",
       "    .dataframe tbody tr th:only-of-type {\n",
       "        vertical-align: middle;\n",
       "    }\n",
       "\n",
       "    .dataframe tbody tr th {\n",
       "        vertical-align: top;\n",
       "    }\n",
       "\n",
       "    .dataframe thead th {\n",
       "        text-align: right;\n",
       "    }\n",
       "</style>\n",
       "<table border=\"1\" class=\"dataframe\">\n",
       "  <thead>\n",
       "    <tr style=\"text-align: right;\">\n",
       "      <th></th>\n",
       "      <th>rank_test_score</th>\n",
       "      <th>param_C</th>\n",
       "      <th>param_penalty</th>\n",
       "      <th>mean_test_score</th>\n",
       "      <th>std_test_score</th>\n",
       "    </tr>\n",
       "  </thead>\n",
       "  <tbody>\n",
       "    <tr>\n",
       "      <th>9</th>\n",
       "      <td>1</td>\n",
       "      <td>10</td>\n",
       "      <td>l2</td>\n",
       "      <td>0.603110</td>\n",
       "      <td>0.004461</td>\n",
       "    </tr>\n",
       "    <tr>\n",
       "      <th>11</th>\n",
       "      <td>2</td>\n",
       "      <td>100</td>\n",
       "      <td>l2</td>\n",
       "      <td>0.602569</td>\n",
       "      <td>0.005351</td>\n",
       "    </tr>\n",
       "    <tr>\n",
       "      <th>5</th>\n",
       "      <td>3</td>\n",
       "      <td>0.1</td>\n",
       "      <td>l2</td>\n",
       "      <td>0.601924</td>\n",
       "      <td>0.005527</td>\n",
       "    </tr>\n",
       "    <tr>\n",
       "      <th>7</th>\n",
       "      <td>4</td>\n",
       "      <td>1</td>\n",
       "      <td>l2</td>\n",
       "      <td>0.600654</td>\n",
       "      <td>0.004312</td>\n",
       "    </tr>\n",
       "    <tr>\n",
       "      <th>13</th>\n",
       "      <td>5</td>\n",
       "      <td>1000</td>\n",
       "      <td>l2</td>\n",
       "      <td>0.600466</td>\n",
       "      <td>0.004244</td>\n",
       "    </tr>\n",
       "    <tr>\n",
       "      <th>3</th>\n",
       "      <td>6</td>\n",
       "      <td>0.01</td>\n",
       "      <td>l2</td>\n",
       "      <td>0.599155</td>\n",
       "      <td>0.003394</td>\n",
       "    </tr>\n",
       "    <tr>\n",
       "      <th>1</th>\n",
       "      <td>7</td>\n",
       "      <td>0.001</td>\n",
       "      <td>l2</td>\n",
       "      <td>0.595096</td>\n",
       "      <td>0.002276</td>\n",
       "    </tr>\n",
       "    <tr>\n",
       "      <th>0</th>\n",
       "      <td>8</td>\n",
       "      <td>0.001</td>\n",
       "      <td>l1</td>\n",
       "      <td>NaN</td>\n",
       "      <td>NaN</td>\n",
       "    </tr>\n",
       "    <tr>\n",
       "      <th>2</th>\n",
       "      <td>8</td>\n",
       "      <td>0.01</td>\n",
       "      <td>l1</td>\n",
       "      <td>NaN</td>\n",
       "      <td>NaN</td>\n",
       "    </tr>\n",
       "    <tr>\n",
       "      <th>4</th>\n",
       "      <td>8</td>\n",
       "      <td>0.1</td>\n",
       "      <td>l1</td>\n",
       "      <td>NaN</td>\n",
       "      <td>NaN</td>\n",
       "    </tr>\n",
       "    <tr>\n",
       "      <th>6</th>\n",
       "      <td>8</td>\n",
       "      <td>1</td>\n",
       "      <td>l1</td>\n",
       "      <td>NaN</td>\n",
       "      <td>NaN</td>\n",
       "    </tr>\n",
       "    <tr>\n",
       "      <th>8</th>\n",
       "      <td>8</td>\n",
       "      <td>10</td>\n",
       "      <td>l1</td>\n",
       "      <td>NaN</td>\n",
       "      <td>NaN</td>\n",
       "    </tr>\n",
       "    <tr>\n",
       "      <th>10</th>\n",
       "      <td>8</td>\n",
       "      <td>100</td>\n",
       "      <td>l1</td>\n",
       "      <td>NaN</td>\n",
       "      <td>NaN</td>\n",
       "    </tr>\n",
       "    <tr>\n",
       "      <th>12</th>\n",
       "      <td>8</td>\n",
       "      <td>1000</td>\n",
       "      <td>l1</td>\n",
       "      <td>NaN</td>\n",
       "      <td>NaN</td>\n",
       "    </tr>\n",
       "  </tbody>\n",
       "</table>\n",
       "</div>"
      ],
      "text/plain": [
       "    rank_test_score param_C param_penalty  mean_test_score  std_test_score\n",
       "9                 1      10            l2         0.603110        0.004461\n",
       "11                2     100            l2         0.602569        0.005351\n",
       "5                 3     0.1            l2         0.601924        0.005527\n",
       "7                 4       1            l2         0.600654        0.004312\n",
       "13                5    1000            l2         0.600466        0.004244\n",
       "3                 6    0.01            l2         0.599155        0.003394\n",
       "1                 7   0.001            l2         0.595096        0.002276\n",
       "0                 8   0.001            l1              NaN             NaN\n",
       "2                 8    0.01            l1              NaN             NaN\n",
       "4                 8     0.1            l1              NaN             NaN\n",
       "6                 8       1            l1              NaN             NaN\n",
       "8                 8      10            l1              NaN             NaN\n",
       "10                8     100            l1              NaN             NaN\n",
       "12                8    1000            l1              NaN             NaN"
      ]
     },
     "execution_count": 21,
     "metadata": {},
     "output_type": "execute_result"
    }
   ],
   "source": [
    "pd.DataFrame(clf_gs.cv_results_, \n",
    "columns=[\"rank_test_score\", \"param_C\", \"param_penalty\", \"mean_test_score\", \"std_test_score\"]).sort_values(by=['rank_test_score'])"
   ]
  },
  {
   "cell_type": "code",
   "execution_count": 22,
   "metadata": {},
   "outputs": [
    {
     "data": {
      "text/plain": [
       "{'C': 10, 'penalty': 'l2'}"
      ]
     },
     "execution_count": 22,
     "metadata": {},
     "output_type": "execute_result"
    }
   ],
   "source": [
    "# identify best hyper-parameters\n",
    "best_penalty = clf_gs.best_params_['penalty']\n",
    "best_c = clf_gs.best_params_['C']\n",
    "clf_gs.best_params_"
   ]
  },
  {
   "cell_type": "code",
   "execution_count": 23,
   "metadata": {},
   "outputs": [
    {
     "data": {
      "text/html": [
       "<div>\n",
       "<style scoped>\n",
       "    .dataframe tbody tr th:only-of-type {\n",
       "        vertical-align: middle;\n",
       "    }\n",
       "\n",
       "    .dataframe tbody tr th {\n",
       "        vertical-align: top;\n",
       "    }\n",
       "\n",
       "    .dataframe thead th {\n",
       "        text-align: right;\n",
       "    }\n",
       "</style>\n",
       "<table border=\"1\" class=\"dataframe\">\n",
       "  <thead>\n",
       "    <tr style=\"text-align: right;\">\n",
       "      <th></th>\n",
       "      <th>Variable</th>\n",
       "      <th>Coefficient</th>\n",
       "      <th>Abs Coefficient</th>\n",
       "    </tr>\n",
       "  </thead>\n",
       "  <tbody>\n",
       "    <tr>\n",
       "      <th>7</th>\n",
       "      <td>number_inpatient</td>\n",
       "      <td>0.531321</td>\n",
       "      <td>0.531321</td>\n",
       "    </tr>\n",
       "    <tr>\n",
       "      <th>21</th>\n",
       "      <td>discharge_disposition_id_11</td>\n",
       "      <td>-0.408437</td>\n",
       "      <td>0.408437</td>\n",
       "    </tr>\n",
       "    <tr>\n",
       "      <th>6</th>\n",
       "      <td>number_emergency</td>\n",
       "      <td>0.287973</td>\n",
       "      <td>0.287973</td>\n",
       "    </tr>\n",
       "    <tr>\n",
       "      <th>10</th>\n",
       "      <td>diabetesMed</td>\n",
       "      <td>0.239733</td>\n",
       "      <td>0.239733</td>\n",
       "    </tr>\n",
       "    <tr>\n",
       "      <th>19</th>\n",
       "      <td>admission_type_id_5</td>\n",
       "      <td>0.232537</td>\n",
       "      <td>0.232537</td>\n",
       "    </tr>\n",
       "    <tr>\n",
       "      <th>41</th>\n",
       "      <td>discharge_disposition_id_6</td>\n",
       "      <td>0.201559</td>\n",
       "      <td>0.201559</td>\n",
       "    </tr>\n",
       "    <tr>\n",
       "      <th>50</th>\n",
       "      <td>diag_1_Neoplasms</td>\n",
       "      <td>-0.176857</td>\n",
       "      <td>0.176857</td>\n",
       "    </tr>\n",
       "    <tr>\n",
       "      <th>94</th>\n",
       "      <td>insulin_Steady</td>\n",
       "      <td>-0.156403</td>\n",
       "      <td>0.156403</td>\n",
       "    </tr>\n",
       "    <tr>\n",
       "      <th>17</th>\n",
       "      <td>admission_type_id_3</td>\n",
       "      <td>-0.155221</td>\n",
       "      <td>0.155221</td>\n",
       "    </tr>\n",
       "    <tr>\n",
       "      <th>83</th>\n",
       "      <td>rosiglitazone_No</td>\n",
       "      <td>-0.135569</td>\n",
       "      <td>0.135569</td>\n",
       "    </tr>\n",
       "    <tr>\n",
       "      <th>73</th>\n",
       "      <td>glipizide_No</td>\n",
       "      <td>-0.125725</td>\n",
       "      <td>0.125725</td>\n",
       "    </tr>\n",
       "    <tr>\n",
       "      <th>56</th>\n",
       "      <td>A1Cresult_Not tested</td>\n",
       "      <td>0.116684</td>\n",
       "      <td>0.116684</td>\n",
       "    </tr>\n",
       "    <tr>\n",
       "      <th>55</th>\n",
       "      <td>A1Cresult_Normal</td>\n",
       "      <td>-0.113764</td>\n",
       "      <td>0.113764</td>\n",
       "    </tr>\n",
       "    <tr>\n",
       "      <th>60</th>\n",
       "      <td>repaglinide_No</td>\n",
       "      <td>-0.113620</td>\n",
       "      <td>0.113620</td>\n",
       "    </tr>\n",
       "    <tr>\n",
       "      <th>32</th>\n",
       "      <td>discharge_disposition_id_22</td>\n",
       "      <td>0.112655</td>\n",
       "      <td>0.112655</td>\n",
       "    </tr>\n",
       "    <tr>\n",
       "      <th>48</th>\n",
       "      <td>diag_1_Injury</td>\n",
       "      <td>-0.102069</td>\n",
       "      <td>0.102069</td>\n",
       "    </tr>\n",
       "    <tr>\n",
       "      <th>12</th>\n",
       "      <td>race_Caucasian</td>\n",
       "      <td>0.097004</td>\n",
       "      <td>0.097004</td>\n",
       "    </tr>\n",
       "    <tr>\n",
       "      <th>80</th>\n",
       "      <td>pioglitazone_No</td>\n",
       "      <td>-0.090553</td>\n",
       "      <td>0.090553</td>\n",
       "    </tr>\n",
       "    <tr>\n",
       "      <th>23</th>\n",
       "      <td>discharge_disposition_id_13</td>\n",
       "      <td>-0.090021</td>\n",
       "      <td>0.090021</td>\n",
       "    </tr>\n",
       "    <tr>\n",
       "      <th>47</th>\n",
       "      <td>diag_1_Genitourinary</td>\n",
       "      <td>-0.088748</td>\n",
       "      <td>0.088748</td>\n",
       "    </tr>\n",
       "    <tr>\n",
       "      <th>58</th>\n",
       "      <td>metformin_Steady</td>\n",
       "      <td>-0.083551</td>\n",
       "      <td>0.083551</td>\n",
       "    </tr>\n",
       "    <tr>\n",
       "      <th>84</th>\n",
       "      <td>rosiglitazone_Steady</td>\n",
       "      <td>0.083353</td>\n",
       "      <td>0.083353</td>\n",
       "    </tr>\n",
       "    <tr>\n",
       "      <th>96</th>\n",
       "      <td>glyburide-metformin_No</td>\n",
       "      <td>-0.082985</td>\n",
       "      <td>0.082985</td>\n",
       "    </tr>\n",
       "    <tr>\n",
       "      <th>88</th>\n",
       "      <td>miglitol_No</td>\n",
       "      <td>-0.082639</td>\n",
       "      <td>0.082639</td>\n",
       "    </tr>\n",
       "    <tr>\n",
       "      <th>63</th>\n",
       "      <td>nateglinide_No</td>\n",
       "      <td>-0.080818</td>\n",
       "      <td>0.080818</td>\n",
       "    </tr>\n",
       "    <tr>\n",
       "      <th>76</th>\n",
       "      <td>glyburide_No</td>\n",
       "      <td>-0.080048</td>\n",
       "      <td>0.080048</td>\n",
       "    </tr>\n",
       "    <tr>\n",
       "      <th>24</th>\n",
       "      <td>discharge_disposition_id_14</td>\n",
       "      <td>-0.076807</td>\n",
       "      <td>0.076807</td>\n",
       "    </tr>\n",
       "    <tr>\n",
       "      <th>66</th>\n",
       "      <td>chlorpropamide_No</td>\n",
       "      <td>-0.076776</td>\n",
       "      <td>0.076776</td>\n",
       "    </tr>\n",
       "    <tr>\n",
       "      <th>5</th>\n",
       "      <td>number_outpatient</td>\n",
       "      <td>0.075587</td>\n",
       "      <td>0.075587</td>\n",
       "    </tr>\n",
       "    <tr>\n",
       "      <th>54</th>\n",
       "      <td>max_glu_serum_Not tested</td>\n",
       "      <td>-0.066158</td>\n",
       "      <td>0.066158</td>\n",
       "    </tr>\n",
       "    <tr>\n",
       "      <th>57</th>\n",
       "      <td>metformin_No</td>\n",
       "      <td>0.063495</td>\n",
       "      <td>0.063495</td>\n",
       "    </tr>\n",
       "    <tr>\n",
       "      <th>14</th>\n",
       "      <td>race_Other</td>\n",
       "      <td>-0.061265</td>\n",
       "      <td>0.061265</td>\n",
       "    </tr>\n",
       "    <tr>\n",
       "      <th>15</th>\n",
       "      <td>gender_1</td>\n",
       "      <td>-0.057009</td>\n",
       "      <td>0.057009</td>\n",
       "    </tr>\n",
       "    <tr>\n",
       "      <th>49</th>\n",
       "      <td>diag_1_Musculoskeletal</td>\n",
       "      <td>-0.055965</td>\n",
       "      <td>0.055965</td>\n",
       "    </tr>\n",
       "    <tr>\n",
       "      <th>40</th>\n",
       "      <td>discharge_disposition_id_5</td>\n",
       "      <td>0.055097</td>\n",
       "      <td>0.055097</td>\n",
       "    </tr>\n",
       "    <tr>\n",
       "      <th>28</th>\n",
       "      <td>discharge_disposition_id_18</td>\n",
       "      <td>-0.053633</td>\n",
       "      <td>0.053633</td>\n",
       "    </tr>\n",
       "    <tr>\n",
       "      <th>69</th>\n",
       "      <td>glimepiride_No</td>\n",
       "      <td>-0.053230</td>\n",
       "      <td>0.053230</td>\n",
       "    </tr>\n",
       "    <tr>\n",
       "      <th>8</th>\n",
       "      <td>number_diagnoses</td>\n",
       "      <td>0.052040</td>\n",
       "      <td>0.052040</td>\n",
       "    </tr>\n",
       "    <tr>\n",
       "      <th>13</th>\n",
       "      <td>race_Hispanic</td>\n",
       "      <td>-0.050852</td>\n",
       "      <td>0.050852</td>\n",
       "    </tr>\n",
       "    <tr>\n",
       "      <th>93</th>\n",
       "      <td>insulin_No</td>\n",
       "      <td>-0.050230</td>\n",
       "      <td>0.050230</td>\n",
       "    </tr>\n",
       "    <tr>\n",
       "      <th>61</th>\n",
       "      <td>repaglinide_Steady</td>\n",
       "      <td>0.043689</td>\n",
       "      <td>0.043689</td>\n",
       "    </tr>\n",
       "    <tr>\n",
       "      <th>9</th>\n",
       "      <td>change</td>\n",
       "      <td>-0.043394</td>\n",
       "      <td>0.043394</td>\n",
       "    </tr>\n",
       "    <tr>\n",
       "      <th>11</th>\n",
       "      <td>race_Asian</td>\n",
       "      <td>-0.038930</td>\n",
       "      <td>0.038930</td>\n",
       "    </tr>\n",
       "    <tr>\n",
       "      <th>1</th>\n",
       "      <td>time_in_hospital</td>\n",
       "      <td>0.037542</td>\n",
       "      <td>0.037542</td>\n",
       "    </tr>\n",
       "    <tr>\n",
       "      <th>59</th>\n",
       "      <td>metformin_Up</td>\n",
       "      <td>-0.036899</td>\n",
       "      <td>0.036899</td>\n",
       "    </tr>\n",
       "    <tr>\n",
       "      <th>46</th>\n",
       "      <td>diag_1_Digestive</td>\n",
       "      <td>-0.033448</td>\n",
       "      <td>0.033448</td>\n",
       "    </tr>\n",
       "    <tr>\n",
       "      <th>53</th>\n",
       "      <td>max_glu_serum_Normal</td>\n",
       "      <td>-0.032044</td>\n",
       "      <td>0.032044</td>\n",
       "    </tr>\n",
       "    <tr>\n",
       "      <th>74</th>\n",
       "      <td>glipizide_Steady</td>\n",
       "      <td>0.031343</td>\n",
       "      <td>0.031343</td>\n",
       "    </tr>\n",
       "    <tr>\n",
       "      <th>51</th>\n",
       "      <td>diag_1_Other</td>\n",
       "      <td>-0.030277</td>\n",
       "      <td>0.030277</td>\n",
       "    </tr>\n",
       "    <tr>\n",
       "      <th>35</th>\n",
       "      <td>discharge_disposition_id_25</td>\n",
       "      <td>0.028165</td>\n",
       "      <td>0.028165</td>\n",
       "    </tr>\n",
       "  </tbody>\n",
       "</table>\n",
       "</div>"
      ],
      "text/plain": [
       "                       Variable  Coefficient  Abs Coefficient\n",
       "7              number_inpatient     0.531321         0.531321\n",
       "21  discharge_disposition_id_11    -0.408437         0.408437\n",
       "6              number_emergency     0.287973         0.287973\n",
       "10                  diabetesMed     0.239733         0.239733\n",
       "19          admission_type_id_5     0.232537         0.232537\n",
       "41   discharge_disposition_id_6     0.201559         0.201559\n",
       "50             diag_1_Neoplasms    -0.176857         0.176857\n",
       "94               insulin_Steady    -0.156403         0.156403\n",
       "17          admission_type_id_3    -0.155221         0.155221\n",
       "83             rosiglitazone_No    -0.135569         0.135569\n",
       "73                 glipizide_No    -0.125725         0.125725\n",
       "56         A1Cresult_Not tested     0.116684         0.116684\n",
       "55             A1Cresult_Normal    -0.113764         0.113764\n",
       "60               repaglinide_No    -0.113620         0.113620\n",
       "32  discharge_disposition_id_22     0.112655         0.112655\n",
       "48                diag_1_Injury    -0.102069         0.102069\n",
       "12               race_Caucasian     0.097004         0.097004\n",
       "80              pioglitazone_No    -0.090553         0.090553\n",
       "23  discharge_disposition_id_13    -0.090021         0.090021\n",
       "47         diag_1_Genitourinary    -0.088748         0.088748\n",
       "58             metformin_Steady    -0.083551         0.083551\n",
       "84         rosiglitazone_Steady     0.083353         0.083353\n",
       "96       glyburide-metformin_No    -0.082985         0.082985\n",
       "88                  miglitol_No    -0.082639         0.082639\n",
       "63               nateglinide_No    -0.080818         0.080818\n",
       "76                 glyburide_No    -0.080048         0.080048\n",
       "24  discharge_disposition_id_14    -0.076807         0.076807\n",
       "66            chlorpropamide_No    -0.076776         0.076776\n",
       "5             number_outpatient     0.075587         0.075587\n",
       "54     max_glu_serum_Not tested    -0.066158         0.066158\n",
       "57                 metformin_No     0.063495         0.063495\n",
       "14                   race_Other    -0.061265         0.061265\n",
       "15                     gender_1    -0.057009         0.057009\n",
       "49       diag_1_Musculoskeletal    -0.055965         0.055965\n",
       "40   discharge_disposition_id_5     0.055097         0.055097\n",
       "28  discharge_disposition_id_18    -0.053633         0.053633\n",
       "69               glimepiride_No    -0.053230         0.053230\n",
       "8              number_diagnoses     0.052040         0.052040\n",
       "13                race_Hispanic    -0.050852         0.050852\n",
       "93                   insulin_No    -0.050230         0.050230\n",
       "61           repaglinide_Steady     0.043689         0.043689\n",
       "9                        change    -0.043394         0.043394\n",
       "11                   race_Asian    -0.038930         0.038930\n",
       "1              time_in_hospital     0.037542         0.037542\n",
       "59                 metformin_Up    -0.036899         0.036899\n",
       "46             diag_1_Digestive    -0.033448         0.033448\n",
       "53         max_glu_serum_Normal    -0.032044         0.032044\n",
       "74             glipizide_Steady     0.031343         0.031343\n",
       "51                 diag_1_Other    -0.030277         0.030277\n",
       "35  discharge_disposition_id_25     0.028165         0.028165"
      ]
     },
     "execution_count": 23,
     "metadata": {},
     "output_type": "execute_result"
    }
   ],
   "source": [
    "# use the best estimator from the cross validation to identify the most important features based on their coefficients\n",
    "best_model = clf_gs.best_estimator_\n",
    "coef_df = pd.DataFrame({'Variable': X_train.columns, 'Coefficient': best_model.coef_.flatten()})\n",
    "coef_df['Abs Coefficient'] = abs(coef_df['Coefficient'])\n",
    "sorted_coef_df = coef_df.sort_values(by='Abs Coefficient', ascending=False)\n",
    "sorted_coef_df.head(50)"
   ]
  },
  {
   "cell_type": "code",
   "execution_count": 24,
   "metadata": {},
   "outputs": [
    {
     "data": {
      "text/html": [
       "<div>\n",
       "<style scoped>\n",
       "    .dataframe tbody tr th:only-of-type {\n",
       "        vertical-align: middle;\n",
       "    }\n",
       "\n",
       "    .dataframe tbody tr th {\n",
       "        vertical-align: top;\n",
       "    }\n",
       "\n",
       "    .dataframe thead th {\n",
       "        text-align: right;\n",
       "    }\n",
       "</style>\n",
       "<table border=\"1\" class=\"dataframe\">\n",
       "  <thead>\n",
       "    <tr style=\"text-align: right;\">\n",
       "      <th></th>\n",
       "      <th>number_inpatient</th>\n",
       "      <th>discharge_disposition_id_11</th>\n",
       "      <th>number_emergency</th>\n",
       "      <th>diabetesMed</th>\n",
       "      <th>admission_type_id_5</th>\n",
       "      <th>discharge_disposition_id_6</th>\n",
       "      <th>diag_1_Neoplasms</th>\n",
       "      <th>insulin_Steady</th>\n",
       "      <th>admission_type_id_3</th>\n",
       "      <th>rosiglitazone_No</th>\n",
       "      <th>...</th>\n",
       "      <th>metformin_No</th>\n",
       "      <th>race_Other</th>\n",
       "      <th>gender_1</th>\n",
       "      <th>diag_1_Musculoskeletal</th>\n",
       "      <th>discharge_disposition_id_5</th>\n",
       "      <th>discharge_disposition_id_18</th>\n",
       "      <th>glimepiride_No</th>\n",
       "      <th>number_diagnoses</th>\n",
       "      <th>race_Hispanic</th>\n",
       "      <th>insulin_No</th>\n",
       "    </tr>\n",
       "  </thead>\n",
       "  <tbody>\n",
       "    <tr>\n",
       "      <th>44949</th>\n",
       "      <td>0</td>\n",
       "      <td>0</td>\n",
       "      <td>0</td>\n",
       "      <td>0</td>\n",
       "      <td>0</td>\n",
       "      <td>0</td>\n",
       "      <td>0</td>\n",
       "      <td>0</td>\n",
       "      <td>0</td>\n",
       "      <td>1</td>\n",
       "      <td>...</td>\n",
       "      <td>1</td>\n",
       "      <td>0</td>\n",
       "      <td>1</td>\n",
       "      <td>0</td>\n",
       "      <td>0</td>\n",
       "      <td>0</td>\n",
       "      <td>1</td>\n",
       "      <td>9</td>\n",
       "      <td>0</td>\n",
       "      <td>1</td>\n",
       "    </tr>\n",
       "    <tr>\n",
       "      <th>75798</th>\n",
       "      <td>0</td>\n",
       "      <td>0</td>\n",
       "      <td>1</td>\n",
       "      <td>1</td>\n",
       "      <td>0</td>\n",
       "      <td>1</td>\n",
       "      <td>0</td>\n",
       "      <td>0</td>\n",
       "      <td>0</td>\n",
       "      <td>1</td>\n",
       "      <td>...</td>\n",
       "      <td>1</td>\n",
       "      <td>0</td>\n",
       "      <td>1</td>\n",
       "      <td>0</td>\n",
       "      <td>0</td>\n",
       "      <td>0</td>\n",
       "      <td>1</td>\n",
       "      <td>9</td>\n",
       "      <td>0</td>\n",
       "      <td>1</td>\n",
       "    </tr>\n",
       "    <tr>\n",
       "      <th>10604</th>\n",
       "      <td>0</td>\n",
       "      <td>0</td>\n",
       "      <td>0</td>\n",
       "      <td>1</td>\n",
       "      <td>0</td>\n",
       "      <td>0</td>\n",
       "      <td>0</td>\n",
       "      <td>1</td>\n",
       "      <td>0</td>\n",
       "      <td>1</td>\n",
       "      <td>...</td>\n",
       "      <td>1</td>\n",
       "      <td>0</td>\n",
       "      <td>1</td>\n",
       "      <td>0</td>\n",
       "      <td>0</td>\n",
       "      <td>0</td>\n",
       "      <td>1</td>\n",
       "      <td>6</td>\n",
       "      <td>0</td>\n",
       "      <td>0</td>\n",
       "    </tr>\n",
       "    <tr>\n",
       "      <th>2883</th>\n",
       "      <td>0</td>\n",
       "      <td>0</td>\n",
       "      <td>0</td>\n",
       "      <td>1</td>\n",
       "      <td>0</td>\n",
       "      <td>0</td>\n",
       "      <td>0</td>\n",
       "      <td>1</td>\n",
       "      <td>1</td>\n",
       "      <td>1</td>\n",
       "      <td>...</td>\n",
       "      <td>1</td>\n",
       "      <td>0</td>\n",
       "      <td>1</td>\n",
       "      <td>0</td>\n",
       "      <td>0</td>\n",
       "      <td>0</td>\n",
       "      <td>1</td>\n",
       "      <td>9</td>\n",
       "      <td>0</td>\n",
       "      <td>0</td>\n",
       "    </tr>\n",
       "    <tr>\n",
       "      <th>1297</th>\n",
       "      <td>1</td>\n",
       "      <td>0</td>\n",
       "      <td>0</td>\n",
       "      <td>1</td>\n",
       "      <td>0</td>\n",
       "      <td>0</td>\n",
       "      <td>0</td>\n",
       "      <td>1</td>\n",
       "      <td>0</td>\n",
       "      <td>1</td>\n",
       "      <td>...</td>\n",
       "      <td>1</td>\n",
       "      <td>0</td>\n",
       "      <td>0</td>\n",
       "      <td>0</td>\n",
       "      <td>0</td>\n",
       "      <td>0</td>\n",
       "      <td>1</td>\n",
       "      <td>4</td>\n",
       "      <td>0</td>\n",
       "      <td>0</td>\n",
       "    </tr>\n",
       "    <tr>\n",
       "      <th>...</th>\n",
       "      <td>...</td>\n",
       "      <td>...</td>\n",
       "      <td>...</td>\n",
       "      <td>...</td>\n",
       "      <td>...</td>\n",
       "      <td>...</td>\n",
       "      <td>...</td>\n",
       "      <td>...</td>\n",
       "      <td>...</td>\n",
       "      <td>...</td>\n",
       "      <td>...</td>\n",
       "      <td>...</td>\n",
       "      <td>...</td>\n",
       "      <td>...</td>\n",
       "      <td>...</td>\n",
       "      <td>...</td>\n",
       "      <td>...</td>\n",
       "      <td>...</td>\n",
       "      <td>...</td>\n",
       "      <td>...</td>\n",
       "      <td>...</td>\n",
       "    </tr>\n",
       "    <tr>\n",
       "      <th>48815</th>\n",
       "      <td>0</td>\n",
       "      <td>0</td>\n",
       "      <td>0</td>\n",
       "      <td>1</td>\n",
       "      <td>0</td>\n",
       "      <td>0</td>\n",
       "      <td>0</td>\n",
       "      <td>0</td>\n",
       "      <td>0</td>\n",
       "      <td>1</td>\n",
       "      <td>...</td>\n",
       "      <td>1</td>\n",
       "      <td>0</td>\n",
       "      <td>1</td>\n",
       "      <td>0</td>\n",
       "      <td>0</td>\n",
       "      <td>0</td>\n",
       "      <td>1</td>\n",
       "      <td>8</td>\n",
       "      <td>0</td>\n",
       "      <td>0</td>\n",
       "    </tr>\n",
       "    <tr>\n",
       "      <th>7575</th>\n",
       "      <td>0</td>\n",
       "      <td>0</td>\n",
       "      <td>0</td>\n",
       "      <td>0</td>\n",
       "      <td>0</td>\n",
       "      <td>0</td>\n",
       "      <td>0</td>\n",
       "      <td>0</td>\n",
       "      <td>1</td>\n",
       "      <td>1</td>\n",
       "      <td>...</td>\n",
       "      <td>1</td>\n",
       "      <td>0</td>\n",
       "      <td>0</td>\n",
       "      <td>0</td>\n",
       "      <td>0</td>\n",
       "      <td>0</td>\n",
       "      <td>1</td>\n",
       "      <td>3</td>\n",
       "      <td>1</td>\n",
       "      <td>1</td>\n",
       "    </tr>\n",
       "    <tr>\n",
       "      <th>75919</th>\n",
       "      <td>0</td>\n",
       "      <td>0</td>\n",
       "      <td>0</td>\n",
       "      <td>0</td>\n",
       "      <td>0</td>\n",
       "      <td>0</td>\n",
       "      <td>0</td>\n",
       "      <td>0</td>\n",
       "      <td>0</td>\n",
       "      <td>1</td>\n",
       "      <td>...</td>\n",
       "      <td>1</td>\n",
       "      <td>0</td>\n",
       "      <td>1</td>\n",
       "      <td>0</td>\n",
       "      <td>0</td>\n",
       "      <td>0</td>\n",
       "      <td>1</td>\n",
       "      <td>8</td>\n",
       "      <td>0</td>\n",
       "      <td>1</td>\n",
       "    </tr>\n",
       "    <tr>\n",
       "      <th>916</th>\n",
       "      <td>0</td>\n",
       "      <td>0</td>\n",
       "      <td>0</td>\n",
       "      <td>1</td>\n",
       "      <td>1</td>\n",
       "      <td>0</td>\n",
       "      <td>0</td>\n",
       "      <td>0</td>\n",
       "      <td>0</td>\n",
       "      <td>1</td>\n",
       "      <td>...</td>\n",
       "      <td>1</td>\n",
       "      <td>0</td>\n",
       "      <td>1</td>\n",
       "      <td>0</td>\n",
       "      <td>0</td>\n",
       "      <td>0</td>\n",
       "      <td>0</td>\n",
       "      <td>8</td>\n",
       "      <td>0</td>\n",
       "      <td>1</td>\n",
       "    </tr>\n",
       "    <tr>\n",
       "      <th>21009</th>\n",
       "      <td>0</td>\n",
       "      <td>0</td>\n",
       "      <td>0</td>\n",
       "      <td>1</td>\n",
       "      <td>0</td>\n",
       "      <td>0</td>\n",
       "      <td>0</td>\n",
       "      <td>1</td>\n",
       "      <td>0</td>\n",
       "      <td>1</td>\n",
       "      <td>...</td>\n",
       "      <td>1</td>\n",
       "      <td>0</td>\n",
       "      <td>1</td>\n",
       "      <td>0</td>\n",
       "      <td>0</td>\n",
       "      <td>0</td>\n",
       "      <td>1</td>\n",
       "      <td>9</td>\n",
       "      <td>0</td>\n",
       "      <td>0</td>\n",
       "    </tr>\n",
       "  </tbody>\n",
       "</table>\n",
       "<p>48041 rows × 40 columns</p>\n",
       "</div>"
      ],
      "text/plain": [
       "       number_inpatient  discharge_disposition_id_11  number_emergency  \\\n",
       "44949                 0                            0                 0   \n",
       "75798                 0                            0                 1   \n",
       "10604                 0                            0                 0   \n",
       "2883                  0                            0                 0   \n",
       "1297                  1                            0                 0   \n",
       "...                 ...                          ...               ...   \n",
       "48815                 0                            0                 0   \n",
       "7575                  0                            0                 0   \n",
       "75919                 0                            0                 0   \n",
       "916                   0                            0                 0   \n",
       "21009                 0                            0                 0   \n",
       "\n",
       "       diabetesMed  admission_type_id_5  discharge_disposition_id_6  \\\n",
       "44949            0                    0                           0   \n",
       "75798            1                    0                           1   \n",
       "10604            1                    0                           0   \n",
       "2883             1                    0                           0   \n",
       "1297             1                    0                           0   \n",
       "...            ...                  ...                         ...   \n",
       "48815            1                    0                           0   \n",
       "7575             0                    0                           0   \n",
       "75919            0                    0                           0   \n",
       "916              1                    1                           0   \n",
       "21009            1                    0                           0   \n",
       "\n",
       "       diag_1_Neoplasms  insulin_Steady  admission_type_id_3  \\\n",
       "44949                 0               0                    0   \n",
       "75798                 0               0                    0   \n",
       "10604                 0               1                    0   \n",
       "2883                  0               1                    1   \n",
       "1297                  0               1                    0   \n",
       "...                 ...             ...                  ...   \n",
       "48815                 0               0                    0   \n",
       "7575                  0               0                    1   \n",
       "75919                 0               0                    0   \n",
       "916                   0               0                    0   \n",
       "21009                 0               1                    0   \n",
       "\n",
       "       rosiglitazone_No  ...  metformin_No  race_Other  gender_1  \\\n",
       "44949                 1  ...             1           0         1   \n",
       "75798                 1  ...             1           0         1   \n",
       "10604                 1  ...             1           0         1   \n",
       "2883                  1  ...             1           0         1   \n",
       "1297                  1  ...             1           0         0   \n",
       "...                 ...  ...           ...         ...       ...   \n",
       "48815                 1  ...             1           0         1   \n",
       "7575                  1  ...             1           0         0   \n",
       "75919                 1  ...             1           0         1   \n",
       "916                   1  ...             1           0         1   \n",
       "21009                 1  ...             1           0         1   \n",
       "\n",
       "       diag_1_Musculoskeletal  discharge_disposition_id_5  \\\n",
       "44949                       0                           0   \n",
       "75798                       0                           0   \n",
       "10604                       0                           0   \n",
       "2883                        0                           0   \n",
       "1297                        0                           0   \n",
       "...                       ...                         ...   \n",
       "48815                       0                           0   \n",
       "7575                        0                           0   \n",
       "75919                       0                           0   \n",
       "916                         0                           0   \n",
       "21009                       0                           0   \n",
       "\n",
       "       discharge_disposition_id_18  glimepiride_No  number_diagnoses  \\\n",
       "44949                            0               1                 9   \n",
       "75798                            0               1                 9   \n",
       "10604                            0               1                 6   \n",
       "2883                             0               1                 9   \n",
       "1297                             0               1                 4   \n",
       "...                            ...             ...               ...   \n",
       "48815                            0               1                 8   \n",
       "7575                             0               1                 3   \n",
       "75919                            0               1                 8   \n",
       "916                              0               0                 8   \n",
       "21009                            0               1                 9   \n",
       "\n",
       "       race_Hispanic  insulin_No  \n",
       "44949              0           1  \n",
       "75798              0           1  \n",
       "10604              0           0  \n",
       "2883               0           0  \n",
       "1297               0           0  \n",
       "...              ...         ...  \n",
       "48815              0           0  \n",
       "7575               1           1  \n",
       "75919              0           1  \n",
       "916                0           1  \n",
       "21009              0           0  \n",
       "\n",
       "[48041 rows x 40 columns]"
      ]
     },
     "execution_count": 24,
     "metadata": {},
     "output_type": "execute_result"
    }
   ],
   "source": [
    "# choose the top 40 features with highest coefficient\n",
    "best_coefs = sorted_coef_df['Variable'].iloc[:40]\n",
    "X_train_best_features = X_train[best_coefs]\n",
    "X_test_best_features = X_test[best_coefs]\n",
    "\n",
    "X_train_best_features"
   ]
  },
  {
   "cell_type": "code",
   "execution_count": 25,
   "metadata": {},
   "outputs": [
    {
     "data": {
      "text/html": [
       "<style>#sk-container-id-2 {color: black;background-color: white;}#sk-container-id-2 pre{padding: 0;}#sk-container-id-2 div.sk-toggleable {background-color: white;}#sk-container-id-2 label.sk-toggleable__label {cursor: pointer;display: block;width: 100%;margin-bottom: 0;padding: 0.3em;box-sizing: border-box;text-align: center;}#sk-container-id-2 label.sk-toggleable__label-arrow:before {content: \"▸\";float: left;margin-right: 0.25em;color: #696969;}#sk-container-id-2 label.sk-toggleable__label-arrow:hover:before {color: black;}#sk-container-id-2 div.sk-estimator:hover label.sk-toggleable__label-arrow:before {color: black;}#sk-container-id-2 div.sk-toggleable__content {max-height: 0;max-width: 0;overflow: hidden;text-align: left;background-color: #f0f8ff;}#sk-container-id-2 div.sk-toggleable__content pre {margin: 0.2em;color: black;border-radius: 0.25em;background-color: #f0f8ff;}#sk-container-id-2 input.sk-toggleable__control:checked~div.sk-toggleable__content {max-height: 200px;max-width: 100%;overflow: auto;}#sk-container-id-2 input.sk-toggleable__control:checked~label.sk-toggleable__label-arrow:before {content: \"▾\";}#sk-container-id-2 div.sk-estimator input.sk-toggleable__control:checked~label.sk-toggleable__label {background-color: #d4ebff;}#sk-container-id-2 div.sk-label input.sk-toggleable__control:checked~label.sk-toggleable__label {background-color: #d4ebff;}#sk-container-id-2 input.sk-hidden--visually {border: 0;clip: rect(1px 1px 1px 1px);clip: rect(1px, 1px, 1px, 1px);height: 1px;margin: -1px;overflow: hidden;padding: 0;position: absolute;width: 1px;}#sk-container-id-2 div.sk-estimator {font-family: monospace;background-color: #f0f8ff;border: 1px dotted black;border-radius: 0.25em;box-sizing: border-box;margin-bottom: 0.5em;}#sk-container-id-2 div.sk-estimator:hover {background-color: #d4ebff;}#sk-container-id-2 div.sk-parallel-item::after {content: \"\";width: 100%;border-bottom: 1px solid gray;flex-grow: 1;}#sk-container-id-2 div.sk-label:hover label.sk-toggleable__label {background-color: #d4ebff;}#sk-container-id-2 div.sk-serial::before {content: \"\";position: absolute;border-left: 1px solid gray;box-sizing: border-box;top: 0;bottom: 0;left: 50%;z-index: 0;}#sk-container-id-2 div.sk-serial {display: flex;flex-direction: column;align-items: center;background-color: white;padding-right: 0.2em;padding-left: 0.2em;position: relative;}#sk-container-id-2 div.sk-item {position: relative;z-index: 1;}#sk-container-id-2 div.sk-parallel {display: flex;align-items: stretch;justify-content: center;background-color: white;position: relative;}#sk-container-id-2 div.sk-item::before, #sk-container-id-2 div.sk-parallel-item::before {content: \"\";position: absolute;border-left: 1px solid gray;box-sizing: border-box;top: 0;bottom: 0;left: 50%;z-index: -1;}#sk-container-id-2 div.sk-parallel-item {display: flex;flex-direction: column;z-index: 1;position: relative;background-color: white;}#sk-container-id-2 div.sk-parallel-item:first-child::after {align-self: flex-end;width: 50%;}#sk-container-id-2 div.sk-parallel-item:last-child::after {align-self: flex-start;width: 50%;}#sk-container-id-2 div.sk-parallel-item:only-child::after {width: 0;}#sk-container-id-2 div.sk-dashed-wrapped {border: 1px dashed gray;margin: 0 0.4em 0.5em 0.4em;box-sizing: border-box;padding-bottom: 0.4em;background-color: white;}#sk-container-id-2 div.sk-label label {font-family: monospace;font-weight: bold;display: inline-block;line-height: 1.2em;}#sk-container-id-2 div.sk-label-container {text-align: center;}#sk-container-id-2 div.sk-container {/* jupyter's `normalize.less` sets `[hidden] { display: none; }` but bootstrap.min.css set `[hidden] { display: none !important; }` so we also need the `!important` here to be able to override the default hidden behavior on the sphinx rendered scikit-learn.org. See: https://github.com/scikit-learn/scikit-learn/issues/21755 */display: inline-block !important;position: relative;}#sk-container-id-2 div.sk-text-repr-fallback {display: none;}</style><div id=\"sk-container-id-2\" class=\"sk-top-container\"><div class=\"sk-text-repr-fallback\"><pre>LogisticRegression(C=10, class_weight=&#x27;balanced&#x27;, random_state=42)</pre><b>In a Jupyter environment, please rerun this cell to show the HTML representation or trust the notebook. <br />On GitHub, the HTML representation is unable to render, please try loading this page with nbviewer.org.</b></div><div class=\"sk-container\" hidden><div class=\"sk-item\"><div class=\"sk-estimator sk-toggleable\"><input class=\"sk-toggleable__control sk-hidden--visually\" id=\"sk-estimator-id-4\" type=\"checkbox\" checked><label for=\"sk-estimator-id-4\" class=\"sk-toggleable__label sk-toggleable__label-arrow\">LogisticRegression</label><div class=\"sk-toggleable__content\"><pre>LogisticRegression(C=10, class_weight=&#x27;balanced&#x27;, random_state=42)</pre></div></div></div></div></div>"
      ],
      "text/plain": [
       "LogisticRegression(C=10, class_weight='balanced', random_state=42)"
      ]
     },
     "execution_count": 25,
     "metadata": {},
     "output_type": "execute_result"
    }
   ],
   "source": [
    "# train new model with best features\n",
    "clf_trim = LogisticRegression(class_weight='balanced', C=best_c, penalty=best_penalty, random_state=42, max_iter=100)\n",
    "clf_trim.fit(X_train_best_features, y_train)"
   ]
  },
  {
   "cell_type": "code",
   "execution_count": 26,
   "metadata": {},
   "outputs": [
    {
     "name": "stdout",
     "output_type": "stream",
     "text": [
      "Accuracy after cross validation: 0.5968235465539852\n"
     ]
    }
   ],
   "source": [
    "# predict on the test set\n",
    "y_pred = clf_trim.predict(X_test_best_features)\n",
    "\n",
    "# evaluate the accuracy of the model\n",
    "accuracy = accuracy_score(y_test, y_pred)\n",
    "print(\"Accuracy after cross validation:\", accuracy)"
   ]
  },
  {
   "cell_type": "code",
   "execution_count": 27,
   "metadata": {},
   "outputs": [
    {
     "data": {
      "text/plain": [
       "0.5265215239980208"
      ]
     },
     "execution_count": 27,
     "metadata": {},
     "output_type": "execute_result"
    }
   ],
   "source": [
    "f1_score(y_train, clf.predict(X_train))"
   ]
  },
  {
   "cell_type": "code",
   "execution_count": 28,
   "metadata": {},
   "outputs": [
    {
     "data": {
      "text/plain": [
       "0.5157081457224724"
      ]
     },
     "execution_count": 28,
     "metadata": {},
     "output_type": "execute_result"
    }
   ],
   "source": [
    "f1_score(y_train, best_model.predict(X_train))"
   ]
  },
  {
   "cell_type": "code",
   "execution_count": 29,
   "metadata": {},
   "outputs": [
    {
     "data": {
      "text/plain": [
       "0.5363726175272884"
      ]
     },
     "execution_count": 29,
     "metadata": {},
     "output_type": "execute_result"
    }
   ],
   "source": [
    "f1_score(y_train, clf_trim.predict(X_train_best_features))"
   ]
  },
  {
   "attachments": {},
   "cell_type": "markdown",
   "metadata": {},
   "source": [
    "Note: A good F1 score (the harmonic mean of precision and recall) means that you have low false positives and low false negatives, so you're correctly identifying real threats and you are not disturbed by false alarms. An F1 score is considered perfect when it's 1 , while the model is a total failure when it's 0"
   ]
  },
  {
   "cell_type": "code",
   "execution_count": 30,
   "metadata": {},
   "outputs": [
    {
     "name": "stdout",
     "output_type": "stream",
     "text": [
      "All Predictor Variables:  101\n",
      "Best Predictor Variables: 40\n"
     ]
    },
    {
     "data": {
      "image/png": "[encoded data removed]",
      "text/plain": [
       "<Figure size 864x288 with 2 Axes>"
      ]
     },
     "metadata": {
      "needs_background": "light"
     },
     "output_type": "display_data"
    }
   ],
   "source": [
    "# compare the results of model with all features to model with fewer features\n",
    "fig, ax = plt.subplots(1, 2, figsize=(12, 4))\n",
    "\n",
    "ax[0].bar(['All Predictors', 'Best Predictors'], \n",
    "          [best_model.score(X_train, y_train), clf_trim.score(X_train_best_features, y_train)], \n",
    "          color=['b', 'r'])\n",
    "\n",
    "ax[1].bar(['All Predictors', 'Best Predictors'], \n",
    "          [f1_score(y_train, best_model.predict(X_train)), f1_score(y_train, clf_trim.predict(X_train_best_features))], \n",
    "          color=['b', 'r'])\n",
    "\n",
    "ax[0].set(title='Accuracy', ylabel='Score')\n",
    "ax[1].set(title='F1-Score', ylabel='Score')\n",
    "\n",
    "print(f'All Predictor Variables:  {len(best_model.coef_[0, :])}')\n",
    "print(f'Best Predictor Variables: {len(clf_trim.coef_[0, :])}')\n",
    "\n",
    "plt.show()"
   ]
  },
  {
   "attachments": {},
   "cell_type": "markdown",
   "metadata": {},
   "source": [
    "After running grid search cross validation we identified the best C hyper-tuning parameter to be 10 with l2 regularization. Using these hyper-tuning parameters we identified the top 40 features that had the most significant impact on the model based on their coefficients. We re-trained the logistic regression model using only these 40 features and compared the accuracy and F1-score to that of the original model with 101 variables. The accuracy of the second model on the trained data is about the same as the accuracy of the original model, while the F1-score of the second model is about .02 higher than the F1-score of the original model. Due to this slight increase in performance we will stick with the second model (40 features) and moving forward."
   ]
  },
  {
   "attachments": {},
   "cell_type": "markdown",
   "metadata": {},
   "source": [
    "## 6. Analyze Model Performance on Training Data"
   ]
  },
  {
   "cell_type": "code",
   "execution_count": 32,
   "metadata": {},
   "outputs": [
    {
     "name": "stdout",
     "output_type": "stream",
     "text": [
      "Threshold = 0.5\n"
     ]
    },
    {
     "data": {
      "image/png": "[encoded data removed]",
      "text/plain": [
       "<Figure size 720x432 with 2 Axes>"
      ]
     },
     "metadata": {
      "needs_background": "light"
     },
     "output_type": "display_data"
    },
    {
     "name": "stdout",
     "output_type": "stream",
     "text": [
      "              precision    recall  f1-score   support\n",
      "\n",
      "           0       0.68      0.62      0.65     28603\n",
      "           1       0.50      0.57      0.54     19438\n",
      "\n",
      "    accuracy                           0.60     48041\n",
      "   macro avg       0.59      0.60      0.59     48041\n",
      "weighted avg       0.61      0.60      0.60     48041\n",
      "\n"
     ]
    }
   ],
   "source": [
    "# make predictions for training data\n",
    "\n",
    "y_pred = clf_trim.predict(X_train_best_features)\n",
    "#y_pred = best_model.predict(X_train)\n",
    "\n",
    "# create confusion matrix and classification report\n",
    "fig, ax = plt.subplots(figsize=(10, 6))\n",
    "mat = confusion_matrix(y_train, y_pred)\n",
    "sns.heatmap(mat, square=True, annot=True, fmt='d', cmap='coolwarm', xticklabels=[0, 1], yticklabels=[0, 1])\n",
    "ax.set(xlabel='Predicted Label')\n",
    "ax.set(ylabel='True Label')\n",
    "print('Threshold = 0.5')\n",
    "plt.show()\n",
    "print(classification_report(y_train, y_pred))"
   ]
  },
  {
   "cell_type": "code",
   "execution_count": 33,
   "metadata": {},
   "outputs": [
    {
     "name": "stdout",
     "output_type": "stream",
     "text": [
      "Threshold = 0.4\n"
     ]
    },
    {
     "data": {
      "image/png": "[encoded data removed]",
      "text/plain": [
       "<Figure size 720x432 with 2 Axes>"
      ]
     },
     "metadata": {
      "needs_background": "light"
     },
     "output_type": "display_data"
    },
    {
     "name": "stdout",
     "output_type": "stream",
     "text": [
      "              precision    recall  f1-score   support\n",
      "\n",
      "           0       0.77      0.22      0.34     28603\n",
      "           1       0.44      0.90      0.59     19438\n",
      "\n",
      "    accuracy                           0.50     48041\n",
      "   macro avg       0.60      0.56      0.47     48041\n",
      "weighted avg       0.63      0.50      0.44     48041\n",
      "\n"
     ]
    }
   ],
   "source": [
    "y_pred = np.where(clf_trim.predict_proba(X_train_best_features)[:,1] > .4, 1, 0)\n",
    "#y_pred = np.where(best_model.predict_proba(X_train)[:,1] > .4, 1, 0)\n",
    "\n",
    "# create confusion matrix\n",
    "\n",
    "fig, ax = plt.subplots(figsize=(10, 6))\n",
    "mat = confusion_matrix(y_train, y_pred)\n",
    "sns.heatmap(mat, square=True, annot=True, fmt='d', cmap='coolwarm', xticklabels=[0, 1], yticklabels=[0, 1])\n",
    "ax.set(xlabel='Predicted Label')\n",
    "ax.set(ylabel='True Label')\n",
    "print('Threshold = 0.4')\n",
    "plt.show()\n",
    "print(classification_report(y_train, y_pred))"
   ]
  },
  {
   "cell_type": "code",
   "execution_count": 34,
   "metadata": {},
   "outputs": [
    {
     "name": "stdout",
     "output_type": "stream",
     "text": [
      "Threshold = 0.6\n"
     ]
    },
    {
     "data": {
      "image/png": "[encoded data removed]",
      "text/plain": [
       "<Figure size 720x432 with 2 Axes>"
      ]
     },
     "metadata": {
      "needs_background": "light"
     },
     "output_type": "display_data"
    },
    {
     "name": "stdout",
     "output_type": "stream",
     "text": [
      "              precision    recall  f1-score   support\n",
      "\n",
      "           0       0.63      0.90      0.74     28603\n",
      "           1       0.60      0.23      0.33     19438\n",
      "\n",
      "    accuracy                           0.63     48041\n",
      "   macro avg       0.62      0.56      0.54     48041\n",
      "weighted avg       0.62      0.63      0.57     48041\n",
      "\n"
     ]
    }
   ],
   "source": [
    "y_pred = np.where(clf_trim.predict_proba(X_train_best_features)[:,1] > .6, 1, 0)\n",
    "#y_pred = np.where(best_model.predict_proba(X_train)[:,1] > .6, 1, 0)\n",
    "\n",
    "# create confusion matrix\n",
    "\n",
    "fig, ax = plt.subplots(figsize=(10, 6))\n",
    "mat = confusion_matrix(y_train, y_pred)\n",
    "sns.heatmap(mat, square=True, annot=True, fmt='d', cmap='coolwarm', xticklabels=[0, 1], yticklabels=[0, 1])\n",
    "ax.set(xlabel='Predicted Label')\n",
    "ax.set(ylabel='True Label')\n",
    "print('Threshold = 0.6')\n",
    "plt.show()\n",
    "print(classification_report(y_train, y_pred))"
   ]
  },
  {
   "attachments": {},
   "cell_type": "markdown",
   "metadata": {},
   "source": [
    "After analyzing model performance on the training data at various threshold, it appears that a 0.6 threshold yields a slightly higher accuracy than the default 0.5 threshold:\n",
    "- Threshold: 0.5 Accuracy: .60\n",
    "- Threshold: 0.4 Accuracy: .50\n",
    "- Threshold: 0.6 Accuracy: .63\n",
    "\n",
    "But at the cost of a much lower F1-score:\n",
    "- Threshold: 0.5 F1-Score: .54\n",
    "- Threshold: 0.4 F1-Score: .59\n",
    "- Threshold: 0.6 F1-Score: .33\n",
    "\n",
    "May be business analyst who has domain knowledge could determine which is more important here - catching more at-risk patients for re-admission at the cost of a larger false positive rate, or maximizing overall accuracy. Given the slight decline in accuracy for a much higher F1-score though, we will consider the 0.5 threshold to be the best performer."
   ]
  },
  {
   "attachments": {},
   "cell_type": "markdown",
   "metadata": {},
   "source": [
    "## 7. Analyze Model Performance on Testing Data"
   ]
  },
  {
   "cell_type": "code",
   "execution_count": 35,
   "metadata": {},
   "outputs": [
    {
     "data": {
      "image/png": "[encoded data removed]",
      "text/plain": [
       "<Figure size 432x360 with 2 Axes>"
      ]
     },
     "metadata": {
      "needs_background": "light"
     },
     "output_type": "display_data"
    },
    {
     "name": "stdout",
     "output_type": "stream",
     "text": [
      "              precision    recall  f1-score   support\n",
      "\n",
      "           0       0.68      0.61      0.65     12277\n",
      "           1       0.50      0.57      0.53      8312\n",
      "\n",
      "    accuracy                           0.60     20589\n",
      "   macro avg       0.59      0.59      0.59     20589\n",
      "weighted avg       0.61      0.60      0.60     20589\n",
      "\n"
     ]
    }
   ],
   "source": [
    "# make predictions for testing data\n",
    "\n",
    "y_pred = clf_trim.predict(X_test_best_features)\n",
    "\n",
    "# create confusion matrix and classification report\n",
    "fig, ax = plt.subplots(figsize=(6, 5))\n",
    "mat = confusion_matrix(y_test, y_pred)\n",
    "sns.heatmap(mat, square=True, annot=True, fmt='d', cmap='coolwarm', xticklabels=[0, 1], yticklabels=[0, 1])\n",
    "ax.set(xlabel='Predicted Label')\n",
    "ax.set(ylabel='True Label')\n",
    "plt.show()\n",
    "print(classification_report(y_test, y_pred))"
   ]
  },
  {
   "attachments": {},
   "cell_type": "markdown",
   "metadata": {},
   "source": [
    "The trimmed model is more balanced between precision and recall. However the positive class (readmitted=1) still suffers from poor performance. Namely, there is only a 50% (precision=0.50) chance that the patient actually needs to be readmitted when the model says the patient should be admitted. Perhaps it's better that recall is higher than precision because it's better to be safe than sorry and be better at identifying positive cases"
   ]
  },
  {
   "attachments": {},
   "cell_type": "markdown",
   "metadata": {},
   "source": [
    "## 8. Plot ROC Curve"
   ]
  },
  {
   "cell_type": "code",
   "execution_count": 36,
   "metadata": {},
   "outputs": [
    {
     "data": {
      "image/png": "[encoded data removed]",
      "text/plain": [
       "<Figure size 432x360 with 1 Axes>"
      ]
     },
     "metadata": {
      "needs_background": "light"
     },
     "output_type": "display_data"
    }
   ],
   "source": [
    "# create ROC-AUC curve\n",
    "\n",
    "roc_auc = roc_auc_score(y_test, y_pred)\n",
    "fpr, tpr, thresholds = roc_curve(y_test, clf_trim.predict_proba(X_test_best_features)[:, 1])\n",
    "\n",
    "fig, ax = plt.subplots(figsize=(6,5))\n",
    "ax.plot(fpr, tpr, label=f'Logistic Regression Area: {roc_auc.round(4)}')\n",
    "ax.plot([0, 1], [0, 1], 'r--')\n",
    "ax.set(xlim=[0.0, 1.0], ylim=[0.0, 1.0], xlabel='False Positive Rate', \n",
    "       ylabel='True Positive Rate', title='Receiver Operating Characteristic')\n",
    "ax.legend(loc='lower right')\n",
    "plt.show()"
   ]
  },
  {
   "attachments": {},
   "cell_type": "markdown",
   "metadata": {},
   "source": [
    "According to the ROC curve, our model is slightly better than random chance"
   ]
  },
  {
   "attachments": {},
   "cell_type": "markdown",
   "metadata": {},
   "source": [
    "## 9. Summarize Results\n",
    "\n",
    "### Performance on Test Dataset\n",
    "The accuracy of the logistic regression model on the test data is 60% with a .53 F1-score. The breakdown of readmitted patients on the total dataset is 40.7% readmitted and 59.3% not readmitted. Therefore the results of our logistic regression model are barely better than simply guessing that all patients will not have to be readmitted (59.3% accuracy) and it is a better than randomly guessing (50% accuracy) as seen in the ROC-AUC graph.\n",
    "\n",
    "By specifying weight class imbalance when training our model we were greatly able to even out the errors between false positives and false negatives as opposed to overwehlmingly guessing the majority class and having a higher false negative rate. This led to a higher F1-score, but did not have much of an impact on accuracy.\n",
    "\n",
    "### Model Performance on Train vs Test Datasets\n",
    "A positive for the model is that in all scenarios the training results and testing results were very close together, implying that the model is likely not overfitting, but might be underfitting. We ran grid search on 2 regularization hyper-parameters (C and penalty) which both decrease the chance that the model will overfit the training data. The confusion matrices and classification reports for the training data and testing data was very similar implying stability in the model.\n",
    "\n",
    "### Final Thoughts\n",
    "Despite a decent amount of pre-processing, the logistic regression model performed quite poorly on predicting which patients are at risk of re-admission. Additional feature engineering with the help of domain expertise could possibly improve accuracy, but most likely logistic regression is not the right model for this problem."
   ]
  },
  {
   "cell_type": "code",
   "execution_count": null,
   "metadata": {},
   "outputs": [],
   "source": [
    "import datetime\n",
    "import pytz\n",
    "\n",
    "datetime.datetime.now(pytz.timezone('US/Central')).strftime(\"%a, %d %B %Y %H:%M:%S\")"
   ]
  },
  {
   "cell_type": "code",
   "execution_count": null,
   "metadata": {},
   "outputs": [],
   "source": []
  }
 ],
 "metadata": {
  "kernelspec": {
   "display_name": "Python 3 (ipykernel)",
   "language": "python",
   "name": "python3"
  },
  "language_info": {
   "codemirror_mode": {
    "name": "ipython",
    "version": 3
   },
   "file_extension": ".py",
   "mimetype": "text/x-python",
   "name": "python",
   "nbconvert_exporter": "python",
   "pygments_lexer": "ipython3",
   "version": "3.10.4"
  },
  "vscode": {
   "interpreter": {
    "hash": "369f2c481f4da34e4445cda3fffd2e751bd1c4d706f27375911949ba6bb62e1c"
   }
  }
 },
 "nbformat": 4,
 "nbformat_minor": 4
}
