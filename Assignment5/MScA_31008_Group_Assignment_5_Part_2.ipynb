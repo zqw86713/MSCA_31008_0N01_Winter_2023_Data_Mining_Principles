{
 "cells": [
  {
   "attachments": {},
   "cell_type": "markdown",
   "metadata": {
    "tags": []
   },
   "source": [
    "# MSCA 31008 - Data Mining Assignment 5 Part 2 (Group 4)\n",
    "<b>Qingwei Zhang, Jake Brewer, Prinu Mathew</b><br>\n",
    "<b>Winter 2023</b>"
   ]
  },
  {
   "cell_type": "markdown",
   "metadata": {
    "tags": []
   },
   "source": [
    "### Import Libraries  "
   ]
  },
  {
   "cell_type": "code",
   "execution_count": 1,
   "metadata": {},
   "outputs": [],
   "source": [
    "import sys, os, json, subprocess\n",
    "\n",
    "## for data\n",
    "import pandas as pd\n",
    "import numpy as np\n",
    "import datetime\n",
    "import random\n",
    "\n",
    "## for machine learning\n",
    "from scipy import stats\n",
    "\n",
    "import warnings\n",
    "\n",
    "warnings.filterwarnings(\"ignore\")\n"
   ]
  },
  {
   "cell_type": "code",
   "execution_count": 2,
   "metadata": {},
   "outputs": [
    {
     "name": "stdout",
     "output_type": "stream",
     "text": [
      "~~~ Already installed required packages for machine learning ~~~~\n"
     ]
    }
   ],
   "source": [
    "## for machine learning\n",
    "try:\n",
    "    from sklearn.discriminant_analysis import LinearDiscriminantAnalysis\n",
    "    from sklearn.discriminant_analysis import QuadraticDiscriminantAnalysis\n",
    "    from sklearn.model_selection import train_test_split, GridSearchCV\n",
    "    from sklearn.metrics import confusion_matrix, classification_report, f1_score, roc_auc_score, roc_curve\n",
    "\n",
    "    print(\"~~~ Already installed required packages for machine learning ~~~~\")\n",
    "except Exception as e:\n",
    "    print(e)\n",
    "\n",
    "    print(\"~~~ Installing required packages for machine learning ~~~~\")\n",
    "    subprocess.check_call(\n",
    "        [sys.executable, \"-m\", \"pip\", \"install\", \"--upgrade\", \"kneed\"]\n",
    "    )\n",
    "    subprocess.check_call(\n",
    "        [sys.executable, \"-m\", \"pip\", \"install\", \"--upgrade\", \"scikit-learn\"]\n",
    "    )\n",
    "    from sklearn.discriminant_analysis import LinearDiscriminantAnalysis\n",
    "    from sklearn.discriminant_analysis import QuadraticDiscriminantAnalysis\n",
    "    from sklearn.model_selection import train_test_split, GridSearchCV\n",
    "    from sklearn.metrics import confusion_matrix, classification_report, f1_score, roc_auc_score, roc_curve\n"
   ]
  },
  {
   "cell_type": "code",
   "execution_count": 3,
   "metadata": {},
   "outputs": [
    {
     "name": "stdout",
     "output_type": "stream",
     "text": [
      "~~~ Already installed required packages for interactive visualizations ~~~~\n"
     ]
    }
   ],
   "source": [
    "## for interactive visualization\n",
    "try:\n",
    "    import matplotlib.pyplot as plt\n",
    "    import seaborn as sns\n",
    "    \n",
    "    print(\"~~~ Already installed required packages for interactive visualizations ~~~~\")\n",
    "except Exception as e:\n",
    "    print(e)\n",
    "    \n",
    "    print(\"~~~ Installing required packages for interactive visualizations ~~~~\")\n",
    "    subprocess.check_call([sys.executable, \"-m\", \"pip\", \"install\", \"--upgrade\", \"matplotlib\"])\n",
    "    subprocess.check_call([sys.executable, \"-m\", \"pip\", \"install\", \"--upgrade\", \"seaborn\"])\n",
    "    import matplotlib.pyplot as plt\n",
    "    import seaborn as sns\n",
    "    \n",
    "%matplotlib inline"
   ]
  },
  {
   "attachments": {},
   "cell_type": "markdown",
   "metadata": {},
   "source": [
    "## 0. Load and Explore Data"
   ]
  },
  {
   "cell_type": "code",
   "execution_count": 4,
   "metadata": {},
   "outputs": [
    {
     "data": {
      "text/html": [
       "<div>\n",
       "<style scoped>\n",
       "    .dataframe tbody tr th:only-of-type {\n",
       "        vertical-align: middle;\n",
       "    }\n",
       "\n",
       "    .dataframe tbody tr th {\n",
       "        vertical-align: top;\n",
       "    }\n",
       "\n",
       "    .dataframe thead th {\n",
       "        text-align: right;\n",
       "    }\n",
       "</style>\n",
       "<table border=\"1\" class=\"dataframe\">\n",
       "  <thead>\n",
       "    <tr style=\"text-align: right;\">\n",
       "      <th></th>\n",
       "      <th>age</th>\n",
       "      <th>time_in_hospital</th>\n",
       "      <th>num_lab_procedures</th>\n",
       "      <th>num_procedures</th>\n",
       "      <th>num_medications</th>\n",
       "      <th>number_outpatient</th>\n",
       "      <th>number_emergency</th>\n",
       "      <th>number_inpatient</th>\n",
       "      <th>number_diagnoses</th>\n",
       "      <th>change</th>\n",
       "      <th>...</th>\n",
       "      <th>troglitazone_Steady</th>\n",
       "      <th>tolazamide_Steady</th>\n",
       "      <th>insulin_No</th>\n",
       "      <th>insulin_Steady</th>\n",
       "      <th>insulin_Up</th>\n",
       "      <th>glyburide-metformin_No</th>\n",
       "      <th>glyburide-metformin_Steady</th>\n",
       "      <th>glyburide-metformin_Up</th>\n",
       "      <th>glipizide-metformin_Steady</th>\n",
       "      <th>metformin-pioglitazone_Steady</th>\n",
       "    </tr>\n",
       "  </thead>\n",
       "  <tbody>\n",
       "    <tr>\n",
       "      <th>0</th>\n",
       "      <td>15</td>\n",
       "      <td>3</td>\n",
       "      <td>59</td>\n",
       "      <td>0</td>\n",
       "      <td>18</td>\n",
       "      <td>0</td>\n",
       "      <td>0</td>\n",
       "      <td>0</td>\n",
       "      <td>9</td>\n",
       "      <td>1</td>\n",
       "      <td>...</td>\n",
       "      <td>0</td>\n",
       "      <td>0</td>\n",
       "      <td>0</td>\n",
       "      <td>0</td>\n",
       "      <td>1</td>\n",
       "      <td>1</td>\n",
       "      <td>0</td>\n",
       "      <td>0</td>\n",
       "      <td>0</td>\n",
       "      <td>0</td>\n",
       "    </tr>\n",
       "    <tr>\n",
       "      <th>1</th>\n",
       "      <td>25</td>\n",
       "      <td>2</td>\n",
       "      <td>11</td>\n",
       "      <td>5</td>\n",
       "      <td>13</td>\n",
       "      <td>2</td>\n",
       "      <td>0</td>\n",
       "      <td>1</td>\n",
       "      <td>6</td>\n",
       "      <td>0</td>\n",
       "      <td>...</td>\n",
       "      <td>0</td>\n",
       "      <td>0</td>\n",
       "      <td>1</td>\n",
       "      <td>0</td>\n",
       "      <td>0</td>\n",
       "      <td>1</td>\n",
       "      <td>0</td>\n",
       "      <td>0</td>\n",
       "      <td>0</td>\n",
       "      <td>0</td>\n",
       "    </tr>\n",
       "    <tr>\n",
       "      <th>2</th>\n",
       "      <td>35</td>\n",
       "      <td>2</td>\n",
       "      <td>44</td>\n",
       "      <td>1</td>\n",
       "      <td>16</td>\n",
       "      <td>0</td>\n",
       "      <td>0</td>\n",
       "      <td>0</td>\n",
       "      <td>7</td>\n",
       "      <td>1</td>\n",
       "      <td>...</td>\n",
       "      <td>0</td>\n",
       "      <td>0</td>\n",
       "      <td>0</td>\n",
       "      <td>0</td>\n",
       "      <td>1</td>\n",
       "      <td>1</td>\n",
       "      <td>0</td>\n",
       "      <td>0</td>\n",
       "      <td>0</td>\n",
       "      <td>0</td>\n",
       "    </tr>\n",
       "    <tr>\n",
       "      <th>3</th>\n",
       "      <td>45</td>\n",
       "      <td>1</td>\n",
       "      <td>51</td>\n",
       "      <td>0</td>\n",
       "      <td>8</td>\n",
       "      <td>0</td>\n",
       "      <td>0</td>\n",
       "      <td>0</td>\n",
       "      <td>5</td>\n",
       "      <td>1</td>\n",
       "      <td>...</td>\n",
       "      <td>0</td>\n",
       "      <td>0</td>\n",
       "      <td>0</td>\n",
       "      <td>1</td>\n",
       "      <td>0</td>\n",
       "      <td>1</td>\n",
       "      <td>0</td>\n",
       "      <td>0</td>\n",
       "      <td>0</td>\n",
       "      <td>0</td>\n",
       "    </tr>\n",
       "    <tr>\n",
       "      <th>4</th>\n",
       "      <td>55</td>\n",
       "      <td>3</td>\n",
       "      <td>31</td>\n",
       "      <td>6</td>\n",
       "      <td>16</td>\n",
       "      <td>0</td>\n",
       "      <td>0</td>\n",
       "      <td>0</td>\n",
       "      <td>9</td>\n",
       "      <td>0</td>\n",
       "      <td>...</td>\n",
       "      <td>0</td>\n",
       "      <td>0</td>\n",
       "      <td>0</td>\n",
       "      <td>1</td>\n",
       "      <td>0</td>\n",
       "      <td>1</td>\n",
       "      <td>0</td>\n",
       "      <td>0</td>\n",
       "      <td>0</td>\n",
       "      <td>0</td>\n",
       "    </tr>\n",
       "  </tbody>\n",
       "</table>\n",
       "<p>5 rows × 102 columns</p>\n",
       "</div>"
      ],
      "text/plain": [
       "   age  time_in_hospital  num_lab_procedures  num_procedures  num_medications  \\\n",
       "0   15                 3                  59               0               18   \n",
       "1   25                 2                  11               5               13   \n",
       "2   35                 2                  44               1               16   \n",
       "3   45                 1                  51               0                8   \n",
       "4   55                 3                  31               6               16   \n",
       "\n",
       "   number_outpatient  number_emergency  number_inpatient  number_diagnoses  \\\n",
       "0                  0                 0                 0                 9   \n",
       "1                  2                 0                 1                 6   \n",
       "2                  0                 0                 0                 7   \n",
       "3                  0                 0                 0                 5   \n",
       "4                  0                 0                 0                 9   \n",
       "\n",
       "   change  ...  troglitazone_Steady  tolazamide_Steady  insulin_No  \\\n",
       "0       1  ...                    0                  0           0   \n",
       "1       0  ...                    0                  0           1   \n",
       "2       1  ...                    0                  0           0   \n",
       "3       1  ...                    0                  0           0   \n",
       "4       0  ...                    0                  0           0   \n",
       "\n",
       "   insulin_Steady  insulin_Up  glyburide-metformin_No  \\\n",
       "0               0           1                       1   \n",
       "1               0           0                       1   \n",
       "2               0           1                       1   \n",
       "3               1           0                       1   \n",
       "4               1           0                       1   \n",
       "\n",
       "   glyburide-metformin_Steady  glyburide-metformin_Up  \\\n",
       "0                           0                       0   \n",
       "1                           0                       0   \n",
       "2                           0                       0   \n",
       "3                           0                       0   \n",
       "4                           0                       0   \n",
       "\n",
       "   glipizide-metformin_Steady  metformin-pioglitazone_Steady  \n",
       "0                           0                              0  \n",
       "1                           0                              0  \n",
       "2                           0                              0  \n",
       "3                           0                              0  \n",
       "4                           0                              0  \n",
       "\n",
       "[5 rows x 102 columns]"
      ]
     },
     "execution_count": 4,
     "metadata": {},
     "output_type": "execute_result"
    }
   ],
   "source": [
    "# import the preprocess data from part 1\n",
    "\n",
    "input_df = pd.read_csv('diabetes_data_preprocess.csv')\n",
    "input_df.head()"
   ]
  },
  {
   "cell_type": "code",
   "execution_count": 5,
   "metadata": {},
   "outputs": [
    {
     "name": "stdout",
     "output_type": "stream",
     "text": [
      "<class 'pandas.core.frame.DataFrame'>\n",
      "RangeIndex: 68630 entries, 0 to 68629\n",
      "Columns: 102 entries, age to metformin-pioglitazone_Steady\n",
      "dtypes: int64(102)\n",
      "memory usage: 53.4 MB\n"
     ]
    }
   ],
   "source": [
    "# view data types and number of non-null values in each column\n",
    "input_df.info()\n"
   ]
  },
  {
   "attachments": {},
   "cell_type": "markdown",
   "metadata": {},
   "source": [
    "## 1. Split Data into Training (70%) and Testing (30%)"
   ]
  },
  {
   "cell_type": "code",
   "execution_count": 6,
   "metadata": {},
   "outputs": [
    {
     "data": {
      "text/plain": [
       "0    28603\n",
       "1    19438\n",
       "Name: readmitted, dtype: int64"
      ]
     },
     "execution_count": 6,
     "metadata": {},
     "output_type": "execute_result"
    }
   ],
   "source": [
    "# split into train and test using random state for reproducable results (exact same split as used in assignment 4)\n",
    "\n",
    "X = input_df.drop(columns=['readmitted'])\n",
    "y = input_df['readmitted']\n",
    "X_train, X_test, y_train, y_test = train_test_split(X, y, test_size=.3, random_state=42)\n",
    "y_train.value_counts() # y_train value counts are same as in assignment 4"
   ]
  },
  {
   "attachments": {},
   "cell_type": "markdown",
   "metadata": {},
   "source": [
    "## 2. Build Linear Discriminant Analysis and Quadratic Discriminant Analysis Models on Train Data"
   ]
  },
  {
   "cell_type": "code",
   "execution_count": 7,
   "metadata": {},
   "outputs": [
    {
     "name": "stdout",
     "output_type": "stream",
     "text": [
      "LDA Accuracy Performance on Train Data: 0.6285464499073707\n"
     ]
    },
    {
     "data": {
      "image/png": "[encoded data removed]",
      "text/plain": [
       "<Figure size 432x360 with 2 Axes>"
      ]
     },
     "metadata": {
      "needs_background": "light"
     },
     "output_type": "display_data"
    },
    {
     "name": "stdout",
     "output_type": "stream",
     "text": [
      "              precision    recall  f1-score   support\n",
      "\n",
      "           0       0.63      0.89      0.74     28603\n",
      "           1       0.60      0.25      0.35     19438\n",
      "\n",
      "    accuracy                           0.63     48041\n",
      "   macro avg       0.62      0.57      0.55     48041\n",
      "weighted avg       0.62      0.63      0.58     48041\n",
      "\n"
     ]
    }
   ],
   "source": [
    "# Linear Discriminant Analysis\n",
    "\n",
    "LDA = LinearDiscriminantAnalysis()\n",
    "lda_model =  LDA.fit(X_train, y_train)\n",
    "lda_pred = lda_model.predict(X_train)\n",
    "print(f'LDA Accuracy Performance on Train Data: {lda_model.score(X_train, y_train)}')\n",
    "\n",
    "# create confusion matrix and classification report\n",
    "fig, ax = plt.subplots(figsize=(6, 5))\n",
    "mat = confusion_matrix(y_train, lda_pred)\n",
    "sns.heatmap(mat, square=True, annot=True, fmt='d', cmap='coolwarm', xticklabels=[0, 1], yticklabels=[0, 1])\n",
    "ax.set(xlabel='Predicted Label')\n",
    "ax.set(ylabel='True Label')\n",
    "plt.show()\n",
    "print(classification_report(y_train, lda_pred))"
   ]
  },
  {
   "cell_type": "code",
   "execution_count": 8,
   "metadata": {},
   "outputs": [
    {
     "name": "stdout",
     "output_type": "stream",
     "text": [
      "QDA Accuracy Performance on Train Data: 0.4336087924897483\n"
     ]
    },
    {
     "data": {
      "image/png": "[encoded data removed]",
      "text/plain": [
       "<Figure size 432x360 with 2 Axes>"
      ]
     },
     "metadata": {
      "needs_background": "light"
     },
     "output_type": "display_data"
    },
    {
     "name": "stdout",
     "output_type": "stream",
     "text": [
      "              precision    recall  f1-score   support\n",
      "\n",
      "           0       0.76      0.07      0.13     28603\n",
      "           1       0.41      0.97      0.58     19438\n",
      "\n",
      "    accuracy                           0.43     48041\n",
      "   macro avg       0.59      0.52      0.36     48041\n",
      "weighted avg       0.62      0.43      0.31     48041\n",
      "\n"
     ]
    }
   ],
   "source": [
    "# Quadratic Discriminant Analysis\n",
    "\n",
    "QDA = QuadraticDiscriminantAnalysis()\n",
    "qda_model =  QDA.fit(X_train, y_train)\n",
    "qda_pred = qda_model.predict(X_train)\n",
    "print(f'QDA Accuracy Performance on Train Data: {qda_model.score(X_train, y_train)}')\n",
    "\n",
    "# create confusion matrix and classification report\n",
    "fig, ax = plt.subplots(figsize=(6, 5))\n",
    "mat = confusion_matrix(y_train, qda_pred)\n",
    "sns.heatmap(mat, square=True, annot=True, fmt='d', cmap='coolwarm', xticklabels=[0, 1], yticklabels=[0, 1])\n",
    "ax.set(xlabel='Predicted Label')\n",
    "ax.set(ylabel='True Label')\n",
    "plt.show()\n",
    "print(classification_report(y_train, qda_pred))"
   ]
  },
  {
   "attachments": {},
   "cell_type": "markdown",
   "metadata": {},
   "source": [
    "## 3. Perform Test Validation of LDA and QDA Using Test Data"
   ]
  },
  {
   "cell_type": "code",
   "execution_count": 9,
   "metadata": {},
   "outputs": [
    {
     "data": {
      "image/png": "[encoded data removed]",
      "text/plain": [
       "<Figure size 432x360 with 2 Axes>"
      ]
     },
     "metadata": {
      "needs_background": "light"
     },
     "output_type": "display_data"
    },
    {
     "name": "stdout",
     "output_type": "stream",
     "text": [
      "              precision    recall  f1-score   support\n",
      "\n",
      "           0       0.63      0.88      0.73     12277\n",
      "           1       0.57      0.24      0.34      8312\n",
      "\n",
      "    accuracy                           0.62     20589\n",
      "   macro avg       0.60      0.56      0.54     20589\n",
      "weighted avg       0.61      0.62      0.58     20589\n",
      "\n"
     ]
    }
   ],
   "source": [
    "# Linear Discriminant Analysis\n",
    "\n",
    "lda_pred = lda_model.predict(X_test)\n",
    "\n",
    "# create confusion matrix and classification report\n",
    "fig, ax = plt.subplots(figsize=(6, 5))\n",
    "mat = confusion_matrix(y_test, lda_pred)\n",
    "sns.heatmap(mat, square=True, annot=True, fmt='d', cmap='coolwarm', xticklabels=[0, 1], yticklabels=[0, 1])\n",
    "ax.set(xlabel='Predicted Label')\n",
    "ax.set(ylabel='True Label')\n",
    "plt.show()\n",
    "print(classification_report(y_test, lda_pred))"
   ]
  },
  {
   "cell_type": "code",
   "execution_count": 10,
   "metadata": {},
   "outputs": [
    {
     "name": "stdout",
     "output_type": "stream",
     "text": [
      "QDA Accuracy Performance on Test Data: 0.43430958278692505\n"
     ]
    },
    {
     "data": {
      "image/png": "[encoded data removed]",
      "text/plain": [
       "<Figure size 432x360 with 2 Axes>"
      ]
     },
     "metadata": {
      "needs_background": "light"
     },
     "output_type": "display_data"
    },
    {
     "name": "stdout",
     "output_type": "stream",
     "text": [
      "              precision    recall  f1-score   support\n",
      "\n",
      "           0       0.77      0.07      0.13     12277\n",
      "           1       0.41      0.97      0.58      8312\n",
      "\n",
      "    accuracy                           0.43     20589\n",
      "   macro avg       0.59      0.52      0.36     20589\n",
      "weighted avg       0.63      0.43      0.31     20589\n",
      "\n"
     ]
    }
   ],
   "source": [
    "# Quadratic Discriminant Analysis\n",
    "\n",
    "qda_pred = qda_model.predict(X_test)\n",
    "print(f'QDA Accuracy Performance on Test Data: {qda_model.score(X_test, y_test)}')\n",
    "\n",
    "# create confusion matrix and classification report\n",
    "fig, ax = plt.subplots(figsize=(6, 5))\n",
    "mat = confusion_matrix(y_test, qda_pred)\n",
    "sns.heatmap(mat, square=True, annot=True, fmt='d', cmap='coolwarm', xticklabels=[0, 1], yticklabels=[0, 1])\n",
    "ax.set(xlabel='Predicted Label')\n",
    "ax.set(ylabel='True Label')\n",
    "plt.show()\n",
    "print(classification_report(y_test, qda_pred))"
   ]
  },
  {
   "cell_type": "code",
   "execution_count": 11,
   "metadata": {},
   "outputs": [
    {
     "name": "stdout",
     "output_type": "stream",
     "text": [
      "Percent of times LDA and QDA made the same prediction: 21.59% --- 4445\n",
      "Accuracy by predicting only majority class: 59.63%\n"
     ]
    }
   ],
   "source": [
    "pct_overlap = (sum(lda_pred == qda_pred) / len(lda_pred) * 100).round(2)\n",
    "pct_readmitted = np.float64((sum(y_test) / len(y_test)) * 100).round(2)\n",
    "print(f'Percent of times LDA and QDA made the same prediction: {pct_overlap}% --- {sum(lda_pred == qda_pred)}')\n",
    "print(f'Accuracy by predicting only majority class: {100 - pct_readmitted}%')"
   ]
  },
  {
   "cell_type": "code",
   "execution_count": 12,
   "metadata": {},
   "outputs": [
    {
     "name": "stdout",
     "output_type": "stream",
     "text": [
      "Total cases correctly predicted by LDA and QDA 13.59% --- 2799\n"
     ]
    }
   ],
   "source": [
    "cnt = 0\n",
    "for i in range(len(lda_pred)):\n",
    "    if lda_pred[i] == qda_pred[i] and qda_pred[i] == y_test.iloc[i]:\n",
    "        cnt += 1\n",
    "pct_correct = np.float64((cnt / len(y_test)) * 100).round(2)\n",
    "print(f'Total cases correctly predicted by LDA and QDA {pct_correct}% --- {cnt}')"
   ]
  },
  {
   "attachments": {},
   "cell_type": "markdown",
   "metadata": {},
   "source": [
    "## 4. Results Summary"
   ]
  },
  {
   "attachments": {},
   "cell_type": "markdown",
   "metadata": {},
   "source": [
    "In both the training and testing data, LDA outperformed QDA. LDA overly favored the majority class (0 / not readmitted), while QDA overly favored the minority class (1 / readmitted). In both LDA and QDA, training and testing performance was very similar. LDA had a testing accuracy of 62% and and f-score of 0.34, while QDA had a testing accuracy of 43% and an f-score of 0.58 (due to the fact that QDA predicted 1 with higher score). Both models are poor predictors of readmittance when considering that exclusively predicting the majority class would yield an accuracy of 59.63%. \n",
    "\n",
    "LDA and QDA predicted different results in over 80% of cases in the testing data (they predicted the same results in 21.59% of the test data). Of the 4,445 overlapping predictions, only 2,799 were correct predictions. It is not suprising that the overlap in the 2 models is low, because as we could see from the confusion matrices, LDA and QDA picked predicted opposite classes the majority of the time. "
   ]
  },
  {
   "cell_type": "code",
   "execution_count": 13,
   "metadata": {},
   "outputs": [
    {
     "data": {
      "text/plain": [
       "'Tue, 28 February 2023 19:27:56'"
      ]
     },
     "execution_count": 13,
     "metadata": {},
     "output_type": "execute_result"
    }
   ],
   "source": [
    "import datetime\n",
    "import pytz\n",
    "\n",
    "datetime.datetime.now(pytz.timezone('US/Central')).strftime(\"%a, %d %B %Y %H:%M:%S\")"
   ]
  },
  {
   "cell_type": "code",
   "execution_count": null,
   "metadata": {},
   "outputs": [],
   "source": []
  }
 ],
 "metadata": {
  "kernelspec": {
   "display_name": "Python 3",
   "language": "python",
   "name": "python3"
  },
  "language_info": {
   "codemirror_mode": {
    "name": "ipython",
    "version": 3
   },
   "file_extension": ".py",
   "mimetype": "text/x-python",
   "name": "python",
   "nbconvert_exporter": "python",
   "pygments_lexer": "ipython3",
   "version": "3.10.4"
  },
  "vscode": {
   "interpreter": {
    "hash": "369f2c481f4da34e4445cda3fffd2e751bd1c4d706f27375911949ba6bb62e1c"
   }
  }
 },
 "nbformat": 4,
 "nbformat_minor": 4
}
